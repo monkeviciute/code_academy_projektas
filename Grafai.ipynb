{
 "cells": [
  {
   "cell_type": "code",
   "execution_count": 1,
   "id": "8944422d",
   "metadata": {},
   "outputs": [],
   "source": [
    "import networkx as nx\n",
    "import pandas as pd\n",
    "import matplotlib.pyplot as plt\n",
    "import numpy as np\n",
    "import seaborn as sns\n",
    "import scipy"
   ]
  },
  {
   "cell_type": "markdown",
   "id": "6526dc01",
   "metadata": {},
   "source": [
    "## Pilnas grafas"
   ]
  },
  {
   "cell_type": "markdown",
   "id": "633805bb",
   "metadata": {},
   "source": [
    "### Sukuriamas grafas iš visų viršūnių ir briaunų"
   ]
  },
  {
   "cell_type": "code",
   "execution_count": 2,
   "id": "37c74ef5",
   "metadata": {},
   "outputs": [],
   "source": [
    "df = pd.read_csv('edges_pilnas.csv')\n",
    "Graphtype = nx.MultiDiGraph()\n",
    "graph = nx.from_pandas_edgelist(df, source='source', target='target', edge_attr='weight', create_using=Graphtype)"
   ]
  },
  {
   "cell_type": "markdown",
   "id": "4f1a64fe",
   "metadata": {},
   "source": [
    "### Grafas nagrinėjamas apskaičiuojant įvairius rodiklius"
   ]
  },
  {
   "cell_type": "markdown",
   "id": "40264e8a",
   "metadata": {},
   "source": [
    "#### Viršūnių laipsniai, viršūnių laipsnių pasiskirstymas"
   ]
  },
  {
   "cell_type": "code",
   "execution_count": 3,
   "id": "8f366210",
   "metadata": {},
   "outputs": [],
   "source": [
    "degrees = [val for (node, val) in graph.degree()]"
   ]
  },
  {
   "cell_type": "code",
   "execution_count": 4,
   "id": "51f6d16c",
   "metadata": {},
   "outputs": [],
   "source": [
    "degrees_count = {i:degrees.count(i) for i in degrees}"
   ]
  },
  {
   "cell_type": "code",
   "execution_count": 5,
   "id": "a4954db9",
   "metadata": {},
   "outputs": [],
   "source": [
    "sorted_values_degrees = sorted(degrees_count.values(), reverse=True) # Sort the values\n",
    "sorted_dict_degrees = {}\n",
    "\n",
    "for i in sorted_values_degrees:\n",
    "    for k in degrees_count.keys():\n",
    "        if degrees_count[k] == i:\n",
    "            sorted_dict_degrees[k] = degrees_count[k]\n",
    "            break"
   ]
  },
  {
   "cell_type": "code",
   "execution_count": 6,
   "id": "5dd50d1e",
   "metadata": {},
   "outputs": [],
   "source": [
    "degrees_count_10 = pd.DataFrame(list(sorted_dict_degrees.items())[:10])"
   ]
  },
  {
   "cell_type": "code",
   "execution_count": 7,
   "id": "b15fd4d0",
   "metadata": {},
   "outputs": [
    {
     "data": {
      "text/html": [
       "<div>\n",
       "<style scoped>\n",
       "    .dataframe tbody tr th:only-of-type {\n",
       "        vertical-align: middle;\n",
       "    }\n",
       "\n",
       "    .dataframe tbody tr th {\n",
       "        vertical-align: top;\n",
       "    }\n",
       "\n",
       "    .dataframe thead th {\n",
       "        text-align: right;\n",
       "    }\n",
       "</style>\n",
       "<table border=\"1\" class=\"dataframe\">\n",
       "  <thead>\n",
       "    <tr style=\"text-align: right;\">\n",
       "      <th></th>\n",
       "      <th>0</th>\n",
       "      <th>1</th>\n",
       "    </tr>\n",
       "  </thead>\n",
       "  <tbody>\n",
       "    <tr>\n",
       "      <th>0</th>\n",
       "      <td>1</td>\n",
       "      <td>708</td>\n",
       "    </tr>\n",
       "    <tr>\n",
       "      <th>1</th>\n",
       "      <td>3</td>\n",
       "      <td>707</td>\n",
       "    </tr>\n",
       "    <tr>\n",
       "      <th>2</th>\n",
       "      <td>2</td>\n",
       "      <td>654</td>\n",
       "    </tr>\n",
       "    <tr>\n",
       "      <th>3</th>\n",
       "      <td>4</td>\n",
       "      <td>596</td>\n",
       "    </tr>\n",
       "    <tr>\n",
       "      <th>4</th>\n",
       "      <td>5</td>\n",
       "      <td>419</td>\n",
       "    </tr>\n",
       "    <tr>\n",
       "      <th>5</th>\n",
       "      <td>6</td>\n",
       "      <td>337</td>\n",
       "    </tr>\n",
       "    <tr>\n",
       "      <th>6</th>\n",
       "      <td>7</td>\n",
       "      <td>258</td>\n",
       "    </tr>\n",
       "    <tr>\n",
       "      <th>7</th>\n",
       "      <td>9</td>\n",
       "      <td>202</td>\n",
       "    </tr>\n",
       "    <tr>\n",
       "      <th>8</th>\n",
       "      <td>8</td>\n",
       "      <td>187</td>\n",
       "    </tr>\n",
       "    <tr>\n",
       "      <th>9</th>\n",
       "      <td>10</td>\n",
       "      <td>132</td>\n",
       "    </tr>\n",
       "  </tbody>\n",
       "</table>\n",
       "</div>"
      ],
      "text/plain": [
       "    0    1\n",
       "0   1  708\n",
       "1   3  707\n",
       "2   2  654\n",
       "3   4  596\n",
       "4   5  419\n",
       "5   6  337\n",
       "6   7  258\n",
       "7   9  202\n",
       "8   8  187\n",
       "9  10  132"
      ]
     },
     "execution_count": 7,
     "metadata": {},
     "output_type": "execute_result"
    }
   ],
   "source": [
    "degrees_count_10"
   ]
  },
  {
   "cell_type": "code",
   "execution_count": 8,
   "id": "1f47b1c6",
   "metadata": {},
   "outputs": [],
   "source": [
    "degrees_all = pd.DataFrame(list(sorted_dict_degrees.items()))"
   ]
  },
  {
   "cell_type": "code",
   "execution_count": 9,
   "id": "2249e714",
   "metadata": {
    "scrolled": true
   },
   "outputs": [
    {
     "data": {
      "image/png": "[encoded data removed]",
      "text/plain": [
       "<Figure size 1080x468 with 1 Axes>"
      ]
     },
     "metadata": {},
     "output_type": "display_data"
    }
   ],
   "source": [
    "sns.set_theme(style=\"whitegrid\", font_scale=1.3, font=\"Times New Roman\")\n",
    "f, ax = plt.subplots(figsize=(15, 6.5))\n",
    "ax.grid(False)\n",
    "ax = sns.barplot(x=0, y=1, data=degrees_all, color='skyblue')\n",
    "plt.ylabel('Viršūnių laipsnių skaičius')\n",
    "plt.xlabel('Viršūnių laipsniai');"
   ]
  },
  {
   "cell_type": "code",
   "execution_count": 10,
   "id": "5fc7c587",
   "metadata": {},
   "outputs": [],
   "source": [
    "virsuniu_statistika = scipy.stats.describe(degrees)"
   ]
  },
  {
   "cell_type": "code",
   "execution_count": 11,
   "id": "b4e830a0",
   "metadata": {},
   "outputs": [],
   "source": [
    "virsunes = pd.DataFrame([virsuniu_statistika], columns=virsuniu_statistika._fields)"
   ]
  },
  {
   "cell_type": "code",
   "execution_count": 12,
   "id": "77f0fb61",
   "metadata": {},
   "outputs": [
    {
     "data": {
      "text/html": [
       "<div>\n",
       "<style scoped>\n",
       "    .dataframe tbody tr th:only-of-type {\n",
       "        vertical-align: middle;\n",
       "    }\n",
       "\n",
       "    .dataframe tbody tr th {\n",
       "        vertical-align: top;\n",
       "    }\n",
       "\n",
       "    .dataframe thead th {\n",
       "        text-align: right;\n",
       "    }\n",
       "</style>\n",
       "<table border=\"1\" class=\"dataframe\">\n",
       "  <thead>\n",
       "    <tr style=\"text-align: right;\">\n",
       "      <th></th>\n",
       "      <th>nobs</th>\n",
       "      <th>minmax</th>\n",
       "      <th>mean</th>\n",
       "      <th>variance</th>\n",
       "      <th>skewness</th>\n",
       "      <th>kurtosis</th>\n",
       "    </tr>\n",
       "  </thead>\n",
       "  <tbody>\n",
       "    <tr>\n",
       "      <th>0</th>\n",
       "      <td>5366</td>\n",
       "      <td>(1, 385)</td>\n",
       "      <td>10.299292</td>\n",
       "      <td>403.585711</td>\n",
       "      <td>5.315163</td>\n",
       "      <td>41.368719</td>\n",
       "    </tr>\n",
       "  </tbody>\n",
       "</table>\n",
       "</div>"
      ],
      "text/plain": [
       "   nobs    minmax       mean    variance  skewness   kurtosis\n",
       "0  5366  (1, 385)  10.299292  403.585711  5.315163  41.368719"
      ]
     },
     "execution_count": 12,
     "metadata": {},
     "output_type": "execute_result"
    }
   ],
   "source": [
    "virsunes"
   ]
  },
  {
   "cell_type": "markdown",
   "id": "c1a848e0",
   "metadata": {},
   "source": [
    "#### https://www.geeksforgeeks.org/scipy-stats-skew-python/"
   ]
  },
  {
   "cell_type": "code",
   "execution_count": 13,
   "id": "8d3806bd",
   "metadata": {},
   "outputs": [
    {
     "name": "stderr",
     "output_type": "stream",
     "text": [
      "c:\\users\\ruta\\desktop\\studijos\\4 semestras\\02. python\\venv\\lib\\site-packages\\seaborn\\distributions.py:2619: FutureWarning: `distplot` is a deprecated function and will be removed in a future version. Please adapt your code to use either `displot` (a figure-level function with similar flexibility) or `histplot` (an axes-level function for histograms).\n",
      "  warnings.warn(msg, FutureWarning)\n"
     ]
    },
    {
     "name": "stdout",
     "output_type": "stream",
     "text": [
      "Skewness: 5.315163\n",
      "Kurtosis: 41.368719\n"
     ]
    },
    {
     "data": {
      "image/png": "[encoded data removed]",
      "text/plain": [
       "<Figure size 720x468 with 1 Axes>"
      ]
     },
     "metadata": {},
     "output_type": "display_data"
    }
   ],
   "source": [
    "sns.set_theme(style=\"whitegrid\", font_scale=1.3, font=\"Times New Roman\")\n",
    "f, ax = plt.subplots(figsize=(10, 6.5))\n",
    "ax.grid(False)\n",
    "sns.distplot( degrees, color='blue')\n",
    "print(\"Skewness: %f\" % scipy.stats.skew(degrees))\n",
    "print(\"Kurtosis: %f\" % scipy.stats.kurtosis(degrees))\n",
    "plt.ylabel('Tankis')\n",
    "plt.xlabel('Viršūnių laipsniai');"
   ]
  },
  {
   "cell_type": "markdown",
   "id": "01b7bbfc",
   "metadata": {},
   "source": [
    "#### Grafo jungumo matai"
   ]
  },
  {
   "cell_type": "markdown",
   "id": "66d9eace",
   "metadata": {},
   "source": [
    "### https://stackoverflow.com/questions/56624273/understanding-average-degree-connectivity-in-networkx"
   ]
  },
  {
   "cell_type": "code",
   "execution_count": 14,
   "id": "59527bc0",
   "metadata": {},
   "outputs": [],
   "source": [
    "average_degree_connectivity = nx.average_degree_connectivity(graph)"
   ]
  },
  {
   "cell_type": "code",
   "execution_count": 15,
   "id": "7a9b7dc5",
   "metadata": {},
   "outputs": [],
   "source": [
    "df_degree = pd.DataFrame(list(average_degree_connectivity.items()))"
   ]
  },
  {
   "cell_type": "code",
   "execution_count": 16,
   "id": "0c5dd27a",
   "metadata": {},
   "outputs": [
    {
     "data": {
      "text/html": [
       "<div>\n",
       "<style scoped>\n",
       "    .dataframe tbody tr th:only-of-type {\n",
       "        vertical-align: middle;\n",
       "    }\n",
       "\n",
       "    .dataframe tbody tr th {\n",
       "        vertical-align: top;\n",
       "    }\n",
       "\n",
       "    .dataframe thead th {\n",
       "        text-align: right;\n",
       "    }\n",
       "</style>\n",
       "<table border=\"1\" class=\"dataframe\">\n",
       "  <thead>\n",
       "    <tr style=\"text-align: right;\">\n",
       "      <th></th>\n",
       "      <th>0</th>\n",
       "      <th>1</th>\n",
       "    </tr>\n",
       "  </thead>\n",
       "  <tbody>\n",
       "    <tr>\n",
       "      <th>0</th>\n",
       "      <td>3</td>\n",
       "      <td>17.255540</td>\n",
       "    </tr>\n",
       "    <tr>\n",
       "      <th>1</th>\n",
       "      <td>45</td>\n",
       "      <td>12.871111</td>\n",
       "    </tr>\n",
       "    <tr>\n",
       "      <th>2</th>\n",
       "      <td>15</td>\n",
       "      <td>15.743860</td>\n",
       "    </tr>\n",
       "    <tr>\n",
       "      <th>3</th>\n",
       "      <td>14</td>\n",
       "      <td>13.000000</td>\n",
       "    </tr>\n",
       "    <tr>\n",
       "      <th>4</th>\n",
       "      <td>119</td>\n",
       "      <td>61.171934</td>\n",
       "    </tr>\n",
       "    <tr>\n",
       "      <th>...</th>\n",
       "      <td>...</td>\n",
       "      <td>...</td>\n",
       "    </tr>\n",
       "    <tr>\n",
       "      <th>78</th>\n",
       "      <td>58</td>\n",
       "      <td>20.051724</td>\n",
       "    </tr>\n",
       "    <tr>\n",
       "      <th>79</th>\n",
       "      <td>91</td>\n",
       "      <td>7.956044</td>\n",
       "    </tr>\n",
       "    <tr>\n",
       "      <th>80</th>\n",
       "      <td>102</td>\n",
       "      <td>13.754902</td>\n",
       "    </tr>\n",
       "    <tr>\n",
       "      <th>81</th>\n",
       "      <td>41</td>\n",
       "      <td>4.878049</td>\n",
       "    </tr>\n",
       "    <tr>\n",
       "      <th>82</th>\n",
       "      <td>100</td>\n",
       "      <td>11.490000</td>\n",
       "    </tr>\n",
       "  </tbody>\n",
       "</table>\n",
       "<p>83 rows × 2 columns</p>\n",
       "</div>"
      ],
      "text/plain": [
       "      0          1\n",
       "0     3  17.255540\n",
       "1    45  12.871111\n",
       "2    15  15.743860\n",
       "3    14  13.000000\n",
       "4   119  61.171934\n",
       "..  ...        ...\n",
       "78   58  20.051724\n",
       "79   91   7.956044\n",
       "80  102  13.754902\n",
       "81   41   4.878049\n",
       "82  100  11.490000\n",
       "\n",
       "[83 rows x 2 columns]"
      ]
     },
     "execution_count": 16,
     "metadata": {},
     "output_type": "execute_result"
    }
   ],
   "source": [
    "df_degree"
   ]
  },
  {
   "cell_type": "code",
   "execution_count": 17,
   "id": "e8693913",
   "metadata": {},
   "outputs": [],
   "source": [
    "#connectivity = nx.average_node_connectivity(graph)"
   ]
  },
  {
   "cell_type": "code",
   "execution_count": 18,
   "id": "5af9e455",
   "metadata": {},
   "outputs": [
    {
     "data": {
      "text/plain": [
       "Text(0.5, 0, 'Viršūnių laipsniai')"
      ]
     },
     "execution_count": 18,
     "metadata": {},
     "output_type": "execute_result"
    },
    {
     "data": {
      "image/png": "[encoded data removed]",
      "text/plain": [
       "<Figure size 720x468 with 1 Axes>"
      ]
     },
     "metadata": {},
     "output_type": "display_data"
    }
   ],
   "source": [
    "sns.set_theme(style=\"whitegrid\", font_scale=1.3, font=\"Times New Roman\")\n",
    "f, ax = plt.subplots(figsize=(10, 6.5))\n",
    "ax.grid(False)\n",
    "plt.plot(*zip(*sorted(average_degree_connectivity.items())), color='skyblue')\n",
    "plt.ylabel('Vidutiniai viršūnių laipsniai')\n",
    "plt.xlabel('Viršūnių laipsniai')"
   ]
  },
  {
   "cell_type": "code",
   "execution_count": 19,
   "id": "26f6058a",
   "metadata": {},
   "outputs": [],
   "source": [
    "average_neighbor_degree = nx.average_neighbor_degree(graph)"
   ]
  },
  {
   "cell_type": "code",
   "execution_count": 20,
   "id": "1216b246",
   "metadata": {
    "scrolled": true
   },
   "outputs": [
    {
     "data": {
      "text/plain": [
       "Text(0.5, 0, 'Viršūnės')"
      ]
     },
     "execution_count": 20,
     "metadata": {},
     "output_type": "execute_result"
    },
    {
     "data": {
      "image/png": "[encoded data removed]",
      "text/plain": [
       "<Figure size 720x468 with 1 Axes>"
      ]
     },
     "metadata": {},
     "output_type": "display_data"
    }
   ],
   "source": [
    "sns.set_theme(style=\"whitegrid\", font_scale=1.3, font=\"Times New Roman\")\n",
    "f, ax = plt.subplots(figsize=(10, 6.5))\n",
    "ax.grid(False)\n",
    "plt.plot(*zip(*sorted(average_neighbor_degree.items())), color='skyblue')\n",
    "plt.ylabel('Vidutiniai kaimyninių viršūnių laipsniai')\n",
    "plt.xlabel('Viršūnės')"
   ]
  },
  {
   "cell_type": "markdown",
   "id": "a763f284",
   "metadata": {},
   "source": [
    "#### Laipsnių koreliacija"
   ]
  },
  {
   "cell_type": "markdown",
   "id": "ecde96ad",
   "metadata": {},
   "source": [
    "#### https://ona-book.org/similarity.html"
   ]
  },
  {
   "cell_type": "code",
   "execution_count": 21,
   "id": "abdbc989",
   "metadata": {},
   "outputs": [
    {
     "data": {
      "text/plain": [
       "0.298"
      ]
     },
     "execution_count": 21,
     "metadata": {},
     "output_type": "execute_result"
    }
   ],
   "source": [
    "nx.degree_assortativity_coefficient(graph).round(3)"
   ]
  },
  {
   "cell_type": "code",
   "execution_count": 22,
   "id": "9794ad8e",
   "metadata": {},
   "outputs": [
    {
     "data": {
      "text/plain": [
       "0.298"
      ]
     },
     "execution_count": 22,
     "metadata": {},
     "output_type": "execute_result"
    }
   ],
   "source": [
    "nx.degree_pearson_correlation_coefficient(graph).round(3)"
   ]
  },
  {
   "cell_type": "markdown",
   "id": "c5affa65",
   "metadata": {},
   "source": [
    "#### Grafo skersmuo "
   ]
  },
  {
   "cell_type": "markdown",
   "id": "d57ed85c",
   "metadata": {},
   "source": [
    "#### This finds the maximum distance of a list containing the shortest paths between any two nodes in G (computed with Dijkstra's algorithm), regardless of what component they may belong to. Technically, diameter is infinite for disconnected graphs which is why NetworkX's built-in method does not work. The method above will find the largest diameter amongst all components within G, but is not the diameter of G itself."
   ]
  },
  {
   "cell_type": "code",
   "execution_count": 23,
   "id": "790bddb4",
   "metadata": {},
   "outputs": [],
   "source": [
    "diameter = max([max(j.values()) for (i,j) in nx.shortest_path_length(graph)])"
   ]
  },
  {
   "cell_type": "code",
   "execution_count": 24,
   "id": "95f79d89",
   "metadata": {},
   "outputs": [
    {
     "data": {
      "text/plain": [
       "14"
      ]
     },
     "execution_count": 24,
     "metadata": {},
     "output_type": "execute_result"
    }
   ],
   "source": [
    "diameter"
   ]
  },
  {
   "cell_type": "markdown",
   "id": "b5a21db9",
   "metadata": {},
   "source": [
    "#### Grafo tankumas"
   ]
  },
  {
   "cell_type": "code",
   "execution_count": 25,
   "id": "f6acb084",
   "metadata": {},
   "outputs": [
    {
     "data": {
      "text/plain": [
       "0.0009598594443145705"
      ]
     },
     "execution_count": 25,
     "metadata": {},
     "output_type": "execute_result"
    }
   ],
   "source": [
    "nx.density(graph)"
   ]
  },
  {
   "cell_type": "markdown",
   "id": "dea0c1bf",
   "metadata": {},
   "source": [
    "### Centriškumo matai"
   ]
  },
  {
   "cell_type": "markdown",
   "id": "af75fba2",
   "metadata": {},
   "source": [
    "#### Laipsnio centriškumo matas – svarbiausi tinklo nariai"
   ]
  },
  {
   "cell_type": "code",
   "execution_count": 26,
   "id": "c3545939",
   "metadata": {},
   "outputs": [],
   "source": [
    "pavardes = pd.read_excel('autoriu_pavardes.xlsx')"
   ]
  },
  {
   "cell_type": "code",
   "execution_count": 27,
   "id": "11e5f449",
   "metadata": {},
   "outputs": [],
   "source": [
    "centriskumas = nx.degree_centrality(graph)"
   ]
  },
  {
   "cell_type": "code",
   "execution_count": 28,
   "id": "8312fc12",
   "metadata": {},
   "outputs": [],
   "source": [
    "sorted_values_c = sorted(centriskumas.values(), reverse=True) # Sort the values\n",
    "sorted_dict_c = {}\n",
    "\n",
    "for i in sorted_values_c:\n",
    "    for k in centriskumas.keys():\n",
    "        if centriskumas[k] == i:\n",
    "            sorted_dict_c[k] = centriskumas[k]\n",
    "            break"
   ]
  },
  {
   "cell_type": "code",
   "execution_count": 29,
   "id": "49c9570b",
   "metadata": {},
   "outputs": [],
   "source": [
    "centriskumas_10 = pd.DataFrame(list(sorted_dict_c.items())[:10])"
   ]
  },
  {
   "cell_type": "code",
   "execution_count": 30,
   "id": "2bc81048",
   "metadata": {},
   "outputs": [],
   "source": [
    "centriskumas_10 = pd.merge(centriskumas_10, pavardes, how='left' ,left_on=0, right_on='index')"
   ]
  },
  {
   "cell_type": "code",
   "execution_count": 31,
   "id": "660df5a7",
   "metadata": {},
   "outputs": [],
   "source": [
    "centriskumas_10 = centriskumas_10[['authors', 1]].rename(columns = {'authors' : 'Autorius', 1 : 'Laipsnio centriškumo matas'}, \n",
    "                                                             inplace = False).round(3)"
   ]
  },
  {
   "cell_type": "code",
   "execution_count": 32,
   "id": "4f69ae4d",
   "metadata": {},
   "outputs": [
    {
     "data": {
      "text/html": [
       "<div>\n",
       "<style scoped>\n",
       "    .dataframe tbody tr th:only-of-type {\n",
       "        vertical-align: middle;\n",
       "    }\n",
       "\n",
       "    .dataframe tbody tr th {\n",
       "        vertical-align: top;\n",
       "    }\n",
       "\n",
       "    .dataframe thead th {\n",
       "        text-align: right;\n",
       "    }\n",
       "</style>\n",
       "<table border=\"1\" class=\"dataframe\">\n",
       "  <thead>\n",
       "    <tr style=\"text-align: right;\">\n",
       "      <th></th>\n",
       "      <th>Autorius</th>\n",
       "      <th>Laipsnio centriškumo matas</th>\n",
       "    </tr>\n",
       "  </thead>\n",
       "  <tbody>\n",
       "    <tr>\n",
       "      <th>0</th>\n",
       "      <td>Zavadskas, E. K.</td>\n",
       "      <td>0.072</td>\n",
       "    </tr>\n",
       "    <tr>\n",
       "      <th>1</th>\n",
       "      <td>Kaklauskas, A.</td>\n",
       "      <td>0.029</td>\n",
       "    </tr>\n",
       "    <tr>\n",
       "      <th>2</th>\n",
       "      <td>Liakina, V.</td>\n",
       "      <td>0.025</td>\n",
       "    </tr>\n",
       "    <tr>\n",
       "      <th>3</th>\n",
       "      <td>Turskis, Z.</td>\n",
       "      <td>0.025</td>\n",
       "    </tr>\n",
       "    <tr>\n",
       "      <th>4</th>\n",
       "      <td>Antuchevičienė, J.</td>\n",
       "      <td>0.023</td>\n",
       "    </tr>\n",
       "    <tr>\n",
       "      <th>5</th>\n",
       "      <td>Razavi, S. H.</td>\n",
       "      <td>0.023</td>\n",
       "    </tr>\n",
       "    <tr>\n",
       "      <th>6</th>\n",
       "      <td>Abaalkhail, F.</td>\n",
       "      <td>0.022</td>\n",
       "    </tr>\n",
       "    <tr>\n",
       "      <th>7</th>\n",
       "      <td>Hunsi, R.</td>\n",
       "      <td>0.022</td>\n",
       "    </tr>\n",
       "    <tr>\n",
       "      <th>8</th>\n",
       "      <td>Paršeliūnas, E. K.</td>\n",
       "      <td>0.020</td>\n",
       "    </tr>\n",
       "    <tr>\n",
       "      <th>9</th>\n",
       "      <td>Gribniak, V.</td>\n",
       "      <td>0.020</td>\n",
       "    </tr>\n",
       "  </tbody>\n",
       "</table>\n",
       "</div>"
      ],
      "text/plain": [
       "             Autorius  Laipsnio centriškumo matas\n",
       "0    Zavadskas, E. K.                       0.072\n",
       "1      Kaklauskas, A.                       0.029\n",
       "2         Liakina, V.                       0.025\n",
       "3         Turskis, Z.                       0.025\n",
       "4  Antuchevičienė, J.                       0.023\n",
       "5       Razavi, S. H.                       0.023\n",
       "6      Abaalkhail, F.                       0.022\n",
       "7           Hunsi, R.                       0.022\n",
       "8  Paršeliūnas, E. K.                       0.020\n",
       "9        Gribniak, V.                       0.020"
      ]
     },
     "execution_count": 32,
     "metadata": {},
     "output_type": "execute_result"
    }
   ],
   "source": [
    "centriskumas_10"
   ]
  },
  {
   "cell_type": "markdown",
   "id": "c5730779",
   "metadata": {},
   "source": [
    "#### Artumo centriškumo matas – nariai, esantys arčiausiai kitų narių"
   ]
  },
  {
   "cell_type": "code",
   "execution_count": 33,
   "id": "b29c99ac",
   "metadata": {},
   "outputs": [],
   "source": [
    "artumas = nx.closeness_centrality(graph)"
   ]
  },
  {
   "cell_type": "code",
   "execution_count": 34,
   "id": "b3617883",
   "metadata": {},
   "outputs": [],
   "source": [
    "sorted_values_a = sorted(artumas.values(), reverse=True) # Sort the values\n",
    "sorted_dict_a = {}\n",
    "\n",
    "for i in sorted_values_a:\n",
    "    for k in artumas.keys():\n",
    "        if artumas[k] == i:\n",
    "            sorted_dict_a[k] = artumas[k]\n",
    "            break"
   ]
  },
  {
   "cell_type": "code",
   "execution_count": 35,
   "id": "7aedbc61",
   "metadata": {},
   "outputs": [],
   "source": [
    "artumas_10 = pd.DataFrame(list(sorted_dict_a.items())[:10])"
   ]
  },
  {
   "cell_type": "code",
   "execution_count": 36,
   "id": "44597044",
   "metadata": {},
   "outputs": [],
   "source": [
    "artumas_10 = pd.merge(artumas_10, pavardes, how='left' ,left_on=0, right_on='index')"
   ]
  },
  {
   "cell_type": "code",
   "execution_count": 37,
   "id": "0d0d112c",
   "metadata": {},
   "outputs": [],
   "source": [
    "artumas_10 = artumas_10[['authors', 1]].rename(columns = {'authors' : 'Autorius', 1 : 'Laipsnio centriškumo matas'}, \n",
    "                                                             inplace = False).round(3)"
   ]
  },
  {
   "cell_type": "code",
   "execution_count": 38,
   "id": "46357d2f",
   "metadata": {},
   "outputs": [
    {
     "data": {
      "text/html": [
       "<div>\n",
       "<style scoped>\n",
       "    .dataframe tbody tr th:only-of-type {\n",
       "        vertical-align: middle;\n",
       "    }\n",
       "\n",
       "    .dataframe tbody tr th {\n",
       "        vertical-align: top;\n",
       "    }\n",
       "\n",
       "    .dataframe thead th {\n",
       "        text-align: right;\n",
       "    }\n",
       "</style>\n",
       "<table border=\"1\" class=\"dataframe\">\n",
       "  <thead>\n",
       "    <tr style=\"text-align: right;\">\n",
       "      <th></th>\n",
       "      <th>Autorius</th>\n",
       "      <th>Laipsnio centriškumo matas</th>\n",
       "    </tr>\n",
       "  </thead>\n",
       "  <tbody>\n",
       "    <tr>\n",
       "      <th>0</th>\n",
       "      <td>Zavadskas, E. K.</td>\n",
       "      <td>0.188</td>\n",
       "    </tr>\n",
       "    <tr>\n",
       "      <th>1</th>\n",
       "      <td>Žemeckytė, L.</td>\n",
       "      <td>0.143</td>\n",
       "    </tr>\n",
       "    <tr>\n",
       "      <th>2</th>\n",
       "      <td>Zolfani, S.</td>\n",
       "      <td>0.140</td>\n",
       "    </tr>\n",
       "    <tr>\n",
       "      <th>3</th>\n",
       "      <td>Zhou, W.</td>\n",
       "      <td>0.138</td>\n",
       "    </tr>\n",
       "    <tr>\n",
       "      <th>4</th>\n",
       "      <td>Turskis, Z.</td>\n",
       "      <td>0.102</td>\n",
       "    </tr>\n",
       "    <tr>\n",
       "      <th>5</th>\n",
       "      <td>Vilutienė, T.</td>\n",
       "      <td>0.099</td>\n",
       "    </tr>\n",
       "    <tr>\n",
       "      <th>6</th>\n",
       "      <td>Vinogradova, I.</td>\n",
       "      <td>0.097</td>\n",
       "    </tr>\n",
       "    <tr>\n",
       "      <th>7</th>\n",
       "      <td>Zakarevičius, A.</td>\n",
       "      <td>0.093</td>\n",
       "    </tr>\n",
       "    <tr>\n",
       "      <th>8</th>\n",
       "      <td>Yazdani-Chamzini, A.</td>\n",
       "      <td>0.092</td>\n",
       "    </tr>\n",
       "    <tr>\n",
       "      <th>9</th>\n",
       "      <td>Ustinovičius, L.</td>\n",
       "      <td>0.091</td>\n",
       "    </tr>\n",
       "  </tbody>\n",
       "</table>\n",
       "</div>"
      ],
      "text/plain": [
       "               Autorius  Laipsnio centriškumo matas\n",
       "0      Zavadskas, E. K.                       0.188\n",
       "1         Žemeckytė, L.                       0.143\n",
       "2           Zolfani, S.                       0.140\n",
       "3              Zhou, W.                       0.138\n",
       "4           Turskis, Z.                       0.102\n",
       "5         Vilutienė, T.                       0.099\n",
       "6       Vinogradova, I.                       0.097\n",
       "7      Zakarevičius, A.                       0.093\n",
       "8  Yazdani-Chamzini, A.                       0.092\n",
       "9      Ustinovičius, L.                       0.091"
      ]
     },
     "execution_count": 38,
     "metadata": {},
     "output_type": "execute_result"
    }
   ],
   "source": [
    "artumas_10"
   ]
  },
  {
   "cell_type": "markdown",
   "id": "0d4629b1",
   "metadata": {},
   "source": [
    "#### Tarpusavio centriškumo matas – nariai, turintys daugiausiai trumpiausių ryšių su kitais nariais"
   ]
  },
  {
   "cell_type": "code",
   "execution_count": 39,
   "id": "1a6d50e6",
   "metadata": {},
   "outputs": [],
   "source": [
    "tarpusavio = nx.betweenness_centrality(graph)"
   ]
  },
  {
   "cell_type": "code",
   "execution_count": 40,
   "id": "44277654",
   "metadata": {},
   "outputs": [],
   "source": [
    "sorted_values_t = sorted(tarpusavio.values(), reverse=True) # Sort the values\n",
    "sorted_dict_t = {}\n",
    "\n",
    "for i in sorted_values_t:\n",
    "    for k in tarpusavio.keys():\n",
    "        if tarpusavio[k] == i:\n",
    "            sorted_dict_t[k] = tarpusavio[k]\n",
    "            break"
   ]
  },
  {
   "cell_type": "code",
   "execution_count": 41,
   "id": "5c829658",
   "metadata": {},
   "outputs": [],
   "source": [
    "tarpusavio_10 = pd.DataFrame(list(sorted_dict_t.items())[:10])"
   ]
  },
  {
   "cell_type": "code",
   "execution_count": 42,
   "id": "2526d186",
   "metadata": {},
   "outputs": [],
   "source": [
    "tarpusavio_10 = pd.merge(tarpusavio_10, pavardes, how='left' ,left_on=0, right_on='index')"
   ]
  },
  {
   "cell_type": "code",
   "execution_count": 43,
   "id": "e6148a9e",
   "metadata": {},
   "outputs": [],
   "source": [
    "tarpusavio_10 = tarpusavio_10[['authors', 1]].rename(columns = {'authors' : 'Autorius', 1 : 'Laipsnio centriškumo matas'}, \n",
    "                                                             inplace = False).round(3)"
   ]
  },
  {
   "cell_type": "code",
   "execution_count": 44,
   "id": "1886250f",
   "metadata": {},
   "outputs": [
    {
     "data": {
      "text/html": [
       "<div>\n",
       "<style scoped>\n",
       "    .dataframe tbody tr th:only-of-type {\n",
       "        vertical-align: middle;\n",
       "    }\n",
       "\n",
       "    .dataframe tbody tr th {\n",
       "        vertical-align: top;\n",
       "    }\n",
       "\n",
       "    .dataframe thead th {\n",
       "        text-align: right;\n",
       "    }\n",
       "</style>\n",
       "<table border=\"1\" class=\"dataframe\">\n",
       "  <thead>\n",
       "    <tr style=\"text-align: right;\">\n",
       "      <th></th>\n",
       "      <th>Autorius</th>\n",
       "      <th>Laipsnio centriškumo matas</th>\n",
       "    </tr>\n",
       "  </thead>\n",
       "  <tbody>\n",
       "    <tr>\n",
       "      <th>0</th>\n",
       "      <td>Jučiūtė, E.</td>\n",
       "      <td>0.004</td>\n",
       "    </tr>\n",
       "    <tr>\n",
       "      <th>1</th>\n",
       "      <td>Kačianauskas, R.</td>\n",
       "      <td>0.004</td>\n",
       "    </tr>\n",
       "    <tr>\n",
       "      <th>2</th>\n",
       "      <td>Kaklauskas, A.</td>\n",
       "      <td>0.003</td>\n",
       "    </tr>\n",
       "    <tr>\n",
       "      <th>3</th>\n",
       "      <td>Kilikevičius, A.</td>\n",
       "      <td>0.002</td>\n",
       "    </tr>\n",
       "    <tr>\n",
       "      <th>4</th>\n",
       "      <td>Turskis, Z.</td>\n",
       "      <td>0.001</td>\n",
       "    </tr>\n",
       "    <tr>\n",
       "      <th>5</th>\n",
       "      <td>Prentkovskis, O.</td>\n",
       "      <td>0.001</td>\n",
       "    </tr>\n",
       "    <tr>\n",
       "      <th>6</th>\n",
       "      <td>Kaklauskas, G.</td>\n",
       "      <td>0.001</td>\n",
       "    </tr>\n",
       "    <tr>\n",
       "      <th>7</th>\n",
       "      <td>Gribniak, V.</td>\n",
       "      <td>0.001</td>\n",
       "    </tr>\n",
       "    <tr>\n",
       "      <th>8</th>\n",
       "      <td>Laurinavičius, A.</td>\n",
       "      <td>0.001</td>\n",
       "    </tr>\n",
       "    <tr>\n",
       "      <th>9</th>\n",
       "      <td>Matijošius, J.</td>\n",
       "      <td>0.001</td>\n",
       "    </tr>\n",
       "  </tbody>\n",
       "</table>\n",
       "</div>"
      ],
      "text/plain": [
       "            Autorius  Laipsnio centriškumo matas\n",
       "0        Jučiūtė, E.                       0.004\n",
       "1   Kačianauskas, R.                       0.004\n",
       "2     Kaklauskas, A.                       0.003\n",
       "3   Kilikevičius, A.                       0.002\n",
       "4        Turskis, Z.                       0.001\n",
       "5   Prentkovskis, O.                       0.001\n",
       "6     Kaklauskas, G.                       0.001\n",
       "7       Gribniak, V.                       0.001\n",
       "8  Laurinavičius, A.                       0.001\n",
       "9     Matijošius, J.                       0.001"
      ]
     },
     "execution_count": 44,
     "metadata": {},
     "output_type": "execute_result"
    }
   ],
   "source": [
    "tarpusavio_10"
   ]
  },
  {
   "cell_type": "markdown",
   "id": "d83813e9",
   "metadata": {},
   "source": [
    "## Grafas, iki 20 bendraautorių"
   ]
  },
  {
   "cell_type": "code",
   "execution_count": 45,
   "id": "c01d409c",
   "metadata": {},
   "outputs": [],
   "source": [
    "df = pd.read_csv('edges_adj.csv')\n",
    "Graphtype = nx.MultiDiGraph()\n",
    "graph = nx.from_pandas_edgelist(df, source='source', target='target', edge_attr='weight', create_using=Graphtype)"
   ]
  },
  {
   "cell_type": "markdown",
   "id": "b9b11c0e",
   "metadata": {},
   "source": [
    "#### Viršūnių laipsniai, viršūnių laipsnių pasiskirstymas"
   ]
  },
  {
   "cell_type": "code",
   "execution_count": 46,
   "id": "24461919",
   "metadata": {},
   "outputs": [],
   "source": [
    "degrees = [val for (node, val) in graph.degree()]"
   ]
  },
  {
   "cell_type": "code",
   "execution_count": 47,
   "id": "88d405bf",
   "metadata": {},
   "outputs": [],
   "source": [
    "degrees_count = {i:degrees.count(i) for i in degrees}"
   ]
  },
  {
   "cell_type": "code",
   "execution_count": 48,
   "id": "3acb742f",
   "metadata": {},
   "outputs": [],
   "source": [
    "sorted_values_degrees = sorted(degrees_count.values(), reverse=True) # Sort the values\n",
    "sorted_dict_degrees = {}\n",
    "\n",
    "for i in sorted_values_degrees:\n",
    "    for k in degrees_count.keys():\n",
    "        if degrees_count[k] == i:\n",
    "            sorted_dict_degrees[k] = degrees_count[k]\n",
    "            break"
   ]
  },
  {
   "cell_type": "code",
   "execution_count": 49,
   "id": "ae1c9c96",
   "metadata": {},
   "outputs": [],
   "source": [
    "degrees_count_10 = pd.DataFrame(list(sorted_dict_degrees.items())[:10])"
   ]
  },
  {
   "cell_type": "code",
   "execution_count": 50,
   "id": "d5cd2f82",
   "metadata": {},
   "outputs": [
    {
     "data": {
      "text/html": [
       "<div>\n",
       "<style scoped>\n",
       "    .dataframe tbody tr th:only-of-type {\n",
       "        vertical-align: middle;\n",
       "    }\n",
       "\n",
       "    .dataframe tbody tr th {\n",
       "        vertical-align: top;\n",
       "    }\n",
       "\n",
       "    .dataframe thead th {\n",
       "        text-align: right;\n",
       "    }\n",
       "</style>\n",
       "<table border=\"1\" class=\"dataframe\">\n",
       "  <thead>\n",
       "    <tr style=\"text-align: right;\">\n",
       "      <th></th>\n",
       "      <th>0</th>\n",
       "      <th>1</th>\n",
       "    </tr>\n",
       "  </thead>\n",
       "  <tbody>\n",
       "    <tr>\n",
       "      <th>0</th>\n",
       "      <td>1</td>\n",
       "      <td>708</td>\n",
       "    </tr>\n",
       "    <tr>\n",
       "      <th>1</th>\n",
       "      <td>3</td>\n",
       "      <td>707</td>\n",
       "    </tr>\n",
       "    <tr>\n",
       "      <th>2</th>\n",
       "      <td>2</td>\n",
       "      <td>657</td>\n",
       "    </tr>\n",
       "    <tr>\n",
       "      <th>3</th>\n",
       "      <td>4</td>\n",
       "      <td>598</td>\n",
       "    </tr>\n",
       "    <tr>\n",
       "      <th>4</th>\n",
       "      <td>5</td>\n",
       "      <td>419</td>\n",
       "    </tr>\n",
       "    <tr>\n",
       "      <th>5</th>\n",
       "      <td>6</td>\n",
       "      <td>337</td>\n",
       "    </tr>\n",
       "    <tr>\n",
       "      <th>6</th>\n",
       "      <td>7</td>\n",
       "      <td>258</td>\n",
       "    </tr>\n",
       "    <tr>\n",
       "      <th>7</th>\n",
       "      <td>9</td>\n",
       "      <td>205</td>\n",
       "    </tr>\n",
       "    <tr>\n",
       "      <th>8</th>\n",
       "      <td>8</td>\n",
       "      <td>188</td>\n",
       "    </tr>\n",
       "    <tr>\n",
       "      <th>9</th>\n",
       "      <td>10</td>\n",
       "      <td>132</td>\n",
       "    </tr>\n",
       "  </tbody>\n",
       "</table>\n",
       "</div>"
      ],
      "text/plain": [
       "    0    1\n",
       "0   1  708\n",
       "1   3  707\n",
       "2   2  657\n",
       "3   4  598\n",
       "4   5  419\n",
       "5   6  337\n",
       "6   7  258\n",
       "7   9  205\n",
       "8   8  188\n",
       "9  10  132"
      ]
     },
     "execution_count": 50,
     "metadata": {},
     "output_type": "execute_result"
    }
   ],
   "source": [
    "degrees_count_10"
   ]
  },
  {
   "cell_type": "code",
   "execution_count": 51,
   "id": "eb90ad1f",
   "metadata": {},
   "outputs": [],
   "source": [
    "degrees_all = pd.DataFrame(list(sorted_dict_degrees.items()))"
   ]
  },
  {
   "cell_type": "code",
   "execution_count": 52,
   "id": "84950539",
   "metadata": {
    "scrolled": true
   },
   "outputs": [
    {
     "data": {
      "image/png": "[encoded data removed]",
      "text/plain": [
       "<Figure size 1080x468 with 1 Axes>"
      ]
     },
     "metadata": {},
     "output_type": "display_data"
    }
   ],
   "source": [
    "sns.set_theme(style=\"whitegrid\", font_scale=1.3, font=\"Times New Roman\")\n",
    "f, ax = plt.subplots(figsize=(15, 6.5))\n",
    "ax.grid(False)\n",
    "ax = sns.barplot(x=0, y=1, data=degrees_all, color='skyblue')\n",
    "plt.ylabel('Viršūnių laipsnių skaičius')\n",
    "plt.xlabel('Viršūnių laipsniai');"
   ]
  },
  {
   "cell_type": "code",
   "execution_count": 53,
   "id": "db91781b",
   "metadata": {},
   "outputs": [],
   "source": [
    "virsuniu_statistika = scipy.stats.describe(degrees)"
   ]
  },
  {
   "cell_type": "code",
   "execution_count": 54,
   "id": "915076cf",
   "metadata": {},
   "outputs": [],
   "source": [
    "virsunes = pd.DataFrame([virsuniu_statistika], columns=virsuniu_statistika._fields)"
   ]
  },
  {
   "cell_type": "code",
   "execution_count": 55,
   "id": "e00d7b11",
   "metadata": {},
   "outputs": [
    {
     "data": {
      "text/html": [
       "<div>\n",
       "<style scoped>\n",
       "    .dataframe tbody tr th:only-of-type {\n",
       "        vertical-align: middle;\n",
       "    }\n",
       "\n",
       "    .dataframe tbody tr th {\n",
       "        vertical-align: top;\n",
       "    }\n",
       "\n",
       "    .dataframe thead th {\n",
       "        text-align: right;\n",
       "    }\n",
       "</style>\n",
       "<table border=\"1\" class=\"dataframe\">\n",
       "  <thead>\n",
       "    <tr style=\"text-align: right;\">\n",
       "      <th></th>\n",
       "      <th>nobs</th>\n",
       "      <th>minmax</th>\n",
       "      <th>mean</th>\n",
       "      <th>variance</th>\n",
       "      <th>skewness</th>\n",
       "      <th>kurtosis</th>\n",
       "    </tr>\n",
       "  </thead>\n",
       "  <tbody>\n",
       "    <tr>\n",
       "      <th>0</th>\n",
       "      <td>5182</td>\n",
       "      <td>(1, 385)</td>\n",
       "      <td>7.439213</td>\n",
       "      <td>124.692212</td>\n",
       "      <td>10.879169</td>\n",
       "      <td>275.213975</td>\n",
       "    </tr>\n",
       "  </tbody>\n",
       "</table>\n",
       "</div>"
      ],
      "text/plain": [
       "   nobs    minmax      mean    variance   skewness    kurtosis\n",
       "0  5182  (1, 385)  7.439213  124.692212  10.879169  275.213975"
      ]
     },
     "execution_count": 55,
     "metadata": {},
     "output_type": "execute_result"
    }
   ],
   "source": [
    "virsunes"
   ]
  },
  {
   "cell_type": "markdown",
   "id": "59b11f99",
   "metadata": {},
   "source": [
    "#### https://www.geeksforgeeks.org/scipy-stats-skew-python/"
   ]
  },
  {
   "cell_type": "code",
   "execution_count": 56,
   "id": "92f6423d",
   "metadata": {},
   "outputs": [
    {
     "name": "stderr",
     "output_type": "stream",
     "text": [
      "c:\\users\\ruta\\desktop\\studijos\\4 semestras\\02. python\\venv\\lib\\site-packages\\seaborn\\distributions.py:2619: FutureWarning: `distplot` is a deprecated function and will be removed in a future version. Please adapt your code to use either `displot` (a figure-level function with similar flexibility) or `histplot` (an axes-level function for histograms).\n",
      "  warnings.warn(msg, FutureWarning)\n"
     ]
    },
    {
     "name": "stdout",
     "output_type": "stream",
     "text": [
      "Skewness: 10.879169\n",
      "Kurtosis: 275.213975\n"
     ]
    },
    {
     "data": {
      "image/png": "[encoded data removed]",
      "text/plain": [
       "<Figure size 720x468 with 1 Axes>"
      ]
     },
     "metadata": {},
     "output_type": "display_data"
    }
   ],
   "source": [
    "sns.set_theme(style=\"whitegrid\", font_scale=1.3, font=\"Times New Roman\")\n",
    "f, ax = plt.subplots(figsize=(10, 6.5))\n",
    "ax.grid(False)\n",
    "sns.distplot( degrees, color='blue')\n",
    "print(\"Skewness: %f\" % scipy.stats.skew(degrees))\n",
    "print(\"Kurtosis: %f\" % scipy.stats.kurtosis(degrees))\n",
    "plt.ylabel('Tankis')\n",
    "plt.xlabel('Viršūnių laipsniai');"
   ]
  },
  {
   "cell_type": "markdown",
   "id": "13b7acb7",
   "metadata": {},
   "source": [
    "#### Grafo jungumo matai"
   ]
  },
  {
   "cell_type": "code",
   "execution_count": 57,
   "id": "f4cff196",
   "metadata": {},
   "outputs": [],
   "source": [
    "average_degree_connectivity = nx.average_degree_connectivity(graph)"
   ]
  },
  {
   "cell_type": "code",
   "execution_count": 58,
   "id": "620eb0c3",
   "metadata": {},
   "outputs": [],
   "source": [
    "df_degree = pd.DataFrame(list(average_degree_connectivity.items()))"
   ]
  },
  {
   "cell_type": "code",
   "execution_count": 59,
   "id": "f18a7e57",
   "metadata": {},
   "outputs": [
    {
     "data": {
      "text/html": [
       "<div>\n",
       "<style scoped>\n",
       "    .dataframe tbody tr th:only-of-type {\n",
       "        vertical-align: middle;\n",
       "    }\n",
       "\n",
       "    .dataframe tbody tr th {\n",
       "        vertical-align: top;\n",
       "    }\n",
       "\n",
       "    .dataframe thead th {\n",
       "        text-align: right;\n",
       "    }\n",
       "</style>\n",
       "<table border=\"1\" class=\"dataframe\">\n",
       "  <thead>\n",
       "    <tr style=\"text-align: right;\">\n",
       "      <th></th>\n",
       "      <th>0</th>\n",
       "      <th>1</th>\n",
       "    </tr>\n",
       "  </thead>\n",
       "  <tbody>\n",
       "    <tr>\n",
       "      <th>0</th>\n",
       "      <td>3</td>\n",
       "      <td>17.156530</td>\n",
       "    </tr>\n",
       "    <tr>\n",
       "      <th>1</th>\n",
       "      <td>45</td>\n",
       "      <td>12.444444</td>\n",
       "    </tr>\n",
       "    <tr>\n",
       "      <th>2</th>\n",
       "      <td>15</td>\n",
       "      <td>14.984181</td>\n",
       "    </tr>\n",
       "    <tr>\n",
       "      <th>3</th>\n",
       "      <td>14</td>\n",
       "      <td>12.557359</td>\n",
       "    </tr>\n",
       "    <tr>\n",
       "      <th>4</th>\n",
       "      <td>6</td>\n",
       "      <td>14.407023</td>\n",
       "    </tr>\n",
       "    <tr>\n",
       "      <th>...</th>\n",
       "      <td>...</td>\n",
       "      <td>...</td>\n",
       "    </tr>\n",
       "    <tr>\n",
       "      <th>74</th>\n",
       "      <td>91</td>\n",
       "      <td>7.637363</td>\n",
       "    </tr>\n",
       "    <tr>\n",
       "      <th>75</th>\n",
       "      <td>102</td>\n",
       "      <td>13.558824</td>\n",
       "    </tr>\n",
       "    <tr>\n",
       "      <th>76</th>\n",
       "      <td>41</td>\n",
       "      <td>4.878049</td>\n",
       "    </tr>\n",
       "    <tr>\n",
       "      <th>77</th>\n",
       "      <td>100</td>\n",
       "      <td>11.490000</td>\n",
       "    </tr>\n",
       "    <tr>\n",
       "      <th>78</th>\n",
       "      <td>106</td>\n",
       "      <td>7.877358</td>\n",
       "    </tr>\n",
       "  </tbody>\n",
       "</table>\n",
       "<p>79 rows × 2 columns</p>\n",
       "</div>"
      ],
      "text/plain": [
       "      0          1\n",
       "0     3  17.156530\n",
       "1    45  12.444444\n",
       "2    15  14.984181\n",
       "3    14  12.557359\n",
       "4     6  14.407023\n",
       "..  ...        ...\n",
       "74   91   7.637363\n",
       "75  102  13.558824\n",
       "76   41   4.878049\n",
       "77  100  11.490000\n",
       "78  106   7.877358\n",
       "\n",
       "[79 rows x 2 columns]"
      ]
     },
     "execution_count": 59,
     "metadata": {},
     "output_type": "execute_result"
    }
   ],
   "source": [
    "df_degree"
   ]
  },
  {
   "cell_type": "code",
   "execution_count": 60,
   "id": "9c00ac10",
   "metadata": {},
   "outputs": [],
   "source": [
    "#connectivity = nx.average_node_connectivity(graph)"
   ]
  },
  {
   "cell_type": "code",
   "execution_count": 61,
   "id": "c5689403",
   "metadata": {},
   "outputs": [
    {
     "data": {
      "text/plain": [
       "Text(0.5, 0, 'Viršūnių laipsniai')"
      ]
     },
     "execution_count": 61,
     "metadata": {},
     "output_type": "execute_result"
    },
    {
     "data": {
      "image/png": "[encoded data removed]",
      "text/plain": [
       "<Figure size 720x468 with 1 Axes>"
      ]
     },
     "metadata": {},
     "output_type": "display_data"
    }
   ],
   "source": [
    "sns.set_theme(style=\"whitegrid\", font_scale=1.3, font=\"Times New Roman\")\n",
    "f, ax = plt.subplots(figsize=(10, 6.5))\n",
    "ax.grid(False)\n",
    "plt.plot(*zip(*sorted(average_degree_connectivity.items())), color='skyblue')\n",
    "plt.ylabel('Vidutiniai viršūnių laipsniai')\n",
    "plt.xlabel('Viršūnių laipsniai')"
   ]
  },
  {
   "cell_type": "code",
   "execution_count": 62,
   "id": "e9d2a2ce",
   "metadata": {},
   "outputs": [],
   "source": [
    "average_neighbor_degree = nx.average_neighbor_degree(graph)"
   ]
  },
  {
   "cell_type": "code",
   "execution_count": 63,
   "id": "763d7aa7",
   "metadata": {
    "scrolled": true
   },
   "outputs": [
    {
     "data": {
      "text/plain": [
       "Text(0.5, 0, 'Viršūnės')"
      ]
     },
     "execution_count": 63,
     "metadata": {},
     "output_type": "execute_result"
    },
    {
     "data": {
      "image/png": "[encoded data removed]",
      "text/plain": [
       "<Figure size 720x468 with 1 Axes>"
      ]
     },
     "metadata": {},
     "output_type": "display_data"
    }
   ],
   "source": [
    "sns.set_theme(style=\"whitegrid\", font_scale=1.3, font=\"Times New Roman\")\n",
    "f, ax = plt.subplots(figsize=(10, 6.5))\n",
    "ax.grid(False)\n",
    "plt.plot(*zip(*sorted(average_neighbor_degree.items())), color='skyblue')\n",
    "plt.ylabel('Vidutiniai kaimyninių viršūnių laipsniai')\n",
    "plt.xlabel('Viršūnės')"
   ]
  },
  {
   "cell_type": "markdown",
   "id": "8b3501ad",
   "metadata": {},
   "source": [
    "#### Laipsnių koreliacija"
   ]
  },
  {
   "cell_type": "code",
   "execution_count": 64,
   "id": "c8b24f10",
   "metadata": {},
   "outputs": [
    {
     "data": {
      "text/plain": [
       "-0.066"
      ]
     },
     "execution_count": 64,
     "metadata": {},
     "output_type": "execute_result"
    }
   ],
   "source": [
    "nx.degree_assortativity_coefficient(graph).round(3)"
   ]
  },
  {
   "cell_type": "code",
   "execution_count": 65,
   "id": "3cd26c19",
   "metadata": {},
   "outputs": [
    {
     "data": {
      "text/plain": [
       "-0.066"
      ]
     },
     "execution_count": 65,
     "metadata": {},
     "output_type": "execute_result"
    }
   ],
   "source": [
    "nx.degree_pearson_correlation_coefficient(graph).round(3)"
   ]
  },
  {
   "cell_type": "markdown",
   "id": "d9a29578",
   "metadata": {},
   "source": [
    "#### Grafo skersmuo "
   ]
  },
  {
   "cell_type": "code",
   "execution_count": 66,
   "id": "ee4c986b",
   "metadata": {},
   "outputs": [],
   "source": [
    "diameter = max([max(j.values()) for (i,j) in nx.shortest_path_length(graph)])"
   ]
  },
  {
   "cell_type": "code",
   "execution_count": 67,
   "id": "275745d5",
   "metadata": {},
   "outputs": [
    {
     "data": {
      "text/plain": [
       "14"
      ]
     },
     "execution_count": 67,
     "metadata": {},
     "output_type": "execute_result"
    }
   ],
   "source": [
    "diameter"
   ]
  },
  {
   "cell_type": "markdown",
   "id": "c5c6d28b",
   "metadata": {},
   "source": [
    "#### Grafo tankumas"
   ]
  },
  {
   "cell_type": "code",
   "execution_count": 68,
   "id": "d9af2fdb",
   "metadata": {},
   "outputs": [
    {
     "data": {
      "text/plain": [
       "0.0007179321230655221"
      ]
     },
     "execution_count": 68,
     "metadata": {},
     "output_type": "execute_result"
    }
   ],
   "source": [
    "nx.density(graph)"
   ]
  },
  {
   "cell_type": "markdown",
   "id": "5025e772",
   "metadata": {},
   "source": [
    "### Centriškumo matai"
   ]
  },
  {
   "cell_type": "markdown",
   "id": "6f1c0f17",
   "metadata": {},
   "source": [
    "#### Laipsnio centriškumo matas – svarbiausi tinklo nariai"
   ]
  },
  {
   "cell_type": "code",
   "execution_count": 69,
   "id": "d0746a73",
   "metadata": {},
   "outputs": [],
   "source": [
    "pavardes = pd.read_excel('autoriu_pavardes.xlsx')"
   ]
  },
  {
   "cell_type": "code",
   "execution_count": 70,
   "id": "8d1a9e60",
   "metadata": {},
   "outputs": [],
   "source": [
    "centriskumas = nx.degree_centrality(graph)"
   ]
  },
  {
   "cell_type": "code",
   "execution_count": 71,
   "id": "ce6ed98b",
   "metadata": {},
   "outputs": [],
   "source": [
    "sorted_values_c = sorted(centriskumas.values(), reverse=True) # Sort the values\n",
    "sorted_dict_c = {}\n",
    "\n",
    "for i in sorted_values_c:\n",
    "    for k in centriskumas.keys():\n",
    "        if centriskumas[k] == i:\n",
    "            sorted_dict_c[k] = centriskumas[k]\n",
    "            break"
   ]
  },
  {
   "cell_type": "code",
   "execution_count": 72,
   "id": "5dc93926",
   "metadata": {},
   "outputs": [],
   "source": [
    "centriskumas_10 = pd.DataFrame(list(sorted_dict_c.items())[:10])"
   ]
  },
  {
   "cell_type": "code",
   "execution_count": 73,
   "id": "b6a41b6c",
   "metadata": {},
   "outputs": [],
   "source": [
    "centriskumas_10 = pd.merge(centriskumas_10, pavardes, how='left' ,left_on=0, right_on='index')"
   ]
  },
  {
   "cell_type": "code",
   "execution_count": 74,
   "id": "e421dd92",
   "metadata": {},
   "outputs": [],
   "source": [
    "centriskumas_10 = centriskumas_10[['authors', 1]].rename(columns = {'authors' : 'Autorius', 1 : 'Laipsnio centriškumo matas'}, \n",
    "                                                             inplace = False).round(3)"
   ]
  },
  {
   "cell_type": "code",
   "execution_count": 75,
   "id": "77f506c7",
   "metadata": {},
   "outputs": [
    {
     "data": {
      "text/html": [
       "<div>\n",
       "<style scoped>\n",
       "    .dataframe tbody tr th:only-of-type {\n",
       "        vertical-align: middle;\n",
       "    }\n",
       "\n",
       "    .dataframe tbody tr th {\n",
       "        vertical-align: top;\n",
       "    }\n",
       "\n",
       "    .dataframe thead th {\n",
       "        text-align: right;\n",
       "    }\n",
       "</style>\n",
       "<table border=\"1\" class=\"dataframe\">\n",
       "  <thead>\n",
       "    <tr style=\"text-align: right;\">\n",
       "      <th></th>\n",
       "      <th>Autorius</th>\n",
       "      <th>Laipsnio centriškumo matas</th>\n",
       "    </tr>\n",
       "  </thead>\n",
       "  <tbody>\n",
       "    <tr>\n",
       "      <th>0</th>\n",
       "      <td>Zavadskas, E. K.</td>\n",
       "      <td>0.074</td>\n",
       "    </tr>\n",
       "    <tr>\n",
       "      <th>1</th>\n",
       "      <td>Kaklauskas, A.</td>\n",
       "      <td>0.030</td>\n",
       "    </tr>\n",
       "    <tr>\n",
       "      <th>2</th>\n",
       "      <td>Turskis, Z.</td>\n",
       "      <td>0.026</td>\n",
       "    </tr>\n",
       "    <tr>\n",
       "      <th>3</th>\n",
       "      <td>Antuchevičienė, J.</td>\n",
       "      <td>0.024</td>\n",
       "    </tr>\n",
       "    <tr>\n",
       "      <th>4</th>\n",
       "      <td>Prentkovskis, O.</td>\n",
       "      <td>0.020</td>\n",
       "    </tr>\n",
       "    <tr>\n",
       "      <th>5</th>\n",
       "      <td>Kačianauskas, R.</td>\n",
       "      <td>0.020</td>\n",
       "    </tr>\n",
       "    <tr>\n",
       "      <th>6</th>\n",
       "      <td>Kilikevičius, A.</td>\n",
       "      <td>0.020</td>\n",
       "    </tr>\n",
       "    <tr>\n",
       "      <th>7</th>\n",
       "      <td>Jučiūtė, E.</td>\n",
       "      <td>0.019</td>\n",
       "    </tr>\n",
       "    <tr>\n",
       "      <th>8</th>\n",
       "      <td>Matijošius, J.</td>\n",
       "      <td>0.019</td>\n",
       "    </tr>\n",
       "    <tr>\n",
       "      <th>9</th>\n",
       "      <td>Rimkus, A.</td>\n",
       "      <td>0.018</td>\n",
       "    </tr>\n",
       "  </tbody>\n",
       "</table>\n",
       "</div>"
      ],
      "text/plain": [
       "             Autorius  Laipsnio centriškumo matas\n",
       "0    Zavadskas, E. K.                       0.074\n",
       "1      Kaklauskas, A.                       0.030\n",
       "2         Turskis, Z.                       0.026\n",
       "3  Antuchevičienė, J.                       0.024\n",
       "4    Prentkovskis, O.                       0.020\n",
       "5    Kačianauskas, R.                       0.020\n",
       "6    Kilikevičius, A.                       0.020\n",
       "7         Jučiūtė, E.                       0.019\n",
       "8      Matijošius, J.                       0.019\n",
       "9          Rimkus, A.                       0.018"
      ]
     },
     "execution_count": 75,
     "metadata": {},
     "output_type": "execute_result"
    }
   ],
   "source": [
    "centriskumas_10"
   ]
  },
  {
   "cell_type": "markdown",
   "id": "b0fb54d0",
   "metadata": {},
   "source": [
    "#### Artumo centriškumo matas – nariai, esantys arčiausiai kitų narių "
   ]
  },
  {
   "cell_type": "code",
   "execution_count": 76,
   "id": "930d682a",
   "metadata": {},
   "outputs": [],
   "source": [
    "artumas = nx.closeness_centrality(graph)"
   ]
  },
  {
   "cell_type": "code",
   "execution_count": 77,
   "id": "654ad624",
   "metadata": {},
   "outputs": [],
   "source": [
    "sorted_values_a = sorted(artumas.values(), reverse=True) # Sort the values\n",
    "sorted_dict_a = {}\n",
    "\n",
    "for i in sorted_values_a:\n",
    "    for k in artumas.keys():\n",
    "        if artumas[k] == i:\n",
    "            sorted_dict_a[k] = artumas[k]\n",
    "            break"
   ]
  },
  {
   "cell_type": "code",
   "execution_count": 78,
   "id": "5a07a8f5",
   "metadata": {},
   "outputs": [],
   "source": [
    "artumas_10 = pd.DataFrame(list(sorted_dict_a.items())[:10])"
   ]
  },
  {
   "cell_type": "code",
   "execution_count": 79,
   "id": "b2ee2a06",
   "metadata": {},
   "outputs": [],
   "source": [
    "artumas_10 = pd.merge(artumas_10, pavardes, how='left' ,left_on=0, right_on='index')"
   ]
  },
  {
   "cell_type": "code",
   "execution_count": 80,
   "id": "b611942f",
   "metadata": {},
   "outputs": [],
   "source": [
    "artumas_10 = artumas_10[['authors', 1]].rename(columns = {'authors' : 'Autorius', 1 : 'Laipsnio centriškumo matas'}, \n",
    "                                                             inplace = False).round(3)"
   ]
  },
  {
   "cell_type": "code",
   "execution_count": 81,
   "id": "e24781cc",
   "metadata": {},
   "outputs": [
    {
     "data": {
      "text/html": [
       "<div>\n",
       "<style scoped>\n",
       "    .dataframe tbody tr th:only-of-type {\n",
       "        vertical-align: middle;\n",
       "    }\n",
       "\n",
       "    .dataframe tbody tr th {\n",
       "        vertical-align: top;\n",
       "    }\n",
       "\n",
       "    .dataframe thead th {\n",
       "        text-align: right;\n",
       "    }\n",
       "</style>\n",
       "<table border=\"1\" class=\"dataframe\">\n",
       "  <thead>\n",
       "    <tr style=\"text-align: right;\">\n",
       "      <th></th>\n",
       "      <th>Autorius</th>\n",
       "      <th>Laipsnio centriškumo matas</th>\n",
       "    </tr>\n",
       "  </thead>\n",
       "  <tbody>\n",
       "    <tr>\n",
       "      <th>0</th>\n",
       "      <td>Zavadskas, E. K.</td>\n",
       "      <td>0.183</td>\n",
       "    </tr>\n",
       "    <tr>\n",
       "      <th>1</th>\n",
       "      <td>Žemeckytė, L.</td>\n",
       "      <td>0.140</td>\n",
       "    </tr>\n",
       "    <tr>\n",
       "      <th>2</th>\n",
       "      <td>Zolfani, S.</td>\n",
       "      <td>0.137</td>\n",
       "    </tr>\n",
       "    <tr>\n",
       "      <th>3</th>\n",
       "      <td>Zhou, W.</td>\n",
       "      <td>0.136</td>\n",
       "    </tr>\n",
       "    <tr>\n",
       "      <th>4</th>\n",
       "      <td>Turskis, Z.</td>\n",
       "      <td>0.103</td>\n",
       "    </tr>\n",
       "    <tr>\n",
       "      <th>5</th>\n",
       "      <td>Vilutienė, T.</td>\n",
       "      <td>0.100</td>\n",
       "    </tr>\n",
       "    <tr>\n",
       "      <th>6</th>\n",
       "      <td>Vinogradova, I.</td>\n",
       "      <td>0.099</td>\n",
       "    </tr>\n",
       "    <tr>\n",
       "      <th>7</th>\n",
       "      <td>Zakarevičius, A.</td>\n",
       "      <td>0.094</td>\n",
       "    </tr>\n",
       "    <tr>\n",
       "      <th>8</th>\n",
       "      <td>Yazdani-Chamzini, A.</td>\n",
       "      <td>0.093</td>\n",
       "    </tr>\n",
       "    <tr>\n",
       "      <th>9</th>\n",
       "      <td>Ustinovičius, L.</td>\n",
       "      <td>0.093</td>\n",
       "    </tr>\n",
       "  </tbody>\n",
       "</table>\n",
       "</div>"
      ],
      "text/plain": [
       "               Autorius  Laipsnio centriškumo matas\n",
       "0      Zavadskas, E. K.                       0.183\n",
       "1         Žemeckytė, L.                       0.140\n",
       "2           Zolfani, S.                       0.137\n",
       "3              Zhou, W.                       0.136\n",
       "4           Turskis, Z.                       0.103\n",
       "5         Vilutienė, T.                       0.100\n",
       "6       Vinogradova, I.                       0.099\n",
       "7      Zakarevičius, A.                       0.094\n",
       "8  Yazdani-Chamzini, A.                       0.093\n",
       "9      Ustinovičius, L.                       0.093"
      ]
     },
     "execution_count": 81,
     "metadata": {},
     "output_type": "execute_result"
    }
   ],
   "source": [
    "artumas_10"
   ]
  },
  {
   "cell_type": "markdown",
   "id": "f2c936ef",
   "metadata": {},
   "source": [
    "#### Tarpusavio centriškumo matas – nariai, turintys daugiausiai trumpiausių ryšių su kitais nariais"
   ]
  },
  {
   "cell_type": "code",
   "execution_count": 82,
   "id": "b01879b2",
   "metadata": {},
   "outputs": [],
   "source": [
    "tarpusavio = nx.betweenness_centrality(graph)"
   ]
  },
  {
   "cell_type": "code",
   "execution_count": 83,
   "id": "fe3dad38",
   "metadata": {},
   "outputs": [],
   "source": [
    "sorted_values_t = sorted(tarpusavio.values(), reverse=True) # Sort the values\n",
    "sorted_dict_t = {}\n",
    "\n",
    "for i in sorted_values_t:\n",
    "    for k in tarpusavio.keys():\n",
    "        if tarpusavio[k] == i:\n",
    "            sorted_dict_t[k] = tarpusavio[k]\n",
    "            break"
   ]
  },
  {
   "cell_type": "code",
   "execution_count": 84,
   "id": "cd078002",
   "metadata": {},
   "outputs": [],
   "source": [
    "tarpusavio_10 = pd.DataFrame(list(sorted_dict_t.items())[:10])"
   ]
  },
  {
   "cell_type": "code",
   "execution_count": 85,
   "id": "38bef990",
   "metadata": {},
   "outputs": [],
   "source": [
    "tarpusavio_10 = pd.merge(tarpusavio_10, pavardes, how='left' ,left_on=0, right_on='index')"
   ]
  },
  {
   "cell_type": "code",
   "execution_count": 86,
   "id": "17344e7e",
   "metadata": {},
   "outputs": [],
   "source": [
    "tarpusavio_10 = tarpusavio_10[['authors', 1]].rename(columns = {'authors' : 'Autorius', 1 : 'Laipsnio centriškumo matas'}, \n",
    "                                                             inplace = False).round(3)"
   ]
  },
  {
   "cell_type": "code",
   "execution_count": 87,
   "id": "cf952357",
   "metadata": {},
   "outputs": [
    {
     "data": {
      "text/html": [
       "<div>\n",
       "<style scoped>\n",
       "    .dataframe tbody tr th:only-of-type {\n",
       "        vertical-align: middle;\n",
       "    }\n",
       "\n",
       "    .dataframe tbody tr th {\n",
       "        vertical-align: top;\n",
       "    }\n",
       "\n",
       "    .dataframe thead th {\n",
       "        text-align: right;\n",
       "    }\n",
       "</style>\n",
       "<table border=\"1\" class=\"dataframe\">\n",
       "  <thead>\n",
       "    <tr style=\"text-align: right;\">\n",
       "      <th></th>\n",
       "      <th>Autorius</th>\n",
       "      <th>Laipsnio centriškumo matas</th>\n",
       "    </tr>\n",
       "  </thead>\n",
       "  <tbody>\n",
       "    <tr>\n",
       "      <th>0</th>\n",
       "      <td>Jučiūtė, E.</td>\n",
       "      <td>0.004</td>\n",
       "    </tr>\n",
       "    <tr>\n",
       "      <th>1</th>\n",
       "      <td>Kačianauskas, R.</td>\n",
       "      <td>0.004</td>\n",
       "    </tr>\n",
       "    <tr>\n",
       "      <th>2</th>\n",
       "      <td>Kaklauskas, A.</td>\n",
       "      <td>0.003</td>\n",
       "    </tr>\n",
       "    <tr>\n",
       "      <th>3</th>\n",
       "      <td>Kilikevičius, A.</td>\n",
       "      <td>0.002</td>\n",
       "    </tr>\n",
       "    <tr>\n",
       "      <th>4</th>\n",
       "      <td>Turskis, Z.</td>\n",
       "      <td>0.002</td>\n",
       "    </tr>\n",
       "    <tr>\n",
       "      <th>5</th>\n",
       "      <td>Prentkovskis, O.</td>\n",
       "      <td>0.001</td>\n",
       "    </tr>\n",
       "    <tr>\n",
       "      <th>6</th>\n",
       "      <td>Laurinavičius, A.</td>\n",
       "      <td>0.001</td>\n",
       "    </tr>\n",
       "    <tr>\n",
       "      <th>7</th>\n",
       "      <td>Kaklauskas, G.</td>\n",
       "      <td>0.001</td>\n",
       "    </tr>\n",
       "    <tr>\n",
       "      <th>8</th>\n",
       "      <td>Matijošius, J.</td>\n",
       "      <td>0.001</td>\n",
       "    </tr>\n",
       "    <tr>\n",
       "      <th>9</th>\n",
       "      <td>Kliukas, R.</td>\n",
       "      <td>0.001</td>\n",
       "    </tr>\n",
       "  </tbody>\n",
       "</table>\n",
       "</div>"
      ],
      "text/plain": [
       "            Autorius  Laipsnio centriškumo matas\n",
       "0        Jučiūtė, E.                       0.004\n",
       "1   Kačianauskas, R.                       0.004\n",
       "2     Kaklauskas, A.                       0.003\n",
       "3   Kilikevičius, A.                       0.002\n",
       "4        Turskis, Z.                       0.002\n",
       "5   Prentkovskis, O.                       0.001\n",
       "6  Laurinavičius, A.                       0.001\n",
       "7     Kaklauskas, G.                       0.001\n",
       "8     Matijošius, J.                       0.001\n",
       "9        Kliukas, R.                       0.001"
      ]
     },
     "execution_count": 87,
     "metadata": {},
     "output_type": "execute_result"
    }
   ],
   "source": [
    "tarpusavio_10"
   ]
  },
  {
   "cell_type": "code",
   "execution_count": null,
   "id": "0262bf43",
   "metadata": {},
   "outputs": [],
   "source": []
  }
 ],
 "metadata": {
  "kernelspec": {
   "display_name": "Python 3 (ipykernel)",
   "language": "python",
   "name": "python3"
  },
  "language_info": {
   "codemirror_mode": {
    "name": "ipython",
    "version": 3
   },
   "file_extension": ".py",
   "mimetype": "text/x-python",
   "name": "python",
   "nbconvert_exporter": "python",
   "pygments_lexer": "ipython3",
   "version": "3.9.5"
  }
 },
 "nbformat": 4,
 "nbformat_minor": 5
}
