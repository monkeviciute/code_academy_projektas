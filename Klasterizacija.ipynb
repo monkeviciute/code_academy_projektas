{
 "cells": [
  {
   "cell_type": "code",
   "execution_count": 1,
   "id": "bc88a71c",
   "metadata": {},
   "outputs": [],
   "source": [
    "import numpy as np\n",
    "import matplotlib.pyplot as plt \n",
    "import pandas as pd  \n",
    "import seaborn as sns \n",
    "from sklearn.preprocessing import MinMaxScaler\n",
    "from sklearn.cluster import KMeans\n",
    "from sklearn.decomposition import PCA\n",
    "from sklearn.metrics import silhouette_score\n",
    "from yellowbrick.cluster.elbow import kelbow_visualizer\n",
    "from yellowbrick.cluster import silhouette_visualizer\n",
    "import pickle"
   ]
  },
  {
   "cell_type": "markdown",
   "id": "b0d623e6",
   "metadata": {},
   "source": [
    "### Leidinių duomenų rinkinio sutvarkymas"
   ]
  },
  {
   "cell_type": "code",
   "execution_count": 2,
   "id": "16813d9a",
   "metadata": {},
   "outputs": [],
   "source": [
    "leidiniai = pd.read_csv('leidiniai.csv')"
   ]
  },
  {
   "cell_type": "code",
   "execution_count": 3,
   "id": "e4ab43ce",
   "metadata": {},
   "outputs": [
    {
     "data": {
      "text/html": [
       "<div>\n",
       "<style scoped>\n",
       "    .dataframe tbody tr th:only-of-type {\n",
       "        vertical-align: middle;\n",
       "    }\n",
       "\n",
       "    .dataframe tbody tr th {\n",
       "        vertical-align: top;\n",
       "    }\n",
       "\n",
       "    .dataframe thead th {\n",
       "        text-align: right;\n",
       "    }\n",
       "</style>\n",
       "<table border=\"1\" class=\"dataframe\">\n",
       "  <thead>\n",
       "    <tr style=\"text-align: right;\">\n",
       "      <th></th>\n",
       "      <th>Unnamed: 0</th>\n",
       "      <th>journal_number</th>\n",
       "      <th>journal_name</th>\n",
       "      <th>journal_name_in_foreign_language_1</th>\n",
       "      <th>journal_name_in_foreign_language_2</th>\n",
       "      <th>journal_name_in_foreign_language_3</th>\n",
       "      <th>scopus_sources</th>\n",
       "      <th>SNIP</th>\n",
       "      <th>CiteScore</th>\n",
       "      <th>SJR</th>\n",
       "      <th>quartile_in_caterory</th>\n",
       "      <th>IF</th>\n",
       "      <th>AIF</th>\n",
       "      <th>quartile_in_caterory_2</th>\n",
       "      <th>if_info_years</th>\n",
       "      <th>InCites_JCR</th>\n",
       "      <th>final_index</th>\n",
       "    </tr>\n",
       "  </thead>\n",
       "  <tbody>\n",
       "    <tr>\n",
       "      <th>0</th>\n",
       "      <td>0</td>\n",
       "      <td>10.0</td>\n",
       "      <td>Verslas: teorija ir praktika</td>\n",
       "      <td>NaN</td>\n",
       "      <td>NaN</td>\n",
       "      <td>NaN</td>\n",
       "      <td>2009.0</td>\n",
       "      <td>0.455</td>\n",
       "      <td>NaN</td>\n",
       "      <td>0.380</td>\n",
       "      <td>NaN</td>\n",
       "      <td>NaN</td>\n",
       "      <td>NaN</td>\n",
       "      <td>NaN</td>\n",
       "      <td>NaN</td>\n",
       "      <td>NaN</td>\n",
       "      <td>1298.0</td>\n",
       "    </tr>\n",
       "    <tr>\n",
       "      <th>1</th>\n",
       "      <td>1</td>\n",
       "      <td>18.0</td>\n",
       "      <td>Journal of environmental engineering and lands...</td>\n",
       "      <td>NaN</td>\n",
       "      <td>NaN</td>\n",
       "      <td>NaN</td>\n",
       "      <td>2010.0</td>\n",
       "      <td>1.062</td>\n",
       "      <td>NaN</td>\n",
       "      <td>0.440</td>\n",
       "      <td>NaN</td>\n",
       "      <td>1.333</td>\n",
       "      <td>2.496</td>\n",
       "      <td>Q3</td>\n",
       "      <td>2010.0</td>\n",
       "      <td>SCIE</td>\n",
       "      <td>94.0</td>\n",
       "    </tr>\n",
       "    <tr>\n",
       "      <th>2</th>\n",
       "      <td>2</td>\n",
       "      <td>NaN</td>\n",
       "      <td>Vandens ūkio inžinerija</td>\n",
       "      <td>NaN</td>\n",
       "      <td>NaN</td>\n",
       "      <td>NaN</td>\n",
       "      <td>NaN</td>\n",
       "      <td>NaN</td>\n",
       "      <td>NaN</td>\n",
       "      <td>NaN</td>\n",
       "      <td>NaN</td>\n",
       "      <td>NaN</td>\n",
       "      <td>NaN</td>\n",
       "      <td>NaN</td>\n",
       "      <td>NaN</td>\n",
       "      <td>NaN</td>\n",
       "      <td>1295.0</td>\n",
       "    </tr>\n",
       "    <tr>\n",
       "      <th>3</th>\n",
       "      <td>3</td>\n",
       "      <td>NaN</td>\n",
       "      <td>Socialinių mokslų studijos</td>\n",
       "      <td>Social sciences studies: mokslo darbai</td>\n",
       "      <td>NaN</td>\n",
       "      <td>NaN</td>\n",
       "      <td>NaN</td>\n",
       "      <td>NaN</td>\n",
       "      <td>NaN</td>\n",
       "      <td>NaN</td>\n",
       "      <td>NaN</td>\n",
       "      <td>NaN</td>\n",
       "      <td>NaN</td>\n",
       "      <td>NaN</td>\n",
       "      <td>NaN</td>\n",
       "      <td>NaN</td>\n",
       "      <td>430.0</td>\n",
       "    </tr>\n",
       "    <tr>\n",
       "      <th>4</th>\n",
       "      <td>4</td>\n",
       "      <td>11.0</td>\n",
       "      <td>Verslas: teorija ir praktika</td>\n",
       "      <td>Business: theory and practice</td>\n",
       "      <td>NaN</td>\n",
       "      <td>NaN</td>\n",
       "      <td>2010.0</td>\n",
       "      <td>0.630</td>\n",
       "      <td>NaN</td>\n",
       "      <td>0.360</td>\n",
       "      <td>NaN</td>\n",
       "      <td>NaN</td>\n",
       "      <td>NaN</td>\n",
       "      <td>NaN</td>\n",
       "      <td>NaN</td>\n",
       "      <td>NaN</td>\n",
       "      <td>1298.0</td>\n",
       "    </tr>\n",
       "    <tr>\n",
       "      <th>...</th>\n",
       "      <td>...</td>\n",
       "      <td>...</td>\n",
       "      <td>...</td>\n",
       "      <td>...</td>\n",
       "      <td>...</td>\n",
       "      <td>...</td>\n",
       "      <td>...</td>\n",
       "      <td>...</td>\n",
       "      <td>...</td>\n",
       "      <td>...</td>\n",
       "      <td>...</td>\n",
       "      <td>...</td>\n",
       "      <td>...</td>\n",
       "      <td>...</td>\n",
       "      <td>...</td>\n",
       "      <td>...</td>\n",
       "      <td>...</td>\n",
       "    </tr>\n",
       "    <tr>\n",
       "      <th>7508</th>\n",
       "      <td>7508</td>\n",
       "      <td>2.0</td>\n",
       "      <td>Miškininkystė</td>\n",
       "      <td>NaN</td>\n",
       "      <td>NaN</td>\n",
       "      <td>NaN</td>\n",
       "      <td>NaN</td>\n",
       "      <td>NaN</td>\n",
       "      <td>NaN</td>\n",
       "      <td>NaN</td>\n",
       "      <td>NaN</td>\n",
       "      <td>NaN</td>\n",
       "      <td>NaN</td>\n",
       "      <td>NaN</td>\n",
       "      <td>NaN</td>\n",
       "      <td>NaN</td>\n",
       "      <td>1037.0</td>\n",
       "    </tr>\n",
       "    <tr>\n",
       "      <th>7509</th>\n",
       "      <td>7509</td>\n",
       "      <td>NaN</td>\n",
       "      <td>Проект Балтия</td>\n",
       "      <td>Project Baltia</td>\n",
       "      <td>NaN</td>\n",
       "      <td>NaN</td>\n",
       "      <td>NaN</td>\n",
       "      <td>NaN</td>\n",
       "      <td>NaN</td>\n",
       "      <td>NaN</td>\n",
       "      <td>NaN</td>\n",
       "      <td>NaN</td>\n",
       "      <td>NaN</td>\n",
       "      <td>NaN</td>\n",
       "      <td>NaN</td>\n",
       "      <td>NaN</td>\n",
       "      <td>476.0</td>\n",
       "    </tr>\n",
       "    <tr>\n",
       "      <th>7510</th>\n",
       "      <td>7510</td>\n",
       "      <td>NaN</td>\n",
       "      <td>Проект Балтия</td>\n",
       "      <td>Project Baltia</td>\n",
       "      <td>NaN</td>\n",
       "      <td>NaN</td>\n",
       "      <td>NaN</td>\n",
       "      <td>NaN</td>\n",
       "      <td>NaN</td>\n",
       "      <td>NaN</td>\n",
       "      <td>NaN</td>\n",
       "      <td>NaN</td>\n",
       "      <td>NaN</td>\n",
       "      <td>NaN</td>\n",
       "      <td>NaN</td>\n",
       "      <td>NaN</td>\n",
       "      <td>476.0</td>\n",
       "    </tr>\n",
       "    <tr>\n",
       "      <th>7511</th>\n",
       "      <td>7511</td>\n",
       "      <td>26.0</td>\n",
       "      <td>Materials science</td>\n",
       "      <td>Medžiagotyra</td>\n",
       "      <td>NaN</td>\n",
       "      <td>NaN</td>\n",
       "      <td>2018.0</td>\n",
       "      <td>0.340</td>\n",
       "      <td>0.59</td>\n",
       "      <td>0.206</td>\n",
       "      <td>Q3</td>\n",
       "      <td>0.636</td>\n",
       "      <td>4.951</td>\n",
       "      <td>Q4</td>\n",
       "      <td>2018.0</td>\n",
       "      <td>SCIE</td>\n",
       "      <td>23.0</td>\n",
       "    </tr>\n",
       "    <tr>\n",
       "      <th>7512</th>\n",
       "      <td>7512</td>\n",
       "      <td>11.0</td>\n",
       "      <td>Verslas: teorija ir praktika</td>\n",
       "      <td>NaN</td>\n",
       "      <td>NaN</td>\n",
       "      <td>NaN</td>\n",
       "      <td>2018.0</td>\n",
       "      <td>0.933</td>\n",
       "      <td>1.21</td>\n",
       "      <td>0.259</td>\n",
       "      <td>Q2</td>\n",
       "      <td>NaN</td>\n",
       "      <td>NaN</td>\n",
       "      <td>NaN</td>\n",
       "      <td>NaN</td>\n",
       "      <td>NaN</td>\n",
       "      <td>1298.0</td>\n",
       "    </tr>\n",
       "  </tbody>\n",
       "</table>\n",
       "<p>7513 rows × 17 columns</p>\n",
       "</div>"
      ],
      "text/plain": [
       "      Unnamed: 0  journal_number  \\\n",
       "0              0            10.0   \n",
       "1              1            18.0   \n",
       "2              2             NaN   \n",
       "3              3             NaN   \n",
       "4              4            11.0   \n",
       "...          ...             ...   \n",
       "7508        7508             2.0   \n",
       "7509        7509             NaN   \n",
       "7510        7510             NaN   \n",
       "7511        7511            26.0   \n",
       "7512        7512            11.0   \n",
       "\n",
       "                                           journal_name  \\\n",
       "0                          Verslas: teorija ir praktika   \n",
       "1     Journal of environmental engineering and lands...   \n",
       "2                               Vandens ūkio inžinerija   \n",
       "3                            Socialinių mokslų studijos   \n",
       "4                          Verslas: teorija ir praktika   \n",
       "...                                                 ...   \n",
       "7508                                      Miškininkystė   \n",
       "7509                                      Проект Балтия   \n",
       "7510                                      Проект Балтия   \n",
       "7511                                  Materials science   \n",
       "7512                       Verslas: teorija ir praktika   \n",
       "\n",
       "          journal_name_in_foreign_language_1  \\\n",
       "0                                        NaN   \n",
       "1                                        NaN   \n",
       "2                                        NaN   \n",
       "3     Social sciences studies: mokslo darbai   \n",
       "4              Business: theory and practice   \n",
       "...                                      ...   \n",
       "7508                                     NaN   \n",
       "7509                          Project Baltia   \n",
       "7510                          Project Baltia   \n",
       "7511                            Medžiagotyra   \n",
       "7512                                     NaN   \n",
       "\n",
       "     journal_name_in_foreign_language_2 journal_name_in_foreign_language_3  \\\n",
       "0                                   NaN                                NaN   \n",
       "1                                   NaN                                NaN   \n",
       "2                                   NaN                                NaN   \n",
       "3                                   NaN                                NaN   \n",
       "4                                   NaN                                NaN   \n",
       "...                                 ...                                ...   \n",
       "7508                                NaN                                NaN   \n",
       "7509                                NaN                                NaN   \n",
       "7510                                NaN                                NaN   \n",
       "7511                                NaN                                NaN   \n",
       "7512                                NaN                                NaN   \n",
       "\n",
       "      scopus_sources   SNIP  CiteScore    SJR quartile_in_caterory     IF  \\\n",
       "0             2009.0  0.455        NaN  0.380                  NaN    NaN   \n",
       "1             2010.0  1.062        NaN  0.440                  NaN  1.333   \n",
       "2                NaN    NaN        NaN    NaN                  NaN    NaN   \n",
       "3                NaN    NaN        NaN    NaN                  NaN    NaN   \n",
       "4             2010.0  0.630        NaN  0.360                  NaN    NaN   \n",
       "...              ...    ...        ...    ...                  ...    ...   \n",
       "7508             NaN    NaN        NaN    NaN                  NaN    NaN   \n",
       "7509             NaN    NaN        NaN    NaN                  NaN    NaN   \n",
       "7510             NaN    NaN        NaN    NaN                  NaN    NaN   \n",
       "7511          2018.0  0.340       0.59  0.206                   Q3  0.636   \n",
       "7512          2018.0  0.933       1.21  0.259                   Q2    NaN   \n",
       "\n",
       "        AIF quartile_in_caterory_2  if_info_years InCites_JCR  final_index  \n",
       "0       NaN                    NaN            NaN         NaN       1298.0  \n",
       "1     2.496                     Q3         2010.0        SCIE         94.0  \n",
       "2       NaN                    NaN            NaN         NaN       1295.0  \n",
       "3       NaN                    NaN            NaN         NaN        430.0  \n",
       "4       NaN                    NaN            NaN         NaN       1298.0  \n",
       "...     ...                    ...            ...         ...          ...  \n",
       "7508    NaN                    NaN            NaN         NaN       1037.0  \n",
       "7509    NaN                    NaN            NaN         NaN        476.0  \n",
       "7510    NaN                    NaN            NaN         NaN        476.0  \n",
       "7511  4.951                     Q4         2018.0        SCIE         23.0  \n",
       "7512    NaN                    NaN            NaN         NaN       1298.0  \n",
       "\n",
       "[7513 rows x 17 columns]"
      ]
     },
     "execution_count": 3,
     "metadata": {},
     "output_type": "execute_result"
    }
   ],
   "source": [
    "leidiniai"
   ]
  },
  {
   "cell_type": "markdown",
   "id": "d0b4c246",
   "metadata": {},
   "source": [
    "#### Pirmu žingsniu pašalinamos eilutės, kuriose nėra leidinių rodiklių"
   ]
  },
  {
   "cell_type": "code",
   "execution_count": 4,
   "id": "469ab169",
   "metadata": {},
   "outputs": [],
   "source": [
    "leidiniai_2 = leidiniai.dropna(subset=['scopus_sources', 'IF'], how='all')"
   ]
  },
  {
   "cell_type": "markdown",
   "id": "e53f9ca2",
   "metadata": {},
   "source": [
    "#### Sukuriama atskira DataFrame su leidiniais, kurie neturi rodiklių"
   ]
  },
  {
   "cell_type": "code",
   "execution_count": 5,
   "id": "a44c20c2",
   "metadata": {},
   "outputs": [],
   "source": [
    "leidiniai_be_rodiklių = leidiniai.drop(leidiniai_2.index)"
   ]
  },
  {
   "cell_type": "markdown",
   "id": "e457b6a6",
   "metadata": {},
   "source": [
    "#### Palyginama, kiek leidinių buvo iš viso ir kiek jų buvo galima klasterizuoti, ir kiek - ne"
   ]
  },
  {
   "cell_type": "code",
   "execution_count": 6,
   "id": "82208881",
   "metadata": {},
   "outputs": [],
   "source": [
    "pasalinti = np.count_nonzero(leidiniai_be_rodiklių['final_index'].unique())"
   ]
  },
  {
   "cell_type": "code",
   "execution_count": 7,
   "id": "671c569a",
   "metadata": {},
   "outputs": [],
   "source": [
    "tinkami = np.count_nonzero(leidiniai_2['final_index'].unique())"
   ]
  },
  {
   "cell_type": "code",
   "execution_count": 8,
   "id": "079ab42d",
   "metadata": {},
   "outputs": [],
   "source": [
    "visi = pasalinti + tinkami"
   ]
  },
  {
   "cell_type": "code",
   "execution_count": 9,
   "id": "aa2cc04a",
   "metadata": {},
   "outputs": [
    {
     "name": "stdout",
     "output_type": "stream",
     "text": [
      "Žurnalai, kurių nebuvo galima klasterizuoti  50.35 %\n"
     ]
    }
   ],
   "source": [
    "print(\"Žurnalai, kurių nebuvo galima klasterizuoti \", round((pasalinti / visi)*100,2), '%')"
   ]
  },
  {
   "cell_type": "code",
   "execution_count": 10,
   "id": "7fb0b7bd",
   "metadata": {},
   "outputs": [
    {
     "name": "stdout",
     "output_type": "stream",
     "text": [
      "Žurnalai, kurie buvo klasterizuojami 49.65 %\n"
     ]
    }
   ],
   "source": [
    "print(\"Žurnalai, kurie buvo klasterizuojami\", round((tinkami / visi)*100,2), '%')"
   ]
  },
  {
   "cell_type": "markdown",
   "id": "b4afac9f",
   "metadata": {},
   "source": [
    "### Sutvarkomas gautas duomenų rinkinys"
   ]
  },
  {
   "cell_type": "markdown",
   "id": "0f23184f",
   "metadata": {},
   "source": [
    "#### 1. Pašalinami neinformatyvūs stulpeliai"
   ]
  },
  {
   "cell_type": "code",
   "execution_count": 11,
   "id": "04df268f",
   "metadata": {},
   "outputs": [],
   "source": [
    "leidiniai_2 = leidiniai_2.drop(['Unnamed: 0', 'journal_number', 'journal_name_in_foreign_language_1',\n",
    "                               'journal_name_in_foreign_language_2',\n",
    "                               'journal_name_in_foreign_language_3'], axis=1)"
   ]
  },
  {
   "cell_type": "markdown",
   "id": "c738581e",
   "metadata": {},
   "source": [
    "#### 2. NaN reikšmės pakeičiamos į 0, str reikšmės paverčiamos į int ir pašalinami dublikatai"
   ]
  },
  {
   "cell_type": "code",
   "execution_count": 12,
   "id": "8f064710",
   "metadata": {},
   "outputs": [],
   "source": [
    "leidiniai_2 = leidiniai_2.fillna(0)"
   ]
  },
  {
   "cell_type": "code",
   "execution_count": 13,
   "id": "e1efa9ab",
   "metadata": {},
   "outputs": [],
   "source": [
    "leidiniai_2[['scopus_sources', 'if_info_years', 'final_index']] = leidiniai_2[['scopus_sources', 'if_info_years', 'final_index']].astype('int')"
   ]
  },
  {
   "cell_type": "code",
   "execution_count": 14,
   "id": "c65ac883",
   "metadata": {},
   "outputs": [],
   "source": [
    "leidiniai_2 = leidiniai_2.drop_duplicates()"
   ]
  },
  {
   "cell_type": "markdown",
   "id": "32310059",
   "metadata": {},
   "source": [
    "#### 3. Sukuriama nauja DataFrame tik Scopus rodikliams. Naudojantis pivot table funkcija, duomenys pergrupuojami, kad metai taptų stulpeliais, o rodikliai - eilutėmis. Tai daroma kiekvienam rodikliui atskirai ir galiausiai sukuriama viena DataFrame "
   ]
  },
  {
   "cell_type": "code",
   "execution_count": 15,
   "id": "bc7f3be2",
   "metadata": {},
   "outputs": [],
   "source": [
    "leidiniai_3 = leidiniai_2[['final_index', 'scopus_sources', 'SNIP', 'CiteScore', 'SJR', 'quartile_in_caterory']]"
   ]
  },
  {
   "cell_type": "code",
   "execution_count": 16,
   "id": "d62358fd",
   "metadata": {},
   "outputs": [],
   "source": [
    "quartile_in_caterory = leidiniai_3['quartile_in_caterory'].str.split('Q', expand=True)"
   ]
  },
  {
   "cell_type": "code",
   "execution_count": 17,
   "id": "d179ec22",
   "metadata": {},
   "outputs": [],
   "source": [
    "leidiniai_3 = leidiniai_3.drop(['quartile_in_caterory'], axis=1)"
   ]
  },
  {
   "cell_type": "code",
   "execution_count": 18,
   "id": "56885fb4",
   "metadata": {},
   "outputs": [],
   "source": [
    "leidiniai_3['quartile_in_caterory'] = quartile_in_caterory[1].fillna(0).astype(int)"
   ]
  },
  {
   "cell_type": "markdown",
   "id": "a5853047",
   "metadata": {},
   "source": [
    "##### SNIP"
   ]
  },
  {
   "cell_type": "code",
   "execution_count": 19,
   "id": "7f6697d7",
   "metadata": {},
   "outputs": [],
   "source": [
    "leidiniai_3_SNIP = leidiniai_3.pivot_table(index=\"final_index\", columns=\"scopus_sources\", values='SNIP')"
   ]
  },
  {
   "cell_type": "code",
   "execution_count": 20,
   "id": "506cfb6a",
   "metadata": {},
   "outputs": [],
   "source": [
    "leidiniai_3_SNIP = leidiniai_3_SNIP.add_suffix('_SNIP')"
   ]
  },
  {
   "cell_type": "code",
   "execution_count": 21,
   "id": "381a1f56",
   "metadata": {},
   "outputs": [],
   "source": [
    "leidiniai_3_SNIP=leidiniai_3_SNIP.reset_index()"
   ]
  },
  {
   "cell_type": "code",
   "execution_count": 22,
   "id": "2bb560d8",
   "metadata": {},
   "outputs": [],
   "source": [
    "leidiniai_3_SNIP = leidiniai_3_SNIP.drop(['0_SNIP'], axis=1)"
   ]
  },
  {
   "cell_type": "markdown",
   "id": "5f0406bb",
   "metadata": {},
   "source": [
    "##### CiteScore"
   ]
  },
  {
   "cell_type": "code",
   "execution_count": 23,
   "id": "cc2e0b52",
   "metadata": {},
   "outputs": [],
   "source": [
    "leidiniai_3_CiteScore = leidiniai_3.pivot_table(index=\"final_index\", columns=\"scopus_sources\", values='CiteScore')"
   ]
  },
  {
   "cell_type": "code",
   "execution_count": 24,
   "id": "d1e8d519",
   "metadata": {},
   "outputs": [],
   "source": [
    "leidiniai_3_CiteScore = leidiniai_3_CiteScore.add_suffix('_CiteScore')"
   ]
  },
  {
   "cell_type": "code",
   "execution_count": 25,
   "id": "96ef0c3f",
   "metadata": {},
   "outputs": [],
   "source": [
    "leidiniai_3_CiteScore=leidiniai_3_CiteScore.reset_index()"
   ]
  },
  {
   "cell_type": "code",
   "execution_count": 26,
   "id": "27d5a122",
   "metadata": {},
   "outputs": [],
   "source": [
    "leidiniai_3_CiteScore = leidiniai_3_CiteScore.drop(['0_CiteScore'], axis=1)"
   ]
  },
  {
   "cell_type": "markdown",
   "id": "98d5b516",
   "metadata": {},
   "source": [
    "##### SJR"
   ]
  },
  {
   "cell_type": "code",
   "execution_count": 27,
   "id": "9f0b881e",
   "metadata": {},
   "outputs": [],
   "source": [
    "leidiniai_3_SJR = leidiniai_3.pivot_table(index=\"final_index\", columns=\"scopus_sources\", values='SJR')"
   ]
  },
  {
   "cell_type": "code",
   "execution_count": 28,
   "id": "adbd5e3a",
   "metadata": {},
   "outputs": [],
   "source": [
    "leidiniai_3_SJR = leidiniai_3_SJR.add_suffix('_SJR')"
   ]
  },
  {
   "cell_type": "code",
   "execution_count": 29,
   "id": "826ac622",
   "metadata": {},
   "outputs": [],
   "source": [
    "leidiniai_3_SJR=leidiniai_3_SJR.reset_index()"
   ]
  },
  {
   "cell_type": "code",
   "execution_count": 30,
   "id": "6b5a2549",
   "metadata": {},
   "outputs": [],
   "source": [
    "leidiniai_3_SJR = leidiniai_3_SJR.drop(['0_SJR'], axis=1)"
   ]
  },
  {
   "cell_type": "markdown",
   "id": "33b53792",
   "metadata": {},
   "source": [
    "##### quartile_in_caterory"
   ]
  },
  {
   "cell_type": "code",
   "execution_count": 31,
   "id": "d7c206ee",
   "metadata": {},
   "outputs": [],
   "source": [
    "leidiniai_3_quartile_in_caterory = leidiniai_3.pivot_table(index=\"final_index\", columns=\"scopus_sources\", values='quartile_in_caterory')"
   ]
  },
  {
   "cell_type": "code",
   "execution_count": 32,
   "id": "538161f8",
   "metadata": {},
   "outputs": [],
   "source": [
    "leidiniai_3_quartile_in_caterory = leidiniai_3_quartile_in_caterory.round(0)"
   ]
  },
  {
   "cell_type": "code",
   "execution_count": 33,
   "id": "ee0e6cf2",
   "metadata": {},
   "outputs": [],
   "source": [
    "leidiniai_3_quartile_in_caterory = leidiniai_3_quartile_in_caterory.add_suffix('_scopus_quartile')"
   ]
  },
  {
   "cell_type": "code",
   "execution_count": 34,
   "id": "5365d517",
   "metadata": {},
   "outputs": [],
   "source": [
    "leidiniai_3_quartile_in_caterory=leidiniai_3_quartile_in_caterory.reset_index()"
   ]
  },
  {
   "cell_type": "code",
   "execution_count": 35,
   "id": "a9abae72",
   "metadata": {},
   "outputs": [],
   "source": [
    "leidiniai_3_quartile_in_caterory = leidiniai_3_quartile_in_caterory.drop(['0_scopus_quartile'], axis=1)"
   ]
  },
  {
   "cell_type": "markdown",
   "id": "2b327d45",
   "metadata": {},
   "source": [
    "##### Scopus DataFrame"
   ]
  },
  {
   "cell_type": "code",
   "execution_count": 36,
   "id": "c33adf85",
   "metadata": {},
   "outputs": [],
   "source": [
    "leidiniai_scopus = pd.merge(pd.merge(pd.merge(leidiniai_3_SNIP,leidiniai_3_CiteScore,on='final_index'),\n",
    "                            leidiniai_3_SJR,on='final_index'),leidiniai_3_quartile_in_caterory,on='final_index')"
   ]
  },
  {
   "cell_type": "markdown",
   "id": "bf282682",
   "metadata": {},
   "source": [
    "#### 4. Žingsniai atkartojami IF rodikliams"
   ]
  },
  {
   "cell_type": "code",
   "execution_count": 37,
   "id": "d1cfe428",
   "metadata": {},
   "outputs": [],
   "source": [
    "leidiniai_4 = leidiniai_2[['final_index', 'IF', 'AIF', 'quartile_in_caterory_2', 'if_info_years']]"
   ]
  },
  {
   "cell_type": "code",
   "execution_count": 38,
   "id": "1537be02",
   "metadata": {},
   "outputs": [],
   "source": [
    "quartile_in_caterory_2 = leidiniai_4['quartile_in_caterory_2'].str.split('Q', expand=True)"
   ]
  },
  {
   "cell_type": "code",
   "execution_count": 39,
   "id": "ab8e172c",
   "metadata": {},
   "outputs": [],
   "source": [
    "leidiniai_4 = leidiniai_4.drop(['quartile_in_caterory_2'], axis=1)"
   ]
  },
  {
   "cell_type": "code",
   "execution_count": 40,
   "id": "ec1d2b71",
   "metadata": {},
   "outputs": [],
   "source": [
    "leidiniai_4['quartile_in_caterory_2'] = quartile_in_caterory_2[1].fillna(0).astype(int)"
   ]
  },
  {
   "cell_type": "markdown",
   "id": "65c3a485",
   "metadata": {},
   "source": [
    "##### IF"
   ]
  },
  {
   "cell_type": "code",
   "execution_count": 41,
   "id": "7020c508",
   "metadata": {},
   "outputs": [],
   "source": [
    "leidiniai_4_IF = leidiniai_4.pivot_table(index=\"final_index\", columns=\"if_info_years\", values='IF')"
   ]
  },
  {
   "cell_type": "code",
   "execution_count": 42,
   "id": "e7e189bb",
   "metadata": {},
   "outputs": [],
   "source": [
    "leidiniai_4_IF = leidiniai_4_IF.add_suffix('_IF')"
   ]
  },
  {
   "cell_type": "code",
   "execution_count": 43,
   "id": "962aaa6d",
   "metadata": {},
   "outputs": [],
   "source": [
    "leidiniai_4_IF=leidiniai_4_IF.reset_index()"
   ]
  },
  {
   "cell_type": "code",
   "execution_count": 44,
   "id": "367ef0dc",
   "metadata": {},
   "outputs": [],
   "source": [
    "leidiniai_4_IF = leidiniai_4_IF.drop(['0_IF'], axis=1)"
   ]
  },
  {
   "cell_type": "markdown",
   "id": "c4306167",
   "metadata": {},
   "source": [
    "##### AIF"
   ]
  },
  {
   "cell_type": "code",
   "execution_count": 45,
   "id": "87cedb59",
   "metadata": {},
   "outputs": [],
   "source": [
    "leidiniai_4_AIF = leidiniai_4.pivot_table(index=\"final_index\", columns=\"if_info_years\", values='AIF')"
   ]
  },
  {
   "cell_type": "code",
   "execution_count": 46,
   "id": "938ff071",
   "metadata": {},
   "outputs": [],
   "source": [
    "leidiniai_4_AIF = leidiniai_4_AIF.add_suffix('_AIF')"
   ]
  },
  {
   "cell_type": "code",
   "execution_count": 47,
   "id": "a9cefce5",
   "metadata": {},
   "outputs": [],
   "source": [
    "leidiniai_4_AIF=leidiniai_4_AIF.reset_index()"
   ]
  },
  {
   "cell_type": "code",
   "execution_count": 48,
   "id": "645805a9",
   "metadata": {},
   "outputs": [],
   "source": [
    "leidiniai_4_AIF = leidiniai_4_AIF.drop(['0_AIF'], axis=1)"
   ]
  },
  {
   "cell_type": "markdown",
   "id": "7f1b41d1",
   "metadata": {},
   "source": [
    "##### quartile_in_caterory"
   ]
  },
  {
   "cell_type": "code",
   "execution_count": 49,
   "id": "8f23c7b9",
   "metadata": {},
   "outputs": [],
   "source": [
    "leidiniai_4_quartile_in_caterory = leidiniai_4.pivot_table(index=\"final_index\", columns=\"if_info_years\", values='quartile_in_caterory_2')"
   ]
  },
  {
   "cell_type": "code",
   "execution_count": 50,
   "id": "d6c2118d",
   "metadata": {},
   "outputs": [],
   "source": [
    "leidiniai_4_quartile_in_caterory = leidiniai_4_quartile_in_caterory.round(0)"
   ]
  },
  {
   "cell_type": "code",
   "execution_count": 51,
   "id": "936e8f8a",
   "metadata": {},
   "outputs": [],
   "source": [
    "leidiniai_4_quartile_in_caterory = leidiniai_4_quartile_in_caterory.add_suffix('_IF_quartile')"
   ]
  },
  {
   "cell_type": "code",
   "execution_count": 52,
   "id": "2150d984",
   "metadata": {},
   "outputs": [],
   "source": [
    "leidiniai_4_quartile_in_caterory=leidiniai_4_quartile_in_caterory.reset_index()"
   ]
  },
  {
   "cell_type": "code",
   "execution_count": 53,
   "id": "0da543a1",
   "metadata": {},
   "outputs": [],
   "source": [
    "leidiniai_4_quartile_in_caterory = leidiniai_4_quartile_in_caterory.drop(['0_IF_quartile'], axis=1)"
   ]
  },
  {
   "cell_type": "markdown",
   "id": "207bdc64",
   "metadata": {},
   "source": [
    "##### IF DataBase"
   ]
  },
  {
   "cell_type": "code",
   "execution_count": 54,
   "id": "4cef8a59",
   "metadata": {},
   "outputs": [],
   "source": [
    "leidiniai_if = pd.merge(pd.merge(leidiniai_4_IF,leidiniai_4_AIF,on='final_index'),\n",
    "                            leidiniai_4_quartile_in_caterory,on='final_index')"
   ]
  },
  {
   "cell_type": "markdown",
   "id": "0ddf27b5",
   "metadata": {},
   "source": [
    "#### 5. Sujungiamos abi rodiklių lentelės į vieną ir pridedami likę rodikliai"
   ]
  },
  {
   "cell_type": "code",
   "execution_count": 55,
   "id": "33752741",
   "metadata": {},
   "outputs": [],
   "source": [
    "leidiniai_rodikliai = pd.merge(leidiniai_scopus,leidiniai_if,on='final_index')"
   ]
  },
  {
   "cell_type": "code",
   "execution_count": 56,
   "id": "b64b31b8",
   "metadata": {},
   "outputs": [],
   "source": [
    "kiti_rodikliai = leidiniai_2[['final_index', 'InCites_JCR']]"
   ]
  },
  {
   "cell_type": "code",
   "execution_count": 57,
   "id": "5ed79f84",
   "metadata": {},
   "outputs": [],
   "source": [
    "kiti_rodikliai = kiti_rodikliai.drop_duplicates(subset=['final_index'])"
   ]
  },
  {
   "cell_type": "code",
   "execution_count": 58,
   "id": "b0c04d3f",
   "metadata": {},
   "outputs": [],
   "source": [
    "leidiniai_final = pd.merge(leidiniai_rodikliai,kiti_rodikliai,on='final_index')"
   ]
  },
  {
   "cell_type": "code",
   "execution_count": 59,
   "id": "0965b6f9",
   "metadata": {},
   "outputs": [],
   "source": [
    "leidiniai_final['InCites_JCR'] = leidiniai_final['InCites_JCR'].replace([0], 'NA')"
   ]
  },
  {
   "cell_type": "code",
   "execution_count": 60,
   "id": "83f801b3",
   "metadata": {},
   "outputs": [],
   "source": [
    "leidiniai_final = leidiniai_final.sort_values(by=['InCites_JCR'])"
   ]
  },
  {
   "cell_type": "code",
   "execution_count": 61,
   "id": "f953d3d0",
   "metadata": {},
   "outputs": [
    {
     "data": {
      "text/html": [
       "<div>\n",
       "<style scoped>\n",
       "    .dataframe tbody tr th:only-of-type {\n",
       "        vertical-align: middle;\n",
       "    }\n",
       "\n",
       "    .dataframe tbody tr th {\n",
       "        vertical-align: top;\n",
       "    }\n",
       "\n",
       "    .dataframe thead th {\n",
       "        text-align: right;\n",
       "    }\n",
       "</style>\n",
       "<table border=\"1\" class=\"dataframe\">\n",
       "  <thead>\n",
       "    <tr style=\"text-align: right;\">\n",
       "      <th></th>\n",
       "      <th>final_index</th>\n",
       "      <th>2009_SNIP</th>\n",
       "      <th>2010_SNIP</th>\n",
       "      <th>2011_SNIP</th>\n",
       "      <th>2012_SNIP</th>\n",
       "      <th>2013_SNIP</th>\n",
       "      <th>2014_SNIP</th>\n",
       "      <th>2015_SNIP</th>\n",
       "      <th>2016_SNIP</th>\n",
       "      <th>2017_SNIP</th>\n",
       "      <th>...</th>\n",
       "      <th>2010_IF_quartile</th>\n",
       "      <th>2011_IF_quartile</th>\n",
       "      <th>2012_IF_quartile</th>\n",
       "      <th>2013_IF_quartile</th>\n",
       "      <th>2014_IF_quartile</th>\n",
       "      <th>2015_IF_quartile</th>\n",
       "      <th>2016_IF_quartile</th>\n",
       "      <th>2017_IF_quartile</th>\n",
       "      <th>2018_IF_quartile</th>\n",
       "      <th>InCites_JCR</th>\n",
       "    </tr>\n",
       "  </thead>\n",
       "  <tbody>\n",
       "    <tr>\n",
       "      <th>322</th>\n",
       "      <td>709</td>\n",
       "      <td>NaN</td>\n",
       "      <td>NaN</td>\n",
       "      <td>NaN</td>\n",
       "      <td>NaN</td>\n",
       "      <td>NaN</td>\n",
       "      <td>NaN</td>\n",
       "      <td>NaN</td>\n",
       "      <td>NaN</td>\n",
       "      <td>NaN</td>\n",
       "      <td>...</td>\n",
       "      <td>NaN</td>\n",
       "      <td>NaN</td>\n",
       "      <td>NaN</td>\n",
       "      <td>NaN</td>\n",
       "      <td>NaN</td>\n",
       "      <td>NaN</td>\n",
       "      <td>NaN</td>\n",
       "      <td>NaN</td>\n",
       "      <td>NaN</td>\n",
       "      <td>NA</td>\n",
       "    </tr>\n",
       "    <tr>\n",
       "      <th>553</th>\n",
       "      <td>1146</td>\n",
       "      <td>NaN</td>\n",
       "      <td>NaN</td>\n",
       "      <td>NaN</td>\n",
       "      <td>NaN</td>\n",
       "      <td>NaN</td>\n",
       "      <td>NaN</td>\n",
       "      <td>NaN</td>\n",
       "      <td>NaN</td>\n",
       "      <td>NaN</td>\n",
       "      <td>...</td>\n",
       "      <td>NaN</td>\n",
       "      <td>NaN</td>\n",
       "      <td>NaN</td>\n",
       "      <td>NaN</td>\n",
       "      <td>NaN</td>\n",
       "      <td>NaN</td>\n",
       "      <td>NaN</td>\n",
       "      <td>NaN</td>\n",
       "      <td>NaN</td>\n",
       "      <td>NA</td>\n",
       "    </tr>\n",
       "    <tr>\n",
       "      <th>552</th>\n",
       "      <td>1145</td>\n",
       "      <td>NaN</td>\n",
       "      <td>NaN</td>\n",
       "      <td>NaN</td>\n",
       "      <td>NaN</td>\n",
       "      <td>NaN</td>\n",
       "      <td>NaN</td>\n",
       "      <td>NaN</td>\n",
       "      <td>NaN</td>\n",
       "      <td>NaN</td>\n",
       "      <td>...</td>\n",
       "      <td>NaN</td>\n",
       "      <td>NaN</td>\n",
       "      <td>NaN</td>\n",
       "      <td>NaN</td>\n",
       "      <td>NaN</td>\n",
       "      <td>NaN</td>\n",
       "      <td>NaN</td>\n",
       "      <td>NaN</td>\n",
       "      <td>NaN</td>\n",
       "      <td>NA</td>\n",
       "    </tr>\n",
       "    <tr>\n",
       "      <th>551</th>\n",
       "      <td>1141</td>\n",
       "      <td>NaN</td>\n",
       "      <td>NaN</td>\n",
       "      <td>NaN</td>\n",
       "      <td>NaN</td>\n",
       "      <td>NaN</td>\n",
       "      <td>NaN</td>\n",
       "      <td>NaN</td>\n",
       "      <td>0.269</td>\n",
       "      <td>0.5970</td>\n",
       "      <td>...</td>\n",
       "      <td>NaN</td>\n",
       "      <td>NaN</td>\n",
       "      <td>NaN</td>\n",
       "      <td>NaN</td>\n",
       "      <td>NaN</td>\n",
       "      <td>NaN</td>\n",
       "      <td>NaN</td>\n",
       "      <td>NaN</td>\n",
       "      <td>NaN</td>\n",
       "      <td>NA</td>\n",
       "    </tr>\n",
       "    <tr>\n",
       "      <th>111</th>\n",
       "      <td>216</td>\n",
       "      <td>NaN</td>\n",
       "      <td>0.271</td>\n",
       "      <td>0.634</td>\n",
       "      <td>NaN</td>\n",
       "      <td>0.827</td>\n",
       "      <td>1.017</td>\n",
       "      <td>0.788</td>\n",
       "      <td>0.603</td>\n",
       "      <td>1.4855</td>\n",
       "      <td>...</td>\n",
       "      <td>NaN</td>\n",
       "      <td>NaN</td>\n",
       "      <td>NaN</td>\n",
       "      <td>4.0</td>\n",
       "      <td>NaN</td>\n",
       "      <td>4.0</td>\n",
       "      <td>4.0</td>\n",
       "      <td>4.0</td>\n",
       "      <td>3.0</td>\n",
       "      <td>NA</td>\n",
       "    </tr>\n",
       "    <tr>\n",
       "      <th>...</th>\n",
       "      <td>...</td>\n",
       "      <td>...</td>\n",
       "      <td>...</td>\n",
       "      <td>...</td>\n",
       "      <td>...</td>\n",
       "      <td>...</td>\n",
       "      <td>...</td>\n",
       "      <td>...</td>\n",
       "      <td>...</td>\n",
       "      <td>...</td>\n",
       "      <td>...</td>\n",
       "      <td>...</td>\n",
       "      <td>...</td>\n",
       "      <td>...</td>\n",
       "      <td>...</td>\n",
       "      <td>...</td>\n",
       "      <td>...</td>\n",
       "      <td>...</td>\n",
       "      <td>...</td>\n",
       "      <td>...</td>\n",
       "      <td>...</td>\n",
       "    </tr>\n",
       "    <tr>\n",
       "      <th>80</th>\n",
       "      <td>135</td>\n",
       "      <td>NaN</td>\n",
       "      <td>NaN</td>\n",
       "      <td>NaN</td>\n",
       "      <td>NaN</td>\n",
       "      <td>NaN</td>\n",
       "      <td>NaN</td>\n",
       "      <td>NaN</td>\n",
       "      <td>1.182</td>\n",
       "      <td>1.8400</td>\n",
       "      <td>...</td>\n",
       "      <td>NaN</td>\n",
       "      <td>NaN</td>\n",
       "      <td>NaN</td>\n",
       "      <td>NaN</td>\n",
       "      <td>NaN</td>\n",
       "      <td>NaN</td>\n",
       "      <td>3.0</td>\n",
       "      <td>NaN</td>\n",
       "      <td>NaN</td>\n",
       "      <td>SSCI</td>\n",
       "    </tr>\n",
       "    <tr>\n",
       "      <th>79</th>\n",
       "      <td>133</td>\n",
       "      <td>NaN</td>\n",
       "      <td>NaN</td>\n",
       "      <td>0.622</td>\n",
       "      <td>0.772</td>\n",
       "      <td>0.653</td>\n",
       "      <td>1.215</td>\n",
       "      <td>1.110</td>\n",
       "      <td>1.078</td>\n",
       "      <td>NaN</td>\n",
       "      <td>...</td>\n",
       "      <td>NaN</td>\n",
       "      <td>4.0</td>\n",
       "      <td>3.0</td>\n",
       "      <td>3.0</td>\n",
       "      <td>2.0</td>\n",
       "      <td>2.0</td>\n",
       "      <td>2.0</td>\n",
       "      <td>NaN</td>\n",
       "      <td>3.0</td>\n",
       "      <td>SSCI</td>\n",
       "    </tr>\n",
       "    <tr>\n",
       "      <th>502</th>\n",
       "      <td>1058</td>\n",
       "      <td>NaN</td>\n",
       "      <td>NaN</td>\n",
       "      <td>NaN</td>\n",
       "      <td>NaN</td>\n",
       "      <td>NaN</td>\n",
       "      <td>NaN</td>\n",
       "      <td>NaN</td>\n",
       "      <td>NaN</td>\n",
       "      <td>NaN</td>\n",
       "      <td>...</td>\n",
       "      <td>NaN</td>\n",
       "      <td>NaN</td>\n",
       "      <td>NaN</td>\n",
       "      <td>NaN</td>\n",
       "      <td>NaN</td>\n",
       "      <td>NaN</td>\n",
       "      <td>NaN</td>\n",
       "      <td>NaN</td>\n",
       "      <td>4.0</td>\n",
       "      <td>SSCI</td>\n",
       "    </tr>\n",
       "    <tr>\n",
       "      <th>82</th>\n",
       "      <td>137</td>\n",
       "      <td>NaN</td>\n",
       "      <td>NaN</td>\n",
       "      <td>0.547</td>\n",
       "      <td>0.534</td>\n",
       "      <td>0.452</td>\n",
       "      <td>0.434</td>\n",
       "      <td>0.285</td>\n",
       "      <td>0.396</td>\n",
       "      <td>0.5280</td>\n",
       "      <td>...</td>\n",
       "      <td>NaN</td>\n",
       "      <td>4.0</td>\n",
       "      <td>4.0</td>\n",
       "      <td>3.0</td>\n",
       "      <td>4.0</td>\n",
       "      <td>4.0</td>\n",
       "      <td>4.0</td>\n",
       "      <td>3.0</td>\n",
       "      <td>3.0</td>\n",
       "      <td>SSCI</td>\n",
       "    </tr>\n",
       "    <tr>\n",
       "      <th>139</th>\n",
       "      <td>273</td>\n",
       "      <td>NaN</td>\n",
       "      <td>NaN</td>\n",
       "      <td>NaN</td>\n",
       "      <td>NaN</td>\n",
       "      <td>NaN</td>\n",
       "      <td>NaN</td>\n",
       "      <td>NaN</td>\n",
       "      <td>NaN</td>\n",
       "      <td>1.3560</td>\n",
       "      <td>...</td>\n",
       "      <td>NaN</td>\n",
       "      <td>NaN</td>\n",
       "      <td>NaN</td>\n",
       "      <td>NaN</td>\n",
       "      <td>NaN</td>\n",
       "      <td>NaN</td>\n",
       "      <td>NaN</td>\n",
       "      <td>3.0</td>\n",
       "      <td>NaN</td>\n",
       "      <td>SSCI</td>\n",
       "    </tr>\n",
       "  </tbody>\n",
       "</table>\n",
       "<p>646 rows × 69 columns</p>\n",
       "</div>"
      ],
      "text/plain": [
       "     final_index  2009_SNIP  2010_SNIP  2011_SNIP  2012_SNIP  2013_SNIP  \\\n",
       "322          709        NaN        NaN        NaN        NaN        NaN   \n",
       "553         1146        NaN        NaN        NaN        NaN        NaN   \n",
       "552         1145        NaN        NaN        NaN        NaN        NaN   \n",
       "551         1141        NaN        NaN        NaN        NaN        NaN   \n",
       "111          216        NaN      0.271      0.634        NaN      0.827   \n",
       "..           ...        ...        ...        ...        ...        ...   \n",
       "80           135        NaN        NaN        NaN        NaN        NaN   \n",
       "79           133        NaN        NaN      0.622      0.772      0.653   \n",
       "502         1058        NaN        NaN        NaN        NaN        NaN   \n",
       "82           137        NaN        NaN      0.547      0.534      0.452   \n",
       "139          273        NaN        NaN        NaN        NaN        NaN   \n",
       "\n",
       "     2014_SNIP  2015_SNIP  2016_SNIP  2017_SNIP  ...  2010_IF_quartile  \\\n",
       "322        NaN        NaN        NaN        NaN  ...               NaN   \n",
       "553        NaN        NaN        NaN        NaN  ...               NaN   \n",
       "552        NaN        NaN        NaN        NaN  ...               NaN   \n",
       "551        NaN        NaN      0.269     0.5970  ...               NaN   \n",
       "111      1.017      0.788      0.603     1.4855  ...               NaN   \n",
       "..         ...        ...        ...        ...  ...               ...   \n",
       "80         NaN        NaN      1.182     1.8400  ...               NaN   \n",
       "79       1.215      1.110      1.078        NaN  ...               NaN   \n",
       "502        NaN        NaN        NaN        NaN  ...               NaN   \n",
       "82       0.434      0.285      0.396     0.5280  ...               NaN   \n",
       "139        NaN        NaN        NaN     1.3560  ...               NaN   \n",
       "\n",
       "     2011_IF_quartile  2012_IF_quartile  2013_IF_quartile  2014_IF_quartile  \\\n",
       "322               NaN               NaN               NaN               NaN   \n",
       "553               NaN               NaN               NaN               NaN   \n",
       "552               NaN               NaN               NaN               NaN   \n",
       "551               NaN               NaN               NaN               NaN   \n",
       "111               NaN               NaN               4.0               NaN   \n",
       "..                ...               ...               ...               ...   \n",
       "80                NaN               NaN               NaN               NaN   \n",
       "79                4.0               3.0               3.0               2.0   \n",
       "502               NaN               NaN               NaN               NaN   \n",
       "82                4.0               4.0               3.0               4.0   \n",
       "139               NaN               NaN               NaN               NaN   \n",
       "\n",
       "     2015_IF_quartile  2016_IF_quartile  2017_IF_quartile  2018_IF_quartile  \\\n",
       "322               NaN               NaN               NaN               NaN   \n",
       "553               NaN               NaN               NaN               NaN   \n",
       "552               NaN               NaN               NaN               NaN   \n",
       "551               NaN               NaN               NaN               NaN   \n",
       "111               4.0               4.0               4.0               3.0   \n",
       "..                ...               ...               ...               ...   \n",
       "80                NaN               3.0               NaN               NaN   \n",
       "79                2.0               2.0               NaN               3.0   \n",
       "502               NaN               NaN               NaN               4.0   \n",
       "82                4.0               4.0               3.0               3.0   \n",
       "139               NaN               NaN               3.0               NaN   \n",
       "\n",
       "     InCites_JCR  \n",
       "322           NA  \n",
       "553           NA  \n",
       "552           NA  \n",
       "551           NA  \n",
       "111           NA  \n",
       "..           ...  \n",
       "80          SSCI  \n",
       "79          SSCI  \n",
       "502         SSCI  \n",
       "82          SSCI  \n",
       "139         SSCI  \n",
       "\n",
       "[646 rows x 69 columns]"
      ]
     },
     "execution_count": 61,
     "metadata": {},
     "output_type": "execute_result"
    }
   ],
   "source": [
    "leidiniai_final"
   ]
  },
  {
   "cell_type": "markdown",
   "id": "03807c89",
   "metadata": {},
   "source": [
    "#### Sukuriama atskira DataFrame, kuri bus naudojama Flask app modeliui sudaryti. Parenkamos visų rodiklių paskutiniųjų metų reikšmės ir mokslo šaka – SCIE"
   ]
  },
  {
   "cell_type": "code",
   "execution_count": 63,
   "id": "298a220f",
   "metadata": {},
   "outputs": [],
   "source": [
    "test_data_for_flask = leidiniai_final[['2018_SNIP', '2018_CiteScore', '2018_SJR', \n",
    "                                       '2018_scopus_quartile', '2018_AIF', \n",
    "                                       '2018_IF_quartile']].loc[leidiniai_final['InCites_JCR'] == 'SCIE'].fillna(0)"
   ]
  },
  {
   "cell_type": "markdown",
   "id": "815c2901",
   "metadata": {},
   "source": [
    "#### 6. Sudaromi 3 duomenų rinkiniai pagal mokslo šakas: SCIE, SSCI ir NA"
   ]
  },
  {
   "cell_type": "code",
   "execution_count": 67,
   "id": "0df2da76",
   "metadata": {},
   "outputs": [],
   "source": [
    "NA = leidiniai_final[leidiniai_final['InCites_JCR'] == 'NA']"
   ]
  },
  {
   "cell_type": "code",
   "execution_count": 68,
   "id": "f02764a5",
   "metadata": {},
   "outputs": [],
   "source": [
    "NA = NA.drop(['InCites_JCR', 'final_index'], axis=1)"
   ]
  },
  {
   "cell_type": "code",
   "execution_count": 69,
   "id": "8258a909",
   "metadata": {},
   "outputs": [],
   "source": [
    "SCIE = leidiniai_final[leidiniai_final['InCites_JCR'] == 'SCIE']"
   ]
  },
  {
   "cell_type": "code",
   "execution_count": 70,
   "id": "062f8dc7",
   "metadata": {},
   "outputs": [],
   "source": [
    "SCIE = SCIE.drop(['InCites_JCR', 'final_index'], axis=1)"
   ]
  },
  {
   "cell_type": "code",
   "execution_count": 71,
   "id": "5d12a557",
   "metadata": {},
   "outputs": [],
   "source": [
    "SSCI = leidiniai_final[leidiniai_final['InCites_JCR'] == 'SSCI']"
   ]
  },
  {
   "cell_type": "code",
   "execution_count": 72,
   "id": "7bb18947",
   "metadata": {},
   "outputs": [],
   "source": [
    "SSCI = SSCI.drop(['InCites_JCR', 'final_index'], axis=1)"
   ]
  },
  {
   "cell_type": "markdown",
   "id": "e2de51df",
   "metadata": {},
   "source": [
    "### Klasterizavimas"
   ]
  },
  {
   "cell_type": "markdown",
   "id": "2185d437",
   "metadata": {},
   "source": [
    "#### Duomenų scalinimas"
   ]
  },
  {
   "cell_type": "code",
   "execution_count": 73,
   "id": "5dc5577e",
   "metadata": {},
   "outputs": [],
   "source": [
    "scaler = MinMaxScaler()"
   ]
  },
  {
   "cell_type": "code",
   "execution_count": 74,
   "id": "e2834c56",
   "metadata": {},
   "outputs": [
    {
     "name": "stderr",
     "output_type": "stream",
     "text": [
      "c:\\users\\ruta\\desktop\\studijos\\4 semestras\\02. python\\venv\\lib\\site-packages\\sklearn\\preprocessing\\_data.py:461: RuntimeWarning: All-NaN slice encountered\n",
      "  data_min = np.nanmin(X, axis=0)\n",
      "c:\\users\\ruta\\desktop\\studijos\\4 semestras\\02. python\\venv\\lib\\site-packages\\sklearn\\preprocessing\\_data.py:462: RuntimeWarning: All-NaN slice encountered\n",
      "  data_max = np.nanmax(X, axis=0)\n"
     ]
    }
   ],
   "source": [
    "scaled_data_NA = scaler.fit_transform(NA)"
   ]
  },
  {
   "cell_type": "code",
   "execution_count": 75,
   "id": "b715d733",
   "metadata": {},
   "outputs": [],
   "source": [
    "scaled_data_NA = pd.DataFrame(scaled_data_NA)"
   ]
  },
  {
   "cell_type": "code",
   "execution_count": 76,
   "id": "23f8ff68",
   "metadata": {},
   "outputs": [
    {
     "name": "stderr",
     "output_type": "stream",
     "text": [
      "c:\\users\\ruta\\desktop\\studijos\\4 semestras\\02. python\\venv\\lib\\site-packages\\sklearn\\preprocessing\\_data.py:461: RuntimeWarning: All-NaN slice encountered\n",
      "  data_min = np.nanmin(X, axis=0)\n",
      "c:\\users\\ruta\\desktop\\studijos\\4 semestras\\02. python\\venv\\lib\\site-packages\\sklearn\\preprocessing\\_data.py:462: RuntimeWarning: All-NaN slice encountered\n",
      "  data_max = np.nanmax(X, axis=0)\n"
     ]
    }
   ],
   "source": [
    "scaled_data_SCIE = scaler.fit_transform(SCIE)"
   ]
  },
  {
   "cell_type": "code",
   "execution_count": 77,
   "id": "509156c9",
   "metadata": {},
   "outputs": [],
   "source": [
    "scaled_data_SCIE = pd.DataFrame(scaled_data_SCIE)"
   ]
  },
  {
   "cell_type": "code",
   "execution_count": 78,
   "id": "c73e0735",
   "metadata": {},
   "outputs": [
    {
     "name": "stderr",
     "output_type": "stream",
     "text": [
      "c:\\users\\ruta\\desktop\\studijos\\4 semestras\\02. python\\venv\\lib\\site-packages\\sklearn\\preprocessing\\_data.py:461: RuntimeWarning: All-NaN slice encountered\n",
      "  data_min = np.nanmin(X, axis=0)\n",
      "c:\\users\\ruta\\desktop\\studijos\\4 semestras\\02. python\\venv\\lib\\site-packages\\sklearn\\preprocessing\\_data.py:462: RuntimeWarning: All-NaN slice encountered\n",
      "  data_max = np.nanmax(X, axis=0)\n"
     ]
    }
   ],
   "source": [
    "scaled_data_SSCI = scaler.fit_transform(SSCI)"
   ]
  },
  {
   "cell_type": "code",
   "execution_count": 79,
   "id": "1bab6f9a",
   "metadata": {},
   "outputs": [],
   "source": [
    "scaled_data_SSCI = pd.DataFrame(scaled_data_SSCI)"
   ]
  },
  {
   "cell_type": "code",
   "execution_count": 80,
   "id": "95c65f45",
   "metadata": {},
   "outputs": [],
   "source": [
    "scaled_data = pd.concat([scaled_data_NA, scaled_data_SCIE, scaled_data_SSCI], axis=0, ignore_index=True)"
   ]
  },
  {
   "cell_type": "code",
   "execution_count": 81,
   "id": "4743d032",
   "metadata": {},
   "outputs": [],
   "source": [
    "scaled_data = scaled_data.fillna(0)"
   ]
  },
  {
   "cell_type": "code",
   "execution_count": 82,
   "id": "4e8f027f",
   "metadata": {},
   "outputs": [],
   "source": [
    "test_data = scaled_data.iloc[[0]]"
   ]
  },
  {
   "cell_type": "code",
   "execution_count": 83,
   "id": "a5ceba0f",
   "metadata": {},
   "outputs": [
    {
     "data": {
      "text/html": [
       "<div>\n",
       "<style scoped>\n",
       "    .dataframe tbody tr th:only-of-type {\n",
       "        vertical-align: middle;\n",
       "    }\n",
       "\n",
       "    .dataframe tbody tr th {\n",
       "        vertical-align: top;\n",
       "    }\n",
       "\n",
       "    .dataframe thead th {\n",
       "        text-align: right;\n",
       "    }\n",
       "</style>\n",
       "<table border=\"1\" class=\"dataframe\">\n",
       "  <thead>\n",
       "    <tr style=\"text-align: right;\">\n",
       "      <th></th>\n",
       "      <th>0</th>\n",
       "      <th>1</th>\n",
       "      <th>2</th>\n",
       "      <th>3</th>\n",
       "      <th>4</th>\n",
       "      <th>5</th>\n",
       "      <th>6</th>\n",
       "      <th>7</th>\n",
       "      <th>8</th>\n",
       "      <th>9</th>\n",
       "      <th>...</th>\n",
       "      <th>57</th>\n",
       "      <th>58</th>\n",
       "      <th>59</th>\n",
       "      <th>60</th>\n",
       "      <th>61</th>\n",
       "      <th>62</th>\n",
       "      <th>63</th>\n",
       "      <th>64</th>\n",
       "      <th>65</th>\n",
       "      <th>66</th>\n",
       "    </tr>\n",
       "  </thead>\n",
       "  <tbody>\n",
       "    <tr>\n",
       "      <th>0</th>\n",
       "      <td>0.0</td>\n",
       "      <td>0.0</td>\n",
       "      <td>0.0</td>\n",
       "      <td>0.0</td>\n",
       "      <td>0.0</td>\n",
       "      <td>0.0</td>\n",
       "      <td>0.0</td>\n",
       "      <td>0.0</td>\n",
       "      <td>0.0</td>\n",
       "      <td>0.025624</td>\n",
       "      <td>...</td>\n",
       "      <td>0.0</td>\n",
       "      <td>0.0</td>\n",
       "      <td>0.0</td>\n",
       "      <td>0.0</td>\n",
       "      <td>0.0</td>\n",
       "      <td>0.0</td>\n",
       "      <td>0.0</td>\n",
       "      <td>0.0</td>\n",
       "      <td>0.0</td>\n",
       "      <td>0.0</td>\n",
       "    </tr>\n",
       "  </tbody>\n",
       "</table>\n",
       "<p>1 rows × 67 columns</p>\n",
       "</div>"
      ],
      "text/plain": [
       "    0    1    2    3    4    5    6    7    8         9   ...   57   58   59  \\\n",
       "0  0.0  0.0  0.0  0.0  0.0  0.0  0.0  0.0  0.0  0.025624  ...  0.0  0.0  0.0   \n",
       "\n",
       "    60   61   62   63   64   65   66  \n",
       "0  0.0  0.0  0.0  0.0  0.0  0.0  0.0  \n",
       "\n",
       "[1 rows x 67 columns]"
      ]
     },
     "execution_count": 83,
     "metadata": {},
     "output_type": "execute_result"
    }
   ],
   "source": [
    "test_data"
   ]
  },
  {
   "cell_type": "markdown",
   "id": "d8330cfb",
   "metadata": {},
   "source": [
    "#### Sukuriamas Kmeans modelis"
   ]
  },
  {
   "cell_type": "code",
   "execution_count": 84,
   "id": "b0ce5494",
   "metadata": {},
   "outputs": [],
   "source": [
    "km = KMeans()"
   ]
  },
  {
   "cell_type": "code",
   "execution_count": 85,
   "id": "bb45850c",
   "metadata": {},
   "outputs": [
    {
     "data": {
      "text/plain": [
       "KMeans()"
      ]
     },
     "execution_count": 85,
     "metadata": {},
     "output_type": "execute_result"
    }
   ],
   "source": [
    "km.fit(scaled_data)"
   ]
  },
  {
   "cell_type": "markdown",
   "id": "b71d9d7c",
   "metadata": {},
   "source": [
    "#### Gauto modelio rezultatai nebūtinai yra geriausi iš pirmojo karto ir svarbu įsitikinti ar klasterių skaičius parinktas teisingai. Šiai užduočiai atlikti buvo naudojami 3 metodai: \n",
    "1.\tSudarant klasterių kvadratinės paklaidos sumos mažėjimo ir klasterių tarpusavio ryšio grafiką;\n",
    "2.\tNaudojant Python sistemoje jau paruoštą matodą kelbow_visualizer iš yellowbrick.cluster.elbow bibliotekos;\n",
    "3.\tApskaičiuojant silueto koeficientą.\n"
   ]
  },
  {
   "cell_type": "markdown",
   "id": "ee172bb1",
   "metadata": {},
   "source": [
    "#### Klasterių kvadratinės paklaidos sumos mažėjimo ir klasterių tarpusavio ryšio grafikas"
   ]
  },
  {
   "cell_type": "code",
   "execution_count": 86,
   "id": "da5a73d2",
   "metadata": {},
   "outputs": [],
   "source": [
    "k_values = list(range(2,20))"
   ]
  },
  {
   "cell_type": "code",
   "execution_count": 87,
   "id": "e5e1727f",
   "metadata": {},
   "outputs": [],
   "source": [
    "inertias = []"
   ]
  },
  {
   "cell_type": "code",
   "execution_count": 88,
   "id": "ec5352a7",
   "metadata": {},
   "outputs": [],
   "source": [
    "for k in k_values:\n",
    "    km = KMeans(n_clusters=k)\n",
    "    km.fit(scaled_data)\n",
    "    inertias.append(km.inertia_)"
   ]
  },
  {
   "cell_type": "code",
   "execution_count": 89,
   "id": "f10019e3",
   "metadata": {
    "scrolled": true
   },
   "outputs": [
    {
     "data": {
      "image/png": "[encoded data removed]",
      "text/plain": [
       "<Figure size 720x468 with 1 Axes>"
      ]
     },
     "metadata": {},
     "output_type": "display_data"
    }
   ],
   "source": [
    "sns.set_theme(style=\"whitegrid\", font_scale=1.5, font=\"Times New Roman\")\n",
    "f, ax = plt.subplots(figsize=(10, 6.5))\n",
    "ax.grid(False)\n",
    "plt.plot(k_values, inertias, marker='.',color='skyblue')\n",
    "plt.xticks(k_values)\n",
    "plt.xlabel('Klasterių skaičius')\n",
    "plt.ylabel('Kvadratinės paklaidos suma (SSE)');"
   ]
  },
  {
   "cell_type": "markdown",
   "id": "d9ed253d",
   "metadata": {},
   "source": [
    "#### kelbow_visualizer"
   ]
  },
  {
   "cell_type": "code",
   "execution_count": 90,
   "id": "a8ac8a42",
   "metadata": {
    "scrolled": false
   },
   "outputs": [
    {
     "data": {
      "image/png": "[encoded data removed]",
      "text/plain": [
       "<Figure size 576x576 with 2 Axes>"
      ]
     },
     "metadata": {},
     "output_type": "display_data"
    }
   ],
   "source": [
    "sns.set_theme(style=\"whitegrid\", font_scale=1.5, font=\"Times New Roman\")\n",
    "f, ax = plt.subplots(figsize=(8,8))\n",
    "ax.grid(False)\n",
    "\n",
    "viz = kelbow_visualizer(KMeans(), scaled_data, k=(2, 20), show=False, random_state=43)"
   ]
  },
  {
   "cell_type": "markdown",
   "id": "a3a9a3ac",
   "metadata": {},
   "source": [
    "#### Silueto koeficientas"
   ]
  },
  {
   "cell_type": "code",
   "execution_count": 91,
   "id": "69a66eea",
   "metadata": {},
   "outputs": [],
   "source": [
    "klasteriai = list(range(2,21))"
   ]
  },
  {
   "cell_type": "code",
   "execution_count": 92,
   "id": "b319a0f6",
   "metadata": {},
   "outputs": [],
   "source": [
    "score = []"
   ]
  },
  {
   "cell_type": "code",
   "execution_count": 93,
   "id": "a2b39e50",
   "metadata": {},
   "outputs": [],
   "source": [
    "for i in klasteriai:\n",
    "    km = KMeans(n_clusters=i, random_state=42)\n",
    "    km.fit(scaled_data)\n",
    "    s = round(silhouette_score(scaled_data, km.labels_, metric='euclidean'),3)\n",
    "    score.append(s)"
   ]
  },
  {
   "cell_type": "code",
   "execution_count": 94,
   "id": "a9f2fd26",
   "metadata": {},
   "outputs": [],
   "source": [
    "klasteriu_vertinimas = pd.DataFrame(\n",
    "    {'Klasteriu_skaicius': klasteriai,\n",
    "     'silhouette_score': score\n",
    "    })"
   ]
  },
  {
   "cell_type": "code",
   "execution_count": 95,
   "id": "69da24fb",
   "metadata": {
    "scrolled": false
   },
   "outputs": [
    {
     "data": {
      "text/html": [
       "<div>\n",
       "<style scoped>\n",
       "    .dataframe tbody tr th:only-of-type {\n",
       "        vertical-align: middle;\n",
       "    }\n",
       "\n",
       "    .dataframe tbody tr th {\n",
       "        vertical-align: top;\n",
       "    }\n",
       "\n",
       "    .dataframe thead th {\n",
       "        text-align: right;\n",
       "    }\n",
       "</style>\n",
       "<table border=\"1\" class=\"dataframe\">\n",
       "  <thead>\n",
       "    <tr style=\"text-align: right;\">\n",
       "      <th></th>\n",
       "      <th>Klasteriu_skaicius</th>\n",
       "      <th>silhouette_score</th>\n",
       "    </tr>\n",
       "  </thead>\n",
       "  <tbody>\n",
       "    <tr>\n",
       "      <th>0</th>\n",
       "      <td>2</td>\n",
       "      <td>0.386</td>\n",
       "    </tr>\n",
       "    <tr>\n",
       "      <th>1</th>\n",
       "      <td>3</td>\n",
       "      <td>0.124</td>\n",
       "    </tr>\n",
       "    <tr>\n",
       "      <th>2</th>\n",
       "      <td>4</td>\n",
       "      <td>0.128</td>\n",
       "    </tr>\n",
       "    <tr>\n",
       "      <th>3</th>\n",
       "      <td>5</td>\n",
       "      <td>0.144</td>\n",
       "    </tr>\n",
       "    <tr>\n",
       "      <th>4</th>\n",
       "      <td>6</td>\n",
       "      <td>0.108</td>\n",
       "    </tr>\n",
       "    <tr>\n",
       "      <th>5</th>\n",
       "      <td>7</td>\n",
       "      <td>0.152</td>\n",
       "    </tr>\n",
       "    <tr>\n",
       "      <th>6</th>\n",
       "      <td>8</td>\n",
       "      <td>0.124</td>\n",
       "    </tr>\n",
       "    <tr>\n",
       "      <th>7</th>\n",
       "      <td>9</td>\n",
       "      <td>0.136</td>\n",
       "    </tr>\n",
       "    <tr>\n",
       "      <th>8</th>\n",
       "      <td>10</td>\n",
       "      <td>0.141</td>\n",
       "    </tr>\n",
       "    <tr>\n",
       "      <th>9</th>\n",
       "      <td>11</td>\n",
       "      <td>0.152</td>\n",
       "    </tr>\n",
       "    <tr>\n",
       "      <th>10</th>\n",
       "      <td>12</td>\n",
       "      <td>0.140</td>\n",
       "    </tr>\n",
       "    <tr>\n",
       "      <th>11</th>\n",
       "      <td>13</td>\n",
       "      <td>0.124</td>\n",
       "    </tr>\n",
       "    <tr>\n",
       "      <th>12</th>\n",
       "      <td>14</td>\n",
       "      <td>0.155</td>\n",
       "    </tr>\n",
       "    <tr>\n",
       "      <th>13</th>\n",
       "      <td>15</td>\n",
       "      <td>0.168</td>\n",
       "    </tr>\n",
       "    <tr>\n",
       "      <th>14</th>\n",
       "      <td>16</td>\n",
       "      <td>0.169</td>\n",
       "    </tr>\n",
       "    <tr>\n",
       "      <th>15</th>\n",
       "      <td>17</td>\n",
       "      <td>0.152</td>\n",
       "    </tr>\n",
       "    <tr>\n",
       "      <th>16</th>\n",
       "      <td>18</td>\n",
       "      <td>0.174</td>\n",
       "    </tr>\n",
       "    <tr>\n",
       "      <th>17</th>\n",
       "      <td>19</td>\n",
       "      <td>0.180</td>\n",
       "    </tr>\n",
       "    <tr>\n",
       "      <th>18</th>\n",
       "      <td>20</td>\n",
       "      <td>0.174</td>\n",
       "    </tr>\n",
       "  </tbody>\n",
       "</table>\n",
       "</div>"
      ],
      "text/plain": [
       "    Klasteriu_skaicius  silhouette_score\n",
       "0                    2             0.386\n",
       "1                    3             0.124\n",
       "2                    4             0.128\n",
       "3                    5             0.144\n",
       "4                    6             0.108\n",
       "5                    7             0.152\n",
       "6                    8             0.124\n",
       "7                    9             0.136\n",
       "8                   10             0.141\n",
       "9                   11             0.152\n",
       "10                  12             0.140\n",
       "11                  13             0.124\n",
       "12                  14             0.155\n",
       "13                  15             0.168\n",
       "14                  16             0.169\n",
       "15                  17             0.152\n",
       "16                  18             0.174\n",
       "17                  19             0.180\n",
       "18                  20             0.174"
      ]
     },
     "execution_count": 95,
     "metadata": {},
     "output_type": "execute_result"
    }
   ],
   "source": [
    "klasteriu_vertinimas"
   ]
  },
  {
   "cell_type": "markdown",
   "id": "be1c7813",
   "metadata": {},
   "source": [
    "#### Iš gautų rezultatų, priimamas sprendimas, kad optimalus klasterių skaičius yra 7"
   ]
  },
  {
   "cell_type": "markdown",
   "id": "ab36fe2a",
   "metadata": {},
   "source": [
    "#### Optimaliausias klasterių skaičius pritaikomas modeliui"
   ]
  },
  {
   "cell_type": "code",
   "execution_count": 96,
   "id": "49c18266",
   "metadata": {},
   "outputs": [],
   "source": [
    "km = KMeans(n_clusters=7, random_state=43)"
   ]
  },
  {
   "cell_type": "code",
   "execution_count": 97,
   "id": "625b393c",
   "metadata": {
    "scrolled": true
   },
   "outputs": [
    {
     "data": {
      "text/plain": [
       "KMeans(n_clusters=7, random_state=43)"
      ]
     },
     "execution_count": 97,
     "metadata": {},
     "output_type": "execute_result"
    }
   ],
   "source": [
    "km.fit(scaled_data)"
   ]
  },
  {
   "cell_type": "markdown",
   "id": "e73bea61",
   "metadata": {},
   "source": [
    "#### Klasterių reikšmės pridedamos prie duomenų lentelės"
   ]
  },
  {
   "cell_type": "code",
   "execution_count": 98,
   "id": "f39164fc",
   "metadata": {},
   "outputs": [],
   "source": [
    "leidiniai_final['clusters'] = km.labels_"
   ]
  },
  {
   "cell_type": "markdown",
   "id": "d05b4770",
   "metadata": {},
   "source": [
    "#### Pritaikomas PCA metodas duomenims vaizduoti"
   ]
  },
  {
   "cell_type": "code",
   "execution_count": 99,
   "id": "7c0694fc",
   "metadata": {},
   "outputs": [],
   "source": [
    "pca = PCA(random_state = 42)"
   ]
  },
  {
   "cell_type": "code",
   "execution_count": 100,
   "id": "ad304ebe",
   "metadata": {},
   "outputs": [],
   "source": [
    "pca_transformed_data = pd.DataFrame(pca.fit_transform(scaled_data))"
   ]
  },
  {
   "cell_type": "code",
   "execution_count": 101,
   "id": "db6cafa1",
   "metadata": {},
   "outputs": [
    {
     "data": {
      "image/png": "[encoded data removed]",
      "text/plain": [
       "<Figure size 576x396 with 1 Axes>"
      ]
     },
     "metadata": {},
     "output_type": "display_data"
    }
   ],
   "source": [
    "sns.set_theme(style=\"whitegrid\", font_scale=1.5, font=\"Times New Roman\")\n",
    "fig, ax = plt.subplots()\n",
    "ax.grid(False)\n",
    "scatter = ax.scatter(pca_transformed_data[0], pca_transformed_data[1], c=leidiniai_final['clusters'], alpha = 0.6)\n",
    "\n",
    "legend1 = ax.legend(*scatter.legend_elements(),\n",
    "                    title=\"Klasteriai\", loc=(1.04,0.2))\n",
    "ax.add_artist(legend1);"
   ]
  },
  {
   "cell_type": "markdown",
   "id": "5ab78efc",
   "metadata": {},
   "source": [
    "### Klasterių analizė"
   ]
  },
  {
   "cell_type": "markdown",
   "id": "f176c9be",
   "metadata": {},
   "source": [
    "#### Klasteriai vizualizuojami naudojantis silhouette_visualizer"
   ]
  },
  {
   "cell_type": "code",
   "execution_count": 102,
   "id": "c7a6d9c4",
   "metadata": {},
   "outputs": [
    {
     "data": {
      "image/png": "[encoded data removed]",
      "text/plain": [
       "<Figure size 576x576 with 1 Axes>"
      ]
     },
     "metadata": {},
     "output_type": "display_data"
    }
   ],
   "source": [
    "sns.set_theme(style=\"whitegrid\", font_scale=1.5, font=\"Times New Roman\")\n",
    "f, ax = plt.subplots(figsize=(8, 8))\n",
    "ax.grid(False)\n",
    "silhouette_visualizer(KMeans(7, random_state=43), scaled_data, show=True);"
   ]
  },
  {
   "cell_type": "markdown",
   "id": "0f849cec",
   "metadata": {},
   "source": [
    "#### Gauti klasteriai pridedami prie pradinio duomenų rinkinio ir apibūdinami"
   ]
  },
  {
   "cell_type": "code",
   "execution_count": 103,
   "id": "6dcec3dc",
   "metadata": {},
   "outputs": [],
   "source": [
    "klasteriu_dydis = pd.DataFrame(leidiniai_final.clusters.value_counts()).sort_index().rename(columns = {'clusters':'count'})"
   ]
  },
  {
   "cell_type": "code",
   "execution_count": 104,
   "id": "57e6101c",
   "metadata": {},
   "outputs": [],
   "source": [
    "klasteriai = leidiniai_final[['final_index', 'clusters']]"
   ]
  },
  {
   "cell_type": "code",
   "execution_count": 105,
   "id": "8903ef3d",
   "metadata": {},
   "outputs": [],
   "source": [
    "klasteriu_analize = pd.merge(leidiniai_2, klasteriai, on='final_index')"
   ]
  },
  {
   "cell_type": "markdown",
   "id": "cfbb8f5a",
   "metadata": {},
   "source": [
    "#### Analizuojami gautų klasterių rodikliai"
   ]
  },
  {
   "cell_type": "code",
   "execution_count": 106,
   "id": "da876bd8",
   "metadata": {},
   "outputs": [],
   "source": [
    "vidurkiai_1 = klasteriu_analize.groupby('clusters').mean()"
   ]
  },
  {
   "cell_type": "code",
   "execution_count": 107,
   "id": "a62fb9a3",
   "metadata": {},
   "outputs": [],
   "source": [
    "vidurkiai_1 = vidurkiai_1.drop(['scopus_sources', 'if_info_years', 'final_index'], axis=1).reset_index()"
   ]
  },
  {
   "cell_type": "code",
   "execution_count": 108,
   "id": "3cdaae26",
   "metadata": {},
   "outputs": [],
   "source": [
    "vidurkiai = vidurkiai_1.join(klasteriu_dydis)"
   ]
  },
  {
   "cell_type": "code",
   "execution_count": 109,
   "id": "427a8606",
   "metadata": {},
   "outputs": [],
   "source": [
    "vidurkiai_lentele = vidurkiai.round(2).rename(columns = {'clusters':'Klasteriai', 'count':'Žurnalų skaičius'})"
   ]
  },
  {
   "cell_type": "code",
   "execution_count": 110,
   "id": "6c412505",
   "metadata": {},
   "outputs": [
    {
     "data": {
      "text/html": [
       "<div>\n",
       "<style scoped>\n",
       "    .dataframe tbody tr th:only-of-type {\n",
       "        vertical-align: middle;\n",
       "    }\n",
       "\n",
       "    .dataframe tbody tr th {\n",
       "        vertical-align: top;\n",
       "    }\n",
       "\n",
       "    .dataframe thead th {\n",
       "        text-align: right;\n",
       "    }\n",
       "</style>\n",
       "<table border=\"1\" class=\"dataframe\">\n",
       "  <thead>\n",
       "    <tr style=\"text-align: right;\">\n",
       "      <th></th>\n",
       "      <th>Klasteriai</th>\n",
       "      <th>SNIP</th>\n",
       "      <th>CiteScore</th>\n",
       "      <th>SJR</th>\n",
       "      <th>IF</th>\n",
       "      <th>AIF</th>\n",
       "      <th>Žurnalų skaičius</th>\n",
       "    </tr>\n",
       "  </thead>\n",
       "  <tbody>\n",
       "    <tr>\n",
       "      <th>0</th>\n",
       "      <td>0</td>\n",
       "      <td>1.06</td>\n",
       "      <td>1.60</td>\n",
       "      <td>0.67</td>\n",
       "      <td>1.40</td>\n",
       "      <td>2.38</td>\n",
       "      <td>68</td>\n",
       "    </tr>\n",
       "    <tr>\n",
       "      <th>1</th>\n",
       "      <td>1</td>\n",
       "      <td>0.74</td>\n",
       "      <td>0.85</td>\n",
       "      <td>0.38</td>\n",
       "      <td>0.79</td>\n",
       "      <td>1.96</td>\n",
       "      <td>33</td>\n",
       "    </tr>\n",
       "    <tr>\n",
       "      <th>2</th>\n",
       "      <td>2</td>\n",
       "      <td>1.50</td>\n",
       "      <td>2.63</td>\n",
       "      <td>1.01</td>\n",
       "      <td>2.26</td>\n",
       "      <td>2.25</td>\n",
       "      <td>42</td>\n",
       "    </tr>\n",
       "    <tr>\n",
       "      <th>3</th>\n",
       "      <td>3</td>\n",
       "      <td>0.77</td>\n",
       "      <td>1.18</td>\n",
       "      <td>0.41</td>\n",
       "      <td>1.04</td>\n",
       "      <td>2.94</td>\n",
       "      <td>95</td>\n",
       "    </tr>\n",
       "    <tr>\n",
       "      <th>4</th>\n",
       "      <td>4</td>\n",
       "      <td>0.73</td>\n",
       "      <td>0.85</td>\n",
       "      <td>0.48</td>\n",
       "      <td>0.81</td>\n",
       "      <td>1.35</td>\n",
       "      <td>177</td>\n",
       "    </tr>\n",
       "    <tr>\n",
       "      <th>5</th>\n",
       "      <td>5</td>\n",
       "      <td>1.02</td>\n",
       "      <td>1.80</td>\n",
       "      <td>0.70</td>\n",
       "      <td>1.62</td>\n",
       "      <td>2.71</td>\n",
       "      <td>84</td>\n",
       "    </tr>\n",
       "    <tr>\n",
       "      <th>6</th>\n",
       "      <td>6</td>\n",
       "      <td>1.20</td>\n",
       "      <td>2.75</td>\n",
       "      <td>0.90</td>\n",
       "      <td>2.34</td>\n",
       "      <td>2.33</td>\n",
       "      <td>147</td>\n",
       "    </tr>\n",
       "  </tbody>\n",
       "</table>\n",
       "</div>"
      ],
      "text/plain": [
       "   Klasteriai  SNIP  CiteScore   SJR    IF   AIF  Žurnalų skaičius\n",
       "0           0  1.06       1.60  0.67  1.40  2.38                68\n",
       "1           1  0.74       0.85  0.38  0.79  1.96                33\n",
       "2           2  1.50       2.63  1.01  2.26  2.25                42\n",
       "3           3  0.77       1.18  0.41  1.04  2.94                95\n",
       "4           4  0.73       0.85  0.48  0.81  1.35               177\n",
       "5           5  1.02       1.80  0.70  1.62  2.71                84\n",
       "6           6  1.20       2.75  0.90  2.34  2.33               147"
      ]
     },
     "execution_count": 110,
     "metadata": {},
     "output_type": "execute_result"
    }
   ],
   "source": [
    "vidurkiai_lentele"
   ]
  },
  {
   "cell_type": "code",
   "execution_count": 111,
   "id": "5635c01c",
   "metadata": {},
   "outputs": [],
   "source": [
    "#groupedvalues=vidurkiai.groupby('clusters').mean().reset_index()"
   ]
  },
  {
   "cell_type": "code",
   "execution_count": 112,
   "id": "1b207731",
   "metadata": {
    "scrolled": false
   },
   "outputs": [
    {
     "data": {
      "image/png": "[encoded data removed]",
      "text/plain": [
       "<Figure size 720x720 with 5 Axes>"
      ]
     },
     "metadata": {},
     "output_type": "display_data"
    }
   ],
   "source": [
    "sns.set_theme(style=\"whitegrid\", font_scale=1.5, font=\"Times New Roman\")\n",
    "rs = np.random.RandomState(8)\n",
    "\n",
    "# Set up the matplotlib figure\n",
    "f, (ax1, ax2, ax3, ax4, ax5) = plt.subplots(5, 1, figsize=(10,10), sharex=True)\n",
    "\n",
    "# SNIP\n",
    "x = vidurkiai['clusters']\n",
    "y1 = vidurkiai['SNIP']\n",
    "sns.barplot(x=x, y=y1, palette=\"hls\", ax=ax1)\n",
    "ax1.axhline(0, color=\"k\", clip_on=False)\n",
    "ax1.set_ylabel(\"SNIP\")\n",
    "ax1.get_xaxis().set_visible(False)\n",
    "labels1 = vidurkiai_lentele['SNIP'].tolist()\n",
    "for i in ax1.containers:\n",
    "    ax1.bar_label(i,labels1)\n",
    "\n",
    "# CiteScore\n",
    "y2 = vidurkiai['CiteScore']\n",
    "sns.barplot(x=x, y=y2, palette=\"hls\", ax=ax2)\n",
    "ax2.axhline(0, color=\"k\", clip_on=False)\n",
    "ax2.set_ylabel(\"CiteScore\")\n",
    "ax2.get_xaxis().set_visible(False)\n",
    "labels2 = vidurkiai_lentele['CiteScore'].tolist()\n",
    "for i in ax2.containers:\n",
    "    ax2.bar_label(i,labels2)\n",
    "\n",
    "# SJR\n",
    "y3 = vidurkiai['SJR']\n",
    "sns.barplot(x=x, y=y3, palette=\"hls\", ax=ax3)\n",
    "ax3.axhline(0, color=\"k\", clip_on=False)\n",
    "ax3.set_ylabel(\"SJR\")\n",
    "ax3.get_xaxis().set_visible(False)\n",
    "labels3 = vidurkiai_lentele['SJR'].tolist()\n",
    "for i in ax3.containers:\n",
    "    ax3.bar_label(i,labels3)\n",
    "\n",
    "# IF\n",
    "y4 = vidurkiai['IF']\n",
    "sns.barplot(x=x, y=y4, palette=\"hls\", ax=ax4)\n",
    "ax4.axhline(0, color=\"k\", clip_on=False)\n",
    "ax4.set_ylabel(\"IF\")\n",
    "ax4.get_xaxis().set_visible(False)\n",
    "labels4 = vidurkiai_lentele['IF'].tolist()\n",
    "for i in ax4.containers:\n",
    "    ax4.bar_label(i,labels4)\n",
    "\n",
    "# AIF\n",
    "y5 = vidurkiai['AIF']\n",
    "sns.barplot(x=x, y=y5, palette=\"hls\", ax=ax5)\n",
    "ax5.axhline(0, color=\"k\", clip_on=False)\n",
    "ax5.set_ylabel(\"AIF\")\n",
    "ax5.set_xlabel(\"Klasteriai\")\n",
    "labels5 = vidurkiai_lentele['AIF'].tolist()\n",
    "for i in ax5.containers:\n",
    "    ax5.bar_label(i,labels5)\n",
    "\n",
    "# Finalize the plot\n",
    "sns.despine(bottom=True)\n",
    "plt.setp(f.axes, yticks=[])\n",
    "plt.tight_layout(h_pad=2)"
   ]
  },
  {
   "cell_type": "code",
   "execution_count": 113,
   "id": "22e2b333",
   "metadata": {},
   "outputs": [
    {
     "data": {
      "image/png": "[encoded data removed]",
      "text/plain": [
       "<Figure size 864x432 with 2 Axes>"
      ]
     },
     "metadata": {},
     "output_type": "display_data"
    }
   ],
   "source": [
    "sns.set_theme(style=\"whitegrid\", font_scale=1.5, font=\"Times New Roman\")\n",
    "\n",
    "fig, ax1 = plt.subplots(figsize=(12,6))\n",
    "ax1.grid(False)\n",
    "IF = sns.lineplot(data = vidurkiai['IF'], marker='o', sort = False, ax=ax1)\n",
    "ax2 = ax1.twinx()\n",
    "ax2.grid(False)\n",
    "SNIP = sns.lineplot(data = vidurkiai['SNIP'], marker='o', sort = False, ax=ax1)\n",
    "\n",
    "CiteScore = sns.lineplot(data = vidurkiai['CiteScore'], marker='o', sort = False, ax=ax1)\n",
    "\n",
    "SJR = sns.lineplot(data = vidurkiai['SJR'], marker='o', sort = False, ax=ax1)\n",
    "\n",
    "AIF = sns.lineplot(data = vidurkiai['AIF'], marker='o', sort = False, ax=ax1)\n",
    "\n",
    "sns.barplot(data = vidurkiai, x='clusters', y='count', alpha=0.5, ax=ax2, palette=\"hls\");\n",
    "\n",
    "ax1.legend(['IF', 'SNIP', 'CiteScore', 'SJR', 'AIF'], loc=(1.1,0.2));\n"
   ]
  },
  {
   "cell_type": "markdown",
   "id": "3a75c886",
   "metadata": {},
   "source": [
    "#### Atrenkami top 10 leidinių, kurie buvo klasterizuojami ir patikrinama, kokiam klasteriui jie buvo priskirti"
   ]
  },
  {
   "cell_type": "markdown",
   "id": "c112e33b",
   "metadata": {},
   "source": [
    "(Imama 17, o ne 10 leidinių, nes dalis iš daugiausiai minimų žurnalų nebuvo klasterizuojami, nes neturėjo bibliografinių rodiklių)"
   ]
  },
  {
   "cell_type": "code",
   "execution_count": 114,
   "id": "1e3f03cd",
   "metadata": {},
   "outputs": [],
   "source": [
    "top_17 = pd.DataFrame(leidiniai['final_index'].value_counts()).head(17)"
   ]
  },
  {
   "cell_type": "code",
   "execution_count": 115,
   "id": "5c23507c",
   "metadata": {},
   "outputs": [],
   "source": [
    "top_17 = top_17.reset_index().rename(columns = {'final_index':'value_count', 'index':'final_index'})"
   ]
  },
  {
   "cell_type": "code",
   "execution_count": 116,
   "id": "e9790ae6",
   "metadata": {},
   "outputs": [],
   "source": [
    "top10 = pd.merge(top_17,klasteriu_analize,on='final_index').drop_duplicates(subset='final_index', keep=\"last\")"
   ]
  },
  {
   "cell_type": "code",
   "execution_count": 117,
   "id": "57950b91",
   "metadata": {},
   "outputs": [
    {
     "data": {
      "text/html": [
       "<div>\n",
       "<style scoped>\n",
       "    .dataframe tbody tr th:only-of-type {\n",
       "        vertical-align: middle;\n",
       "    }\n",
       "\n",
       "    .dataframe tbody tr th {\n",
       "        vertical-align: top;\n",
       "    }\n",
       "\n",
       "    .dataframe thead th {\n",
       "        text-align: right;\n",
       "    }\n",
       "</style>\n",
       "<table border=\"1\" class=\"dataframe\">\n",
       "  <thead>\n",
       "    <tr style=\"text-align: right;\">\n",
       "      <th></th>\n",
       "      <th>final_index</th>\n",
       "      <th>value_count</th>\n",
       "      <th>journal_name</th>\n",
       "      <th>scopus_sources</th>\n",
       "      <th>SNIP</th>\n",
       "      <th>CiteScore</th>\n",
       "      <th>SJR</th>\n",
       "      <th>quartile_in_caterory</th>\n",
       "      <th>IF</th>\n",
       "      <th>AIF</th>\n",
       "      <th>quartile_in_caterory_2</th>\n",
       "      <th>if_info_years</th>\n",
       "      <th>InCites_JCR</th>\n",
       "      <th>clusters</th>\n",
       "    </tr>\n",
       "  </thead>\n",
       "  <tbody>\n",
       "    <tr>\n",
       "      <th>8</th>\n",
       "      <td>164.0</td>\n",
       "      <td>170</td>\n",
       "      <td>Elektronika ir elektrotechnika</td>\n",
       "      <td>2018</td>\n",
       "      <td>0.488</td>\n",
       "      <td>0.81</td>\n",
       "      <td>0.182</td>\n",
       "      <td>Q3</td>\n",
       "      <td>0.684</td>\n",
       "      <td>3.195</td>\n",
       "      <td>Q4</td>\n",
       "      <td>2018</td>\n",
       "      <td>SCIE</td>\n",
       "      <td>1</td>\n",
       "    </tr>\n",
       "    <tr>\n",
       "      <th>23</th>\n",
       "      <td>258.0</td>\n",
       "      <td>162</td>\n",
       "      <td>Journal of civil engineering and management</td>\n",
       "      <td>2018</td>\n",
       "      <td>0.895</td>\n",
       "      <td>2.05</td>\n",
       "      <td>0.585</td>\n",
       "      <td>Q2</td>\n",
       "      <td>0.000</td>\n",
       "      <td>0.000</td>\n",
       "      <td>0</td>\n",
       "      <td>0</td>\n",
       "      <td>0</td>\n",
       "      <td>2</td>\n",
       "    </tr>\n",
       "    <tr>\n",
       "      <th>40</th>\n",
       "      <td>74.0</td>\n",
       "      <td>126</td>\n",
       "      <td>The Baltic journal of road and bridge engineering</td>\n",
       "      <td>2018</td>\n",
       "      <td>0.625</td>\n",
       "      <td>0.85</td>\n",
       "      <td>0.300</td>\n",
       "      <td>Q3</td>\n",
       "      <td>0.771</td>\n",
       "      <td>2.693</td>\n",
       "      <td>Q4</td>\n",
       "      <td>2018</td>\n",
       "      <td>SCIE</td>\n",
       "      <td>1</td>\n",
       "    </tr>\n",
       "    <tr>\n",
       "      <th>55</th>\n",
       "      <td>62.0</td>\n",
       "      <td>121</td>\n",
       "      <td>Transport</td>\n",
       "      <td>2018</td>\n",
       "      <td>1.222</td>\n",
       "      <td>1.78</td>\n",
       "      <td>0.478</td>\n",
       "      <td>Q2</td>\n",
       "      <td>0.000</td>\n",
       "      <td>0.000</td>\n",
       "      <td>0</td>\n",
       "      <td>0</td>\n",
       "      <td>0</td>\n",
       "      <td>1</td>\n",
       "    </tr>\n",
       "    <tr>\n",
       "      <th>64</th>\n",
       "      <td>1298.0</td>\n",
       "      <td>120</td>\n",
       "      <td>Verslas: teorija ir praktika</td>\n",
       "      <td>2018</td>\n",
       "      <td>0.933</td>\n",
       "      <td>1.21</td>\n",
       "      <td>0.259</td>\n",
       "      <td>Q2</td>\n",
       "      <td>0.000</td>\n",
       "      <td>0.000</td>\n",
       "      <td>0</td>\n",
       "      <td>0</td>\n",
       "      <td>0</td>\n",
       "      <td>4</td>\n",
       "    </tr>\n",
       "    <tr>\n",
       "      <th>71</th>\n",
       "      <td>174.0</td>\n",
       "      <td>104</td>\n",
       "      <td>Sustainability</td>\n",
       "      <td>2018</td>\n",
       "      <td>1.169</td>\n",
       "      <td>3.01</td>\n",
       "      <td>0.549</td>\n",
       "      <td>Q1</td>\n",
       "      <td>0.000</td>\n",
       "      <td>0.000</td>\n",
       "      <td>0</td>\n",
       "      <td>0</td>\n",
       "      <td>0</td>\n",
       "      <td>2</td>\n",
       "    </tr>\n",
       "    <tr>\n",
       "      <th>83</th>\n",
       "      <td>443.0</td>\n",
       "      <td>104</td>\n",
       "      <td>Technological and economic development of economy</td>\n",
       "      <td>2018</td>\n",
       "      <td>1.399</td>\n",
       "      <td>3.76</td>\n",
       "      <td>0.774</td>\n",
       "      <td>Q1</td>\n",
       "      <td>0.000</td>\n",
       "      <td>0.000</td>\n",
       "      <td>0</td>\n",
       "      <td>0</td>\n",
       "      <td>0</td>\n",
       "      <td>2</td>\n",
       "    </tr>\n",
       "    <tr>\n",
       "      <th>99</th>\n",
       "      <td>191.0</td>\n",
       "      <td>101</td>\n",
       "      <td>Filosofija. Sociologija</td>\n",
       "      <td>2018</td>\n",
       "      <td>0.304</td>\n",
       "      <td>0.36</td>\n",
       "      <td>0.637</td>\n",
       "      <td>Q2</td>\n",
       "      <td>0.403</td>\n",
       "      <td>1.636</td>\n",
       "      <td>Q4</td>\n",
       "      <td>2018</td>\n",
       "      <td>SSCI</td>\n",
       "      <td>1</td>\n",
       "    </tr>\n",
       "    <tr>\n",
       "      <th>108</th>\n",
       "      <td>334.0</td>\n",
       "      <td>98</td>\n",
       "      <td>Logos</td>\n",
       "      <td>2018</td>\n",
       "      <td>0.027</td>\n",
       "      <td>0.03</td>\n",
       "      <td>0.154</td>\n",
       "      <td>Q4</td>\n",
       "      <td>0.000</td>\n",
       "      <td>0.000</td>\n",
       "      <td>0</td>\n",
       "      <td>0</td>\n",
       "      <td>0</td>\n",
       "      <td>4</td>\n",
       "    </tr>\n",
       "    <tr>\n",
       "      <th>117</th>\n",
       "      <td>870.0</td>\n",
       "      <td>92</td>\n",
       "      <td>Journal of business economics and management</td>\n",
       "      <td>2018</td>\n",
       "      <td>0.637</td>\n",
       "      <td>1.75</td>\n",
       "      <td>0.389</td>\n",
       "      <td>Q2</td>\n",
       "      <td>1.855</td>\n",
       "      <td>2.590</td>\n",
       "      <td>Q2</td>\n",
       "      <td>2018</td>\n",
       "      <td>SSCI</td>\n",
       "      <td>1</td>\n",
       "    </tr>\n",
       "  </tbody>\n",
       "</table>\n",
       "</div>"
      ],
      "text/plain": [
       "     final_index  value_count  \\\n",
       "8          164.0          170   \n",
       "23         258.0          162   \n",
       "40          74.0          126   \n",
       "55          62.0          121   \n",
       "64        1298.0          120   \n",
       "71         174.0          104   \n",
       "83         443.0          104   \n",
       "99         191.0          101   \n",
       "108        334.0           98   \n",
       "117        870.0           92   \n",
       "\n",
       "                                          journal_name  scopus_sources   SNIP  \\\n",
       "8                       Elektronika ir elektrotechnika            2018  0.488   \n",
       "23         Journal of civil engineering and management            2018  0.895   \n",
       "40   The Baltic journal of road and bridge engineering            2018  0.625   \n",
       "55                                           Transport            2018  1.222   \n",
       "64                        Verslas: teorija ir praktika            2018  0.933   \n",
       "71                                      Sustainability            2018  1.169   \n",
       "83   Technological and economic development of economy            2018  1.399   \n",
       "99                             Filosofija. Sociologija            2018  0.304   \n",
       "108                                              Logos            2018  0.027   \n",
       "117       Journal of business economics and management            2018  0.637   \n",
       "\n",
       "     CiteScore    SJR quartile_in_caterory     IF    AIF  \\\n",
       "8         0.81  0.182                   Q3  0.684  3.195   \n",
       "23        2.05  0.585                   Q2  0.000  0.000   \n",
       "40        0.85  0.300                   Q3  0.771  2.693   \n",
       "55        1.78  0.478                   Q2  0.000  0.000   \n",
       "64        1.21  0.259                   Q2  0.000  0.000   \n",
       "71        3.01  0.549                   Q1  0.000  0.000   \n",
       "83        3.76  0.774                   Q1  0.000  0.000   \n",
       "99        0.36  0.637                   Q2  0.403  1.636   \n",
       "108       0.03  0.154                   Q4  0.000  0.000   \n",
       "117       1.75  0.389                   Q2  1.855  2.590   \n",
       "\n",
       "    quartile_in_caterory_2  if_info_years InCites_JCR  clusters  \n",
       "8                       Q4           2018        SCIE         1  \n",
       "23                       0              0           0         2  \n",
       "40                      Q4           2018        SCIE         1  \n",
       "55                       0              0           0         1  \n",
       "64                       0              0           0         4  \n",
       "71                       0              0           0         2  \n",
       "83                       0              0           0         2  \n",
       "99                      Q4           2018        SSCI         1  \n",
       "108                      0              0           0         4  \n",
       "117                     Q2           2018        SSCI         1  "
      ]
     },
     "execution_count": 117,
     "metadata": {},
     "output_type": "execute_result"
    }
   ],
   "source": [
    "top10"
   ]
  },
  {
   "cell_type": "markdown",
   "id": "7eb11983",
   "metadata": {},
   "source": [
    "#### Flask modelio kūrimas, naudojant prieš tai atskirtus duomenis."
   ]
  },
  {
   "cell_type": "markdown",
   "id": "ae8fc231",
   "metadata": {},
   "source": [
    "#### dummy modelis deploymentui"
   ]
  },
  {
   "cell_type": "code",
   "execution_count": 118,
   "id": "bdae2005",
   "metadata": {},
   "outputs": [
    {
     "data": {
      "text/html": [
       "<div>\n",
       "<style scoped>\n",
       "    .dataframe tbody tr th:only-of-type {\n",
       "        vertical-align: middle;\n",
       "    }\n",
       "\n",
       "    .dataframe tbody tr th {\n",
       "        vertical-align: top;\n",
       "    }\n",
       "\n",
       "    .dataframe thead th {\n",
       "        text-align: right;\n",
       "    }\n",
       "</style>\n",
       "<table border=\"1\" class=\"dataframe\">\n",
       "  <thead>\n",
       "    <tr style=\"text-align: right;\">\n",
       "      <th></th>\n",
       "      <th>2018_SNIP</th>\n",
       "      <th>2018_CiteScore</th>\n",
       "      <th>2018_SJR</th>\n",
       "      <th>2018_scopus_quartile</th>\n",
       "      <th>2018_AIF</th>\n",
       "      <th>2018_IF_quartile</th>\n",
       "    </tr>\n",
       "  </thead>\n",
       "  <tbody>\n",
       "    <tr>\n",
       "      <th>358</th>\n",
       "      <td>0.000</td>\n",
       "      <td>0.00</td>\n",
       "      <td>0.000</td>\n",
       "      <td>0.0</td>\n",
       "      <td>0.000</td>\n",
       "      <td>0.0</td>\n",
       "    </tr>\n",
       "    <tr>\n",
       "      <th>360</th>\n",
       "      <td>0.558</td>\n",
       "      <td>1.51</td>\n",
       "      <td>0.534</td>\n",
       "      <td>2.0</td>\n",
       "      <td>3.556</td>\n",
       "      <td>3.0</td>\n",
       "    </tr>\n",
       "    <tr>\n",
       "      <th>442</th>\n",
       "      <td>0.000</td>\n",
       "      <td>0.00</td>\n",
       "      <td>0.000</td>\n",
       "      <td>0.0</td>\n",
       "      <td>0.000</td>\n",
       "      <td>0.0</td>\n",
       "    </tr>\n",
       "    <tr>\n",
       "      <th>443</th>\n",
       "      <td>1.433</td>\n",
       "      <td>7.19</td>\n",
       "      <td>1.947</td>\n",
       "      <td>1.0</td>\n",
       "      <td>5.322</td>\n",
       "      <td>1.0</td>\n",
       "    </tr>\n",
       "    <tr>\n",
       "      <th>451</th>\n",
       "      <td>0.000</td>\n",
       "      <td>0.00</td>\n",
       "      <td>0.000</td>\n",
       "      <td>0.0</td>\n",
       "      <td>0.000</td>\n",
       "      <td>0.0</td>\n",
       "    </tr>\n",
       "    <tr>\n",
       "      <th>...</th>\n",
       "      <td>...</td>\n",
       "      <td>...</td>\n",
       "      <td>...</td>\n",
       "      <td>...</td>\n",
       "      <td>...</td>\n",
       "      <td>...</td>\n",
       "    </tr>\n",
       "    <tr>\n",
       "      <th>244</th>\n",
       "      <td>0.000</td>\n",
       "      <td>0.00</td>\n",
       "      <td>0.000</td>\n",
       "      <td>0.0</td>\n",
       "      <td>0.000</td>\n",
       "      <td>0.0</td>\n",
       "    </tr>\n",
       "    <tr>\n",
       "      <th>242</th>\n",
       "      <td>1.131</td>\n",
       "      <td>2.57</td>\n",
       "      <td>0.438</td>\n",
       "      <td>2.0</td>\n",
       "      <td>3.514</td>\n",
       "      <td>3.0</td>\n",
       "    </tr>\n",
       "    <tr>\n",
       "      <th>241</th>\n",
       "      <td>1.095</td>\n",
       "      <td>3.99</td>\n",
       "      <td>1.455</td>\n",
       "      <td>1.0</td>\n",
       "      <td>3.989</td>\n",
       "      <td>2.0</td>\n",
       "    </tr>\n",
       "    <tr>\n",
       "      <th>645</th>\n",
       "      <td>0.758</td>\n",
       "      <td>1.24</td>\n",
       "      <td>0.422</td>\n",
       "      <td>2.0</td>\n",
       "      <td>1.891</td>\n",
       "      <td>3.0</td>\n",
       "    </tr>\n",
       "    <tr>\n",
       "      <th>240</th>\n",
       "      <td>0.000</td>\n",
       "      <td>0.00</td>\n",
       "      <td>0.000</td>\n",
       "      <td>0.0</td>\n",
       "      <td>0.000</td>\n",
       "      <td>0.0</td>\n",
       "    </tr>\n",
       "  </tbody>\n",
       "</table>\n",
       "<p>462 rows × 6 columns</p>\n",
       "</div>"
      ],
      "text/plain": [
       "     2018_SNIP  2018_CiteScore  2018_SJR  2018_scopus_quartile  2018_AIF  \\\n",
       "358      0.000            0.00     0.000                   0.0     0.000   \n",
       "360      0.558            1.51     0.534                   2.0     3.556   \n",
       "442      0.000            0.00     0.000                   0.0     0.000   \n",
       "443      1.433            7.19     1.947                   1.0     5.322   \n",
       "451      0.000            0.00     0.000                   0.0     0.000   \n",
       "..         ...             ...       ...                   ...       ...   \n",
       "244      0.000            0.00     0.000                   0.0     0.000   \n",
       "242      1.131            2.57     0.438                   2.0     3.514   \n",
       "241      1.095            3.99     1.455                   1.0     3.989   \n",
       "645      0.758            1.24     0.422                   2.0     1.891   \n",
       "240      0.000            0.00     0.000                   0.0     0.000   \n",
       "\n",
       "     2018_IF_quartile  \n",
       "358               0.0  \n",
       "360               3.0  \n",
       "442               0.0  \n",
       "443               1.0  \n",
       "451               0.0  \n",
       "..                ...  \n",
       "244               0.0  \n",
       "242               3.0  \n",
       "241               2.0  \n",
       "645               3.0  \n",
       "240               0.0  \n",
       "\n",
       "[462 rows x 6 columns]"
      ]
     },
     "execution_count": 118,
     "metadata": {},
     "output_type": "execute_result"
    }
   ],
   "source": [
    "test_data_for_flask"
   ]
  },
  {
   "cell_type": "code",
   "execution_count": 119,
   "id": "b0aeeb59",
   "metadata": {},
   "outputs": [],
   "source": [
    "km_1 = KMeans(random_state=43)"
   ]
  },
  {
   "cell_type": "code",
   "execution_count": 120,
   "id": "d9110fd9",
   "metadata": {},
   "outputs": [
    {
     "data": {
      "text/plain": [
       "KMeans(random_state=43)"
      ]
     },
     "execution_count": 120,
     "metadata": {},
     "output_type": "execute_result"
    }
   ],
   "source": [
    "km_1.fit(test_data_for_flask)"
   ]
  },
  {
   "cell_type": "markdown",
   "id": "c5919700",
   "metadata": {},
   "source": [
    "#### Naudojant kelbow_visualizer, patikrinama, koks klasterių skaičius tinkamiausias šiems duomenims. Gautas rezultatas – 5"
   ]
  },
  {
   "cell_type": "code",
   "execution_count": 126,
   "id": "23bae69d",
   "metadata": {},
   "outputs": [
    {
     "data": {
      "text/html": [
       "<div>\n",
       "<style scoped>\n",
       "    .dataframe tbody tr th:only-of-type {\n",
       "        vertical-align: middle;\n",
       "    }\n",
       "\n",
       "    .dataframe tbody tr th {\n",
       "        vertical-align: top;\n",
       "    }\n",
       "\n",
       "    .dataframe thead th {\n",
       "        text-align: right;\n",
       "    }\n",
       "</style>\n",
       "<table border=\"1\" class=\"dataframe\">\n",
       "  <thead>\n",
       "    <tr style=\"text-align: right;\">\n",
       "      <th></th>\n",
       "      <th>2018_SNIP</th>\n",
       "      <th>2018_CiteScore</th>\n",
       "      <th>2018_SJR</th>\n",
       "      <th>2018_scopus_quartile</th>\n",
       "      <th>2018_AIF</th>\n",
       "      <th>2018_IF_quartile</th>\n",
       "    </tr>\n",
       "  </thead>\n",
       "  <tbody>\n",
       "    <tr>\n",
       "      <th>count</th>\n",
       "      <td>462.000000</td>\n",
       "      <td>462.000000</td>\n",
       "      <td>462.000000</td>\n",
       "      <td>462.000000</td>\n",
       "      <td>462.000000</td>\n",
       "      <td>462.000000</td>\n",
       "    </tr>\n",
       "    <tr>\n",
       "      <th>mean</th>\n",
       "      <td>0.564006</td>\n",
       "      <td>1.341652</td>\n",
       "      <td>0.406715</td>\n",
       "      <td>0.900433</td>\n",
       "      <td>1.801961</td>\n",
       "      <td>1.229437</td>\n",
       "    </tr>\n",
       "    <tr>\n",
       "      <th>std</th>\n",
       "      <td>0.679707</td>\n",
       "      <td>1.909336</td>\n",
       "      <td>0.655651</td>\n",
       "      <td>1.065552</td>\n",
       "      <td>1.937946</td>\n",
       "      <td>1.448823</td>\n",
       "    </tr>\n",
       "    <tr>\n",
       "      <th>min</th>\n",
       "      <td>0.000000</td>\n",
       "      <td>0.000000</td>\n",
       "      <td>0.000000</td>\n",
       "      <td>0.000000</td>\n",
       "      <td>0.000000</td>\n",
       "      <td>0.000000</td>\n",
       "    </tr>\n",
       "    <tr>\n",
       "      <th>25%</th>\n",
       "      <td>0.000000</td>\n",
       "      <td>0.000000</td>\n",
       "      <td>0.000000</td>\n",
       "      <td>0.000000</td>\n",
       "      <td>0.000000</td>\n",
       "      <td>0.000000</td>\n",
       "    </tr>\n",
       "    <tr>\n",
       "      <th>50%</th>\n",
       "      <td>0.374500</td>\n",
       "      <td>0.500000</td>\n",
       "      <td>0.190000</td>\n",
       "      <td>1.000000</td>\n",
       "      <td>0.917000</td>\n",
       "      <td>1.000000</td>\n",
       "    </tr>\n",
       "    <tr>\n",
       "      <th>75%</th>\n",
       "      <td>1.008500</td>\n",
       "      <td>2.147500</td>\n",
       "      <td>0.571125</td>\n",
       "      <td>2.000000</td>\n",
       "      <td>3.534000</td>\n",
       "      <td>2.000000</td>\n",
       "    </tr>\n",
       "    <tr>\n",
       "      <th>max</th>\n",
       "      <td>3.694000</td>\n",
       "      <td>14.580000</td>\n",
       "      <td>5.646000</td>\n",
       "      <td>4.000000</td>\n",
       "      <td>5.878000</td>\n",
       "      <td>4.000000</td>\n",
       "    </tr>\n",
       "  </tbody>\n",
       "</table>\n",
       "</div>"
      ],
      "text/plain": [
       "        2018_SNIP  2018_CiteScore    2018_SJR  2018_scopus_quartile  \\\n",
       "count  462.000000      462.000000  462.000000            462.000000   \n",
       "mean     0.564006        1.341652    0.406715              0.900433   \n",
       "std      0.679707        1.909336    0.655651              1.065552   \n",
       "min      0.000000        0.000000    0.000000              0.000000   \n",
       "25%      0.000000        0.000000    0.000000              0.000000   \n",
       "50%      0.374500        0.500000    0.190000              1.000000   \n",
       "75%      1.008500        2.147500    0.571125              2.000000   \n",
       "max      3.694000       14.580000    5.646000              4.000000   \n",
       "\n",
       "         2018_AIF  2018_IF_quartile  \n",
       "count  462.000000        462.000000  \n",
       "mean     1.801961          1.229437  \n",
       "std      1.937946          1.448823  \n",
       "min      0.000000          0.000000  \n",
       "25%      0.000000          0.000000  \n",
       "50%      0.917000          1.000000  \n",
       "75%      3.534000          2.000000  \n",
       "max      5.878000          4.000000  "
      ]
     },
     "execution_count": 126,
     "metadata": {},
     "output_type": "execute_result"
    }
   ],
   "source": [
    "test_data_for_flask.describe()"
   ]
  },
  {
   "cell_type": "code",
   "execution_count": 121,
   "id": "b56677e5",
   "metadata": {},
   "outputs": [
    {
     "data": {
      "image/png": "[encoded data removed]",
      "text/plain": [
       "<Figure size 576x576 with 2 Axes>"
      ]
     },
     "metadata": {},
     "output_type": "display_data"
    }
   ],
   "source": [
    "sns.set_theme(style=\"whitegrid\", font_scale=1.5, font=\"Times New Roman\")\n",
    "f, ax = plt.subplots(figsize=(8,8))\n",
    "ax.grid(False)\n",
    "\n",
    "viz = kelbow_visualizer(KMeans(), test_data_for_flask, k=(2, 20), show=False, random_state=43)"
   ]
  },
  {
   "cell_type": "code",
   "execution_count": 122,
   "id": "ef417f72",
   "metadata": {},
   "outputs": [],
   "source": [
    "km_2 = KMeans(n_clusters=5, random_state=43)"
   ]
  },
  {
   "cell_type": "code",
   "execution_count": 123,
   "id": "405a1850",
   "metadata": {},
   "outputs": [
    {
     "data": {
      "text/plain": [
       "KMeans(n_clusters=5, random_state=43)"
      ]
     },
     "execution_count": 123,
     "metadata": {},
     "output_type": "execute_result"
    }
   ],
   "source": [
    "km_2.fit(test_data_for_flask)"
   ]
  },
  {
   "cell_type": "code",
   "execution_count": 124,
   "id": "3bc1b230",
   "metadata": {},
   "outputs": [
    {
     "name": "stdout",
     "output_type": "stream",
     "text": [
      "saving the model\n"
     ]
    }
   ],
   "source": [
    "filename = 'finalized_model.sav'\n",
    "print(\"saving the model\")\n",
    "pickle.dump(km_2, open(filename, 'wb'))"
   ]
  }
 ],
 "metadata": {
  "kernelspec": {
   "display_name": "Python 3 (ipykernel)",
   "language": "python",
   "name": "python3"
  },
  "language_info": {
   "codemirror_mode": {
    "name": "ipython",
    "version": 3
   },
   "file_extension": ".py",
   "mimetype": "text/x-python",
   "name": "python",
   "nbconvert_exporter": "python",
   "pygments_lexer": "ipython3",
   "version": "3.9.5"
  }
 },
 "nbformat": 4,
 "nbformat_minor": 5
}
