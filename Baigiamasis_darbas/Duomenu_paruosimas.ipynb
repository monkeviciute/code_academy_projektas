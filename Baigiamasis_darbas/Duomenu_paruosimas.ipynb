{
 "cells": [
  {
   "cell_type": "markdown",
   "id": "c8d3ee1e",
   "metadata": {},
   "source": [
    "## Naudojamos bibliotekos"
   ]
  },
  {
   "cell_type": "code",
   "execution_count": 2,
   "id": "7b9a59b8",
   "metadata": {},
   "outputs": [
    {
     "name": "stderr",
     "output_type": "stream",
     "text": [
      "c:\\users\\ruta\\desktop\\studijos\\4 semestras\\02. python\\venv\\lib\\site-packages\\fuzzywuzzy\\fuzz.py:11: UserWarning: Using slow pure-python SequenceMatcher. Install python-Levenshtein to remove this warning\n",
      "  warnings.warn('Using slow pure-python SequenceMatcher. Install python-Levenshtein to remove this warning')\n"
     ]
    }
   ],
   "source": [
    "import pandas as pd\n",
    "import numpy as np\n",
    "import re\n",
    "from functools import reduce\n",
    "import itertools\n",
    "from fuzzywuzzy import process, fuzz"
   ]
  },
  {
   "cell_type": "markdown",
   "id": "c3b7df4e",
   "metadata": {},
   "source": [
    "## Nuskaitomi duomenys"
   ]
  },
  {
   "cell_type": "code",
   "execution_count": 3,
   "id": "487e01c0",
   "metadata": {},
   "outputs": [],
   "source": [
    "data = pd.read_csv('data.csv')"
   ]
  },
  {
   "cell_type": "markdown",
   "id": "a7c1a174",
   "metadata": {},
   "source": [
    "## Sukuriamos autorių pavardžių ir inicialų kombinacijos ir išsaugomos Excel failuose"
   ]
  },
  {
   "cell_type": "markdown",
   "id": "9d0dbe45",
   "metadata": {},
   "source": [
    "#### Gautos autorių pavardės išsaudomos Excel failuose, kad būtų galima jas peržiūrėti"
   ]
  },
  {
   "cell_type": "markdown",
   "id": "3646c297",
   "metadata": {},
   "source": [
    "##### autoriai1: Pavarde, V.\n",
    "##### autoriai2: Pavarde Pavarde, V. - pasalinti su zodeliu ir\n",
    "##### autoriai3: Pavarde-Pavarde, V.\n",
    "##### autoriai4: Pavarde Pavarde Pavarde, V. - pasalinti dauguma reiksmiu\n",
    "##### autoriai5: Pavarde, V.V.\n",
    "##### autoriai6: Pavarde, V.V.V.\n",
    "##### autoriai7: Pavarde, V.V.V.V.\n",
    "##### autoriai8: Pavarde, V.V.V.V.V."
   ]
  },
  {
   "cell_type": "code",
   "execution_count": 4,
   "id": "1da6db36",
   "metadata": {},
   "outputs": [],
   "source": [
    "# autoriai1: Pavarde, V.\n",
    "autoriai_parser = re.compile(\"([A-Ž][a-ž]+, [A-Ž].)\")\n",
    "autoriai1 = pd.DataFrame(data.projection_apa.map(lambda x: re.findall(autoriai_parser, x)))\n",
    "#autoriai1.to_excel('autoriai1.xlsx')"
   ]
  },
  {
   "cell_type": "code",
   "execution_count": 5,
   "id": "30d95dd6",
   "metadata": {},
   "outputs": [],
   "source": [
    "# autoriai2: Pavarde Pavarde, V.\n",
    "autoriai_parser2 = re.compile(\"([A-Ž][a-ž]+ [A-Ž][a-ž]+, [A-Ž].)\")\n",
    "autoriai2 = pd.DataFrame(data.projection_apa.map(lambda x:  re.findall(autoriai_parser2, x)))\n",
    "#autoriai2.to_excel('autoriai2.xlsx')"
   ]
  },
  {
   "cell_type": "code",
   "execution_count": 6,
   "id": "875cfee6",
   "metadata": {},
   "outputs": [],
   "source": [
    "# autoriai3: Pavarde-Pavarde, V.\n",
    "autoriai_parser3 = re.compile(\"([A-Ž][a-ž]+[-][A-Ž][a-ž]+, [A-Ž].)\")\n",
    "autoriai3 = pd.DataFrame(data.projection_apa.map(lambda x:  re.findall(autoriai_parser3, x)))\n",
    "#autoriai3.to_excel('autoriai3.xlsx')"
   ]
  },
  {
   "cell_type": "code",
   "execution_count": 7,
   "id": "aa403632",
   "metadata": {},
   "outputs": [],
   "source": [
    "# autoriai4: Pavarde Pavarde Pavarde, V.\n",
    "autoriai_parser4 = re.compile(\"([A-Ž][a-ž]+ [A-Ž][a-ž]+ [A-Ž][a-ž]+, [A-Ž].)\")\n",
    "autoriai4 = pd.DataFrame(data.projection_apa.map(lambda x:  re.findall(autoriai_parser4, x)))\n",
    "#autoriai4.to_excel('autoriai4.xlsx')"
   ]
  },
  {
   "cell_type": "code",
   "execution_count": 8,
   "id": "d92cfb32",
   "metadata": {},
   "outputs": [],
   "source": [
    "# autoriai5: Pavarde, V.V.\n",
    "autoriai_parser5 = re.compile(\"([A-Ž][a-ž]+, [A-Ž][.]+ [A-Ž][.])\")\n",
    "autoriai5 = pd.DataFrame(data.projection_apa.map(lambda x:\n",
    "                                                 re.findall(autoriai_parser5, x)))\n",
    "#autoriai5.to_excel('autoriai5.xlsx')"
   ]
  },
  {
   "cell_type": "code",
   "execution_count": 9,
   "id": "b2dd272c",
   "metadata": {},
   "outputs": [],
   "source": [
    "# autoriai6: Pavarde, V.V.V.\n",
    "autoriai_parser6 = re.compile(\"([A-Ž][a-ž]+, [A-Ž][.]+ [A-Ž][.]+ [A-Ž][.])\")\n",
    "autoriai6 = pd.DataFrame(data.projection_apa.map(lambda x:  re.findall(autoriai_parser6, x)))\n",
    "#autoriai6.to_excel('autoriai6.xlsx')"
   ]
  },
  {
   "cell_type": "code",
   "execution_count": 10,
   "id": "f06ab4c0",
   "metadata": {},
   "outputs": [],
   "source": [
    "# autoriai7: Pavarde, V.V.V.V.\n",
    "autoriai_parser7 = re.compile(\"([A-Ž][a-ž]+, [A-Ž][.]+ [A-Ž][.]+ [A-Ž][.]+ [A-Ž][.])\")\n",
    "autoriai7 = pd.DataFrame(data.projection_apa.map(lambda x:  re.findall(autoriai_parser7, x)))\n",
    "#autoriai7.to_excel('autoriai7.xlsx')"
   ]
  },
  {
   "cell_type": "code",
   "execution_count": 11,
   "id": "ccb73cbe",
   "metadata": {},
   "outputs": [],
   "source": [
    "# autoriai8: Pavarde, V.V.V.V.V.\n",
    "autoriai_parser8 = re.compile(\"([A-Ž][a-ž]+, [A-Ž][.]+ [A-Ž][.]+ [A-Ž][.]+ [A-Ž][.]+ [A-Ž][.])\")\n",
    "autoriai8 = pd.DataFrame(data.projection_apa.map(lambda x:  re.findall(autoriai_parser8, x)))\n",
    "# autoriai8.to_excel('autoriai8.xlsx')"
   ]
  },
  {
   "cell_type": "markdown",
   "id": "4f0d1205",
   "metadata": {},
   "source": [
    "## Pašalinami publikacijų metai iš publikacijos aprašymo (metai yra atskiras stulpelis)"
   ]
  },
  {
   "cell_type": "code",
   "execution_count": 12,
   "id": "de68b92d",
   "metadata": {},
   "outputs": [
    {
     "name": "stderr",
     "output_type": "stream",
     "text": [
      "C:\\Users\\Ruta\\AppData\\Local\\Temp\\ipykernel_5464\\1990771342.py:7: SettingWithCopyWarning: \n",
      "A value is trying to be set on a copy of a slice from a DataFrame\n",
      "\n",
      "See the caveats in the documentation: https://pandas.pydata.org/pandas-docs/stable/user_guide/indexing.html#returning-a-view-versus-a-copy\n",
      "  data1.new[index] = autoriai_parsed\n"
     ]
    }
   ],
   "source": [
    "data1 = data\n",
    "\n",
    "data1['new']=\"\"\n",
    "\n",
    "for index, row in enumerate(data1.projection_apa):\n",
    "    autoriai_parsed = re.sub(\"([(][0-9][0-9][0-9][0-9][)])\", \"\", row)\n",
    "    data1.new[index] = autoriai_parsed"
   ]
  },
  {
   "cell_type": "markdown",
   "id": "978499af",
   "metadata": {},
   "source": [
    "## doi adreso pašalinimas iš publikacijos aprašymo"
   ]
  },
  {
   "cell_type": "code",
   "execution_count": 13,
   "id": "957a3d6a",
   "metadata": {},
   "outputs": [],
   "source": [
    "doi = data1['new'].str.split('doi:', expand=True)"
   ]
  },
  {
   "cell_type": "code",
   "execution_count": 14,
   "id": "45d098bd",
   "metadata": {},
   "outputs": [],
   "source": [
    "data1['doi_address'] = doi[1]"
   ]
  },
  {
   "cell_type": "code",
   "execution_count": 15,
   "id": "50ae6fbc",
   "metadata": {},
   "outputs": [],
   "source": [
    "data1['doi'] = pd.notnull(data1['doi_address']).astype(int)"
   ]
  },
  {
   "cell_type": "code",
   "execution_count": 16,
   "id": "f1229bfc",
   "metadata": {},
   "outputs": [],
   "source": [
    "data1 = data1.drop(['doi_address'], axis=1)"
   ]
  },
  {
   "cell_type": "code",
   "execution_count": 17,
   "id": "4762dc7a",
   "metadata": {},
   "outputs": [],
   "source": [
    "data1['new_1'] = doi[0]"
   ]
  },
  {
   "cell_type": "markdown",
   "id": "d2371215",
   "metadata": {},
   "source": [
    "## \"Retrieved\" adreso pašalinimas iš publikacijos aprašymo"
   ]
  },
  {
   "cell_type": "code",
   "execution_count": 18,
   "id": "094a0cb1",
   "metadata": {},
   "outputs": [],
   "source": [
    "Retrieved = data1['new_1'].str.split('Retrieved ', expand=True)"
   ]
  },
  {
   "cell_type": "code",
   "execution_count": 19,
   "id": "89cce4ef",
   "metadata": {},
   "outputs": [],
   "source": [
    "data1['new_2'] = Retrieved[0]"
   ]
  },
  {
   "cell_type": "markdown",
   "id": "d098b8c0",
   "metadata": {},
   "source": [
    "## \"Žiūrėta\" adreso pašalinimas iš publikacijos aprašymo"
   ]
  },
  {
   "cell_type": "code",
   "execution_count": 20,
   "id": "78cd921a",
   "metadata": {},
   "outputs": [],
   "source": [
    "ziureta = data1['new_2'].str.split(' Žiūrėta ', expand=True)"
   ]
  },
  {
   "cell_type": "code",
   "execution_count": 21,
   "id": "c9c2b208",
   "metadata": {},
   "outputs": [],
   "source": [
    "data1['new_3'] = ziureta[0]"
   ]
  },
  {
   "cell_type": "code",
   "execution_count": 22,
   "id": "0630351e",
   "metadata": {},
   "outputs": [],
   "source": [
    "data1 = data1.drop(['new', 'new_1', 'new_2'], axis=1)"
   ]
  },
  {
   "cell_type": "markdown",
   "id": "837db6e2",
   "metadata": {},
   "source": [
    "## Išskiriami publikacijų puslapiai ir pašalinami iš publikacijos aprašymo"
   ]
  },
  {
   "cell_type": "markdown",
   "id": "440db120",
   "metadata": {},
   "source": [
    "#### Pirmiausia randamos ir pašalinamos skaičių kombinacijos, kurios yra nerealistinės (klaidingi įrašai arba išskirtys). Jie nebus naudojami puslapių skaičiui aprašyti."
   ]
  },
  {
   "cell_type": "code",
   "execution_count": 23,
   "id": "51ade1a8",
   "metadata": {},
   "outputs": [
    {
     "name": "stderr",
     "output_type": "stream",
     "text": [
      "C:\\Users\\Ruta\\AppData\\Local\\Temp\\ipykernel_5464\\3223298426.py:5: SettingWithCopyWarning: \n",
      "A value is trying to be set on a copy of a slice from a DataFrame\n",
      "\n",
      "See the caveats in the documentation: https://pandas.pydata.org/pandas-docs/stable/user_guide/indexing.html#returning-a-view-versus-a-copy\n",
      "  data1.new_4[index] = autoriai_parsed\n"
     ]
    }
   ],
   "source": [
    "data1['new_4']=\"\"\n",
    "\n",
    "for index, row in enumerate(data1.new_3):\n",
    "    autoriai_parsed = re.sub(\"([0-9]+[-]+[0-9][0-9][0-9][0-9][0-9][0-9])\", \"\", row)\n",
    "    data1.new_4[index] = autoriai_parsed"
   ]
  },
  {
   "cell_type": "markdown",
   "id": "1014b690",
   "metadata": {},
   "source": [
    "#### Tuomet randami ir pašalinami publikacijos puslapiai, kurie yra ypač didelių verčių. Dalis jų yra nerealistiniai, dėl to tokios vertės bus šalinamos"
   ]
  },
  {
   "cell_type": "code",
   "execution_count": 24,
   "id": "2963b593",
   "metadata": {
    "scrolled": true
   },
   "outputs": [],
   "source": [
    "puslapiai_parser2 = re.compile(\"([0-9]+[-]+[0-9][0-9][0-9][0-9][0-9])\")\n",
    "puslapiai2 = pd.DataFrame(data1.new_4.map(lambda x:  re.findall(puslapiai_parser2, x)))"
   ]
  },
  {
   "cell_type": "code",
   "execution_count": 25,
   "id": "26269576",
   "metadata": {},
   "outputs": [],
   "source": [
    "puslapiai2.rename(columns = {'new_4' : 'Puslapiai_5_zenklai'}, inplace = True)"
   ]
  },
  {
   "cell_type": "code",
   "execution_count": 26,
   "id": "27ca5ea2",
   "metadata": {},
   "outputs": [],
   "source": [
    "data1['Puslapiai_5_zenklai'] = puslapiai2['Puslapiai_5_zenklai']"
   ]
  },
  {
   "cell_type": "code",
   "execution_count": 27,
   "id": "10223226",
   "metadata": {
    "scrolled": true
   },
   "outputs": [
    {
     "name": "stderr",
     "output_type": "stream",
     "text": [
      "C:\\Users\\Ruta\\AppData\\Local\\Temp\\ipykernel_5464\\3682309785.py:5: SettingWithCopyWarning: \n",
      "A value is trying to be set on a copy of a slice from a DataFrame\n",
      "\n",
      "See the caveats in the documentation: https://pandas.pydata.org/pandas-docs/stable/user_guide/indexing.html#returning-a-view-versus-a-copy\n",
      "  data1.new_5[index] = autoriai_parsed\n"
     ]
    }
   ],
   "source": [
    "data1['new_5']=\"\"\n",
    "\n",
    "for index, row in enumerate(data1.new_4):\n",
    "    autoriai_parsed = re.sub(\"([0-9]+[-]+[0-9][0-9][0-9][0-9][0-9])\", \"\", row)\n",
    "    data1.new_5[index] = autoriai_parsed"
   ]
  },
  {
   "cell_type": "code",
   "execution_count": 28,
   "id": "c7348afd",
   "metadata": {},
   "outputs": [],
   "source": [
    "data1 = data1.drop(['new_3', 'new_4'], axis=1)"
   ]
  },
  {
   "cell_type": "markdown",
   "id": "ed050fa5",
   "metadata": {},
   "source": [
    "#### Atskiriami ir pašalinami publikacijos puslapiai, kurie yra keturženkliai"
   ]
  },
  {
   "cell_type": "code",
   "execution_count": 29,
   "id": "45281a23",
   "metadata": {
    "scrolled": true
   },
   "outputs": [],
   "source": [
    "puslapiai_parser3 = re.compile(\"([0-9]+[-]+[0-9][0-9][0-9][0-9])\")\n",
    "puslapiai3 = pd.DataFrame(data1.new_5.map(lambda x:  re.findall(puslapiai_parser3, x)))"
   ]
  },
  {
   "cell_type": "code",
   "execution_count": 30,
   "id": "d3cc187a",
   "metadata": {},
   "outputs": [],
   "source": [
    "puslapiai3.rename(columns = {'new_5' : 'Puslapiai_4_zenklai'}, inplace = True)"
   ]
  },
  {
   "cell_type": "code",
   "execution_count": 31,
   "id": "8a59e81c",
   "metadata": {},
   "outputs": [],
   "source": [
    "data1['Puslapiai_4_zenklai'] = puslapiai3['Puslapiai_4_zenklai']"
   ]
  },
  {
   "cell_type": "code",
   "execution_count": 32,
   "id": "cf1cfd3f",
   "metadata": {
    "scrolled": false
   },
   "outputs": [
    {
     "name": "stderr",
     "output_type": "stream",
     "text": [
      "C:\\Users\\Ruta\\AppData\\Local\\Temp\\ipykernel_5464\\3752697549.py:5: SettingWithCopyWarning: \n",
      "A value is trying to be set on a copy of a slice from a DataFrame\n",
      "\n",
      "See the caveats in the documentation: https://pandas.pydata.org/pandas-docs/stable/user_guide/indexing.html#returning-a-view-versus-a-copy\n",
      "  data1.new_6[index] = autoriai_parsed\n"
     ]
    }
   ],
   "source": [
    "data1['new_6']=\"\"\n",
    "\n",
    "for index, row in enumerate(data1.new_5):\n",
    "    autoriai_parsed = re.sub(\"([0-9]+[-]+[0-9][0-9][0-9][0-9])\", \"\", row)\n",
    "    data1.new_6[index] = autoriai_parsed"
   ]
  },
  {
   "cell_type": "markdown",
   "id": "9effae41",
   "metadata": {},
   "source": [
    "#### Atskiriami ir pašalinami publikacijos puslapiai, kurie yra triženkliai"
   ]
  },
  {
   "cell_type": "code",
   "execution_count": 33,
   "id": "9d23c42f",
   "metadata": {
    "scrolled": true
   },
   "outputs": [],
   "source": [
    "puslapiai_parser4 = re.compile(\"([0-9]+[-]+[0-9][0-9][0-9])\")\n",
    "puslapiai4 = pd.DataFrame(data1.new_6.map(lambda x:\n",
    "                                          re.findall(puslapiai_parser4, x)))"
   ]
  },
  {
   "cell_type": "code",
   "execution_count": 34,
   "id": "a58efb0f",
   "metadata": {},
   "outputs": [],
   "source": [
    "puslapiai4.rename(columns = {'new_6' : 'Puslapiai_3_zenklai'}, inplace = True)"
   ]
  },
  {
   "cell_type": "code",
   "execution_count": 35,
   "id": "67fb060b",
   "metadata": {},
   "outputs": [],
   "source": [
    "data1['Puslapiai_3_zenklai'] = puslapiai4['Puslapiai_3_zenklai']"
   ]
  },
  {
   "cell_type": "code",
   "execution_count": 36,
   "id": "a7fbd141",
   "metadata": {
    "scrolled": true
   },
   "outputs": [
    {
     "name": "stderr",
     "output_type": "stream",
     "text": [
      "C:\\Users\\Ruta\\AppData\\Local\\Temp\\ipykernel_5464\\3381633236.py:5: SettingWithCopyWarning: \n",
      "A value is trying to be set on a copy of a slice from a DataFrame\n",
      "\n",
      "See the caveats in the documentation: https://pandas.pydata.org/pandas-docs/stable/user_guide/indexing.html#returning-a-view-versus-a-copy\n",
      "  data1.new_7[index] = autoriai_parsed\n"
     ]
    }
   ],
   "source": [
    "data1['new_7']=\"\"\n",
    "\n",
    "for index, row in enumerate(data1.new_6):\n",
    "    autoriai_parsed = re.sub(\"([0-9]+[-]+[0-9][0-9][0-9])\", \"\", row)\n",
    "    data1.new_7[index] = autoriai_parsed"
   ]
  },
  {
   "cell_type": "code",
   "execution_count": 37,
   "id": "bac3a992",
   "metadata": {},
   "outputs": [],
   "source": [
    "data1 = data1.drop(['new_5', 'new_6'], axis=1)"
   ]
  },
  {
   "cell_type": "markdown",
   "id": "932ff2db",
   "metadata": {},
   "source": [
    "#### Atskiriami ir pašalinami publikacijos puslapiai, kurie yra dviženkliai"
   ]
  },
  {
   "cell_type": "code",
   "execution_count": 38,
   "id": "71835483",
   "metadata": {
    "scrolled": true
   },
   "outputs": [],
   "source": [
    "puslapiai_parser5 = re.compile(\"([0-9]+[-]+[0-9][0-9])\")\n",
    "puslapiai5 = pd.DataFrame(data1.new_7.map(lambda x:  re.findall(puslapiai_parser5, x)))"
   ]
  },
  {
   "cell_type": "code",
   "execution_count": 39,
   "id": "610c74aa",
   "metadata": {},
   "outputs": [],
   "source": [
    "puslapiai5.rename(columns = {'new_7' : 'Puslapiai_2_zenklai'}, inplace = True)"
   ]
  },
  {
   "cell_type": "code",
   "execution_count": 40,
   "id": "03febe28",
   "metadata": {},
   "outputs": [],
   "source": [
    "data1['Puslapiai_2_zenklai'] = puslapiai5['Puslapiai_2_zenklai']"
   ]
  },
  {
   "cell_type": "code",
   "execution_count": 41,
   "id": "089e0d97",
   "metadata": {
    "scrolled": true
   },
   "outputs": [
    {
     "name": "stderr",
     "output_type": "stream",
     "text": [
      "C:\\Users\\Ruta\\AppData\\Local\\Temp\\ipykernel_5464\\3399269904.py:5: SettingWithCopyWarning: \n",
      "A value is trying to be set on a copy of a slice from a DataFrame\n",
      "\n",
      "See the caveats in the documentation: https://pandas.pydata.org/pandas-docs/stable/user_guide/indexing.html#returning-a-view-versus-a-copy\n",
      "  data1.new_8[index] = autoriai_parsed\n"
     ]
    }
   ],
   "source": [
    "data1['new_8']=\"\"\n",
    "\n",
    "for index, row in enumerate(data1.new_7):\n",
    "    autoriai_parsed = re.sub(\"([0-9]+[-]+[0-9][0-9])\", \"\", row)\n",
    "    data1.new_8[index] = autoriai_parsed"
   ]
  },
  {
   "cell_type": "code",
   "execution_count": 42,
   "id": "608481cd",
   "metadata": {},
   "outputs": [],
   "source": [
    "data1 = data1.drop(['new_7'], axis=1)"
   ]
  },
  {
   "cell_type": "markdown",
   "id": "42fe9833",
   "metadata": {},
   "source": [
    "## Autorių ištrynimas. Autorius padedama trinti nuo didžiausias išskirtis turinčių kombinacijų, kad būtų pašalintos visos pavardės ir inicialai"
   ]
  },
  {
   "cell_type": "markdown",
   "id": "0cf1cf41",
   "metadata": {},
   "source": [
    "#### Ištrinami autoriai8: Pavarde, V.V.V.V.V."
   ]
  },
  {
   "cell_type": "code",
   "execution_count": 43,
   "id": "37de72a7",
   "metadata": {},
   "outputs": [
    {
     "name": "stderr",
     "output_type": "stream",
     "text": [
      "C:\\Users\\Ruta\\AppData\\Local\\Temp\\ipykernel_5464\\3232666677.py:5: SettingWithCopyWarning: \n",
      "A value is trying to be set on a copy of a slice from a DataFrame\n",
      "\n",
      "See the caveats in the documentation: https://pandas.pydata.org/pandas-docs/stable/user_guide/indexing.html#returning-a-view-versus-a-copy\n",
      "  data1.new_9[index] = autoriai_parsed\n"
     ]
    }
   ],
   "source": [
    "data1['new_9']=\"\"\n",
    "\n",
    "for index, row in enumerate(data1.new_8):\n",
    "    autoriai_parsed = re.sub(\"([A-Ž][a-ž]+, [A-Ž][.]+ [A-Ž][.]+ [A-Ž][.]+ [A-Ž][.]+ [A-Ž][.])\", \"\", row)\n",
    "    data1.new_9[index] = autoriai_parsed"
   ]
  },
  {
   "cell_type": "markdown",
   "id": "4938f9b3",
   "metadata": {},
   "source": [
    "#### Ištrinami autoriai7: Pavarde, V.V.V.V."
   ]
  },
  {
   "cell_type": "code",
   "execution_count": 44,
   "id": "b7d4dd54",
   "metadata": {},
   "outputs": [
    {
     "name": "stderr",
     "output_type": "stream",
     "text": [
      "C:\\Users\\Ruta\\AppData\\Local\\Temp\\ipykernel_5464\\1318028907.py:5: SettingWithCopyWarning: \n",
      "A value is trying to be set on a copy of a slice from a DataFrame\n",
      "\n",
      "See the caveats in the documentation: https://pandas.pydata.org/pandas-docs/stable/user_guide/indexing.html#returning-a-view-versus-a-copy\n",
      "  data1.new_10[index] = autoriai_parsed\n"
     ]
    }
   ],
   "source": [
    "data1['new_10']=\"\"\n",
    "\n",
    "for index, row in enumerate(data1.new_9):\n",
    "    autoriai_parsed = re.sub(\"([A-Ž][a-ž]+, [A-Ž][.]+ [A-Ž][.]+ [A-Ž][.]+ [A-Ž][.])\", \"\", row)\n",
    "    data1.new_10[index] = autoriai_parsed"
   ]
  },
  {
   "cell_type": "markdown",
   "id": "4c4aac43",
   "metadata": {},
   "source": [
    "#### Ištrinami autoriai6: Pavarde, V.V.V."
   ]
  },
  {
   "cell_type": "code",
   "execution_count": 45,
   "id": "c3f3468f",
   "metadata": {},
   "outputs": [
    {
     "name": "stderr",
     "output_type": "stream",
     "text": [
      "C:\\Users\\Ruta\\AppData\\Local\\Temp\\ipykernel_5464\\1310412160.py:5: SettingWithCopyWarning: \n",
      "A value is trying to be set on a copy of a slice from a DataFrame\n",
      "\n",
      "See the caveats in the documentation: https://pandas.pydata.org/pandas-docs/stable/user_guide/indexing.html#returning-a-view-versus-a-copy\n",
      "  data1.new_11[index] = autoriai_parsed\n"
     ]
    }
   ],
   "source": [
    "data1['new_11']=\"\"\n",
    "\n",
    "for index, row in enumerate(data1.new_10):\n",
    "    autoriai_parsed = re.sub(\"([A-Ž][a-ž]+, [A-Ž][.]+ [A-Ž][.]+ [A-Ž][.])\", \"\", row)\n",
    "    data1.new_11[index] = autoriai_parsed"
   ]
  },
  {
   "cell_type": "markdown",
   "id": "f483f835",
   "metadata": {},
   "source": [
    "#### Ištrinami autoriai5: Pavarde, V.V."
   ]
  },
  {
   "cell_type": "code",
   "execution_count": 46,
   "id": "09dc1b1f",
   "metadata": {},
   "outputs": [
    {
     "name": "stderr",
     "output_type": "stream",
     "text": [
      "C:\\Users\\Ruta\\AppData\\Local\\Temp\\ipykernel_5464\\2687834503.py:5: SettingWithCopyWarning: \n",
      "A value is trying to be set on a copy of a slice from a DataFrame\n",
      "\n",
      "See the caveats in the documentation: https://pandas.pydata.org/pandas-docs/stable/user_guide/indexing.html#returning-a-view-versus-a-copy\n",
      "  data1.new_12[index] = autoriai_parsed\n"
     ]
    }
   ],
   "source": [
    "data1['new_12']=\"\"\n",
    "\n",
    "for index, row in enumerate(data1.new_11):\n",
    "    autoriai_parsed = re.sub(\"([A-Ž][a-ž]+, [A-Ž][.]+ [A-Ž][.])\", \"\", row)\n",
    "    data1.new_12[index] = autoriai_parsed"
   ]
  },
  {
   "cell_type": "markdown",
   "id": "41b8f690",
   "metadata": {},
   "source": [
    "#### Ištrinami autoriai4: Pavarde Pavarde Pavarde, V."
   ]
  },
  {
   "cell_type": "code",
   "execution_count": 47,
   "id": "b8ddfd55",
   "metadata": {},
   "outputs": [
    {
     "name": "stderr",
     "output_type": "stream",
     "text": [
      "C:\\Users\\Ruta\\AppData\\Local\\Temp\\ipykernel_5464\\1542125854.py:5: SettingWithCopyWarning: \n",
      "A value is trying to be set on a copy of a slice from a DataFrame\n",
      "\n",
      "See the caveats in the documentation: https://pandas.pydata.org/pandas-docs/stable/user_guide/indexing.html#returning-a-view-versus-a-copy\n",
      "  data1.new_13[index] = autoriai_parsed\n"
     ]
    }
   ],
   "source": [
    "data1['new_13']=\"\"\n",
    "\n",
    "for index, row in enumerate(data1.new_12):\n",
    "    autoriai_parsed = re.sub(\"([A-Ž][a-ž]+ [A-Ž][a-ž]+ [A-Ž][a-ž]+, [A-Ž].)\", \"\", row)\n",
    "    data1.new_13[index] = autoriai_parsed"
   ]
  },
  {
   "cell_type": "markdown",
   "id": "009ea79a",
   "metadata": {},
   "source": [
    "#### Ištrinami autoriai3: Pavarde-Pavarde, V."
   ]
  },
  {
   "cell_type": "code",
   "execution_count": 48,
   "id": "fb0dd0c1",
   "metadata": {},
   "outputs": [
    {
     "name": "stderr",
     "output_type": "stream",
     "text": [
      "C:\\Users\\Ruta\\AppData\\Local\\Temp\\ipykernel_5464\\1148506018.py:5: SettingWithCopyWarning: \n",
      "A value is trying to be set on a copy of a slice from a DataFrame\n",
      "\n",
      "See the caveats in the documentation: https://pandas.pydata.org/pandas-docs/stable/user_guide/indexing.html#returning-a-view-versus-a-copy\n",
      "  data1.new_14[index] = autoriai_parsed\n"
     ]
    }
   ],
   "source": [
    "data1['new_14']=\"\"\n",
    "\n",
    "for index, row in enumerate(data1.new_13):\n",
    "    autoriai_parsed = re.sub(\"([A-Ž][a-ž]+[-][A-Ž][a-ž]+, [A-Ž].)\", \"\", row)\n",
    "    data1.new_14[index] = autoriai_parsed"
   ]
  },
  {
   "cell_type": "markdown",
   "id": "847a1745",
   "metadata": {},
   "source": [
    "#### Ištrinami autoriai2: Pavarde Pavarde, V."
   ]
  },
  {
   "cell_type": "code",
   "execution_count": 49,
   "id": "2becc58e",
   "metadata": {},
   "outputs": [
    {
     "name": "stderr",
     "output_type": "stream",
     "text": [
      "C:\\Users\\Ruta\\AppData\\Local\\Temp\\ipykernel_5464\\384823790.py:5: SettingWithCopyWarning: \n",
      "A value is trying to be set on a copy of a slice from a DataFrame\n",
      "\n",
      "See the caveats in the documentation: https://pandas.pydata.org/pandas-docs/stable/user_guide/indexing.html#returning-a-view-versus-a-copy\n",
      "  data1.new_15[index] = autoriai_parsed\n"
     ]
    }
   ],
   "source": [
    "data1['new_15']=\"\"\n",
    "\n",
    "for index, row in enumerate(data1.new_14):\n",
    "    autoriai_parsed = re.sub(\"([A-Ž][a-ž]+ [A-Ž][a-ž]+, [A-Ž].)\", \"\", row)\n",
    "    data1.new_15[index] = autoriai_parsed"
   ]
  },
  {
   "cell_type": "markdown",
   "id": "5c3c9fa8",
   "metadata": {},
   "source": [
    "#### Ištrinami autoriai1: Pavarde, V."
   ]
  },
  {
   "cell_type": "code",
   "execution_count": 50,
   "id": "c8a87136",
   "metadata": {},
   "outputs": [
    {
     "name": "stderr",
     "output_type": "stream",
     "text": [
      "C:\\Users\\Ruta\\AppData\\Local\\Temp\\ipykernel_5464\\3033139105.py:5: SettingWithCopyWarning: \n",
      "A value is trying to be set on a copy of a slice from a DataFrame\n",
      "\n",
      "See the caveats in the documentation: https://pandas.pydata.org/pandas-docs/stable/user_guide/indexing.html#returning-a-view-versus-a-copy\n",
      "  data1.new_16[index] = autoriai_parsed\n"
     ]
    }
   ],
   "source": [
    "data1['new_16']=\"\"\n",
    "\n",
    "for index, row in enumerate(data1.new_15):\n",
    "    autoriai_parsed = re.sub(\"([A-Ž][a-ž]+, [A-Ž].)\", \"\", row)\n",
    "    data1.new_16[index] = autoriai_parsed"
   ]
  },
  {
   "cell_type": "code",
   "execution_count": 51,
   "id": "58396cb3",
   "metadata": {},
   "outputs": [],
   "source": [
    "data1 = data1.drop(['new_8', 'new_9', 'new_10', 'new_11', 'new_12', 'new_13', 'new_14', 'new_15'], axis=1)"
   ]
  },
  {
   "cell_type": "markdown",
   "id": "92a7db11",
   "metadata": {},
   "source": [
    "## Publikacijos pavadinimo atskyrimas"
   ]
  },
  {
   "cell_type": "code",
   "execution_count": 52,
   "id": "ff11b4d8",
   "metadata": {},
   "outputs": [],
   "source": [
    "Publikacija = data1['new_16'].str.split(' <i><i>', expand=True)"
   ]
  },
  {
   "cell_type": "code",
   "execution_count": 53,
   "id": "5f64fe61",
   "metadata": {},
   "outputs": [],
   "source": [
    "data1['publication'] = Publikacija[0]"
   ]
  },
  {
   "cell_type": "code",
   "execution_count": 54,
   "id": "881959db",
   "metadata": {},
   "outputs": [],
   "source": [
    "data1['new_17'] = Publikacija[1]"
   ]
  },
  {
   "cell_type": "code",
   "execution_count": 55,
   "id": "7ebd6e08",
   "metadata": {},
   "outputs": [],
   "source": [
    "data1 = data1.drop(['new_16'], axis=1)"
   ]
  },
  {
   "cell_type": "markdown",
   "id": "c399ea19",
   "metadata": {},
   "source": [
    "## Leidinio numerio atskyrimas"
   ]
  },
  {
   "cell_type": "markdown",
   "id": "a5c568e8",
   "metadata": {},
   "source": [
    "#### Atskiriami numeriai, kurie turi 2 identifikatorius"
   ]
  },
  {
   "cell_type": "code",
   "execution_count": 56,
   "id": "01f77815",
   "metadata": {},
   "outputs": [],
   "source": [
    "Leidinio_numeriai_2 = data1['new_17'].str.split('</i></i>, <i>', expand=True)"
   ]
  },
  {
   "cell_type": "code",
   "execution_count": 57,
   "id": "8cfa54d9",
   "metadata": {},
   "outputs": [],
   "source": [
    "data1['Leidinio_numeriai_2'] = Leidinio_numeriai_2[1]"
   ]
  },
  {
   "cell_type": "code",
   "execution_count": 58,
   "id": "0d09ffe8",
   "metadata": {},
   "outputs": [],
   "source": [
    "data1['new_17'] = Leidinio_numeriai_2[0]"
   ]
  },
  {
   "cell_type": "markdown",
   "id": "cd31ac00",
   "metadata": {},
   "source": [
    "##### Atskiriamas leidinio numeris nuo mėnesinio numerio"
   ]
  },
  {
   "cell_type": "code",
   "execution_count": 59,
   "id": "f1bb9f92",
   "metadata": {},
   "outputs": [],
   "source": [
    "Leidinio_numeris = data1['Leidinio_numeriai_2'].str.split('</i>', expand=True)"
   ]
  },
  {
   "cell_type": "code",
   "execution_count": 60,
   "id": "c63c3a1d",
   "metadata": {},
   "outputs": [],
   "source": [
    "data1['journal_number'] = Leidinio_numeris[0]"
   ]
  },
  {
   "cell_type": "markdown",
   "id": "04bc9292",
   "metadata": {},
   "source": [
    "##### Atskiriami leidinio puslapiai, kurie buvo užrašyti kitaip, nei anksčiau atskirtieji\n",
    "##### Mėnesiniai leidinio numeriai nesaugomi, nes formatas per daug nevienodas ir šių duomenų informacija yra neauktuali"
   ]
  },
  {
   "cell_type": "code",
   "execution_count": 61,
   "id": "78a559bd",
   "metadata": {},
   "outputs": [],
   "source": [
    "puslapiai = Leidinio_numeris[1].str.split(', ', expand=True)"
   ]
  },
  {
   "cell_type": "code",
   "execution_count": 62,
   "id": "30edbdfd",
   "metadata": {},
   "outputs": [],
   "source": [
    "puslapiai_1 = puslapiai[1].str.split('.', expand=True)"
   ]
  },
  {
   "cell_type": "code",
   "execution_count": 63,
   "id": "c46e5fc4",
   "metadata": {},
   "outputs": [],
   "source": [
    "data1['Puslapiai'] = puslapiai_1[0]"
   ]
  },
  {
   "cell_type": "markdown",
   "id": "d5ee98ba",
   "metadata": {},
   "source": [
    "#### Atskiriami numeriai, kurie turi 1 identifikatorių"
   ]
  },
  {
   "cell_type": "code",
   "execution_count": 64,
   "id": "c8abd278",
   "metadata": {},
   "outputs": [],
   "source": [
    "Leidinio_numeriai_1 = data1['new_17'].str.split('</i></i>, ', expand=True)"
   ]
  },
  {
   "cell_type": "code",
   "execution_count": 65,
   "id": "2b82eac5",
   "metadata": {},
   "outputs": [],
   "source": [
    "data1['Leidinio_numeriai_1'] = Leidinio_numeriai_1[1]"
   ]
  },
  {
   "cell_type": "code",
   "execution_count": 66,
   "id": "7ef35c52",
   "metadata": {},
   "outputs": [],
   "source": [
    "data1['new_17'] = Leidinio_numeriai_1[0]"
   ]
  },
  {
   "cell_type": "markdown",
   "id": "e7fd748b",
   "metadata": {},
   "source": [
    "##### Atskiriami leidinio puslapiai, kurie buvo užrašyti kitaip, nei anksčiau atskirtieji"
   ]
  },
  {
   "cell_type": "code",
   "execution_count": 67,
   "id": "d1f88951",
   "metadata": {},
   "outputs": [],
   "source": [
    "puslapiai_2 = data1['Leidinio_numeriai_1'].str.split(', ', expand=True)"
   ]
  },
  {
   "cell_type": "code",
   "execution_count": 68,
   "id": "18e5aa8a",
   "metadata": {},
   "outputs": [],
   "source": [
    "Leidinio_numeris_1 = puslapiai_2[0].str.split('.', expand=True)"
   ]
  },
  {
   "cell_type": "code",
   "execution_count": 69,
   "id": "13b1103c",
   "metadata": {},
   "outputs": [],
   "source": [
    "puslapiai_2_2 = puslapiai_2[1].str.split('.', expand=True)"
   ]
  },
  {
   "cell_type": "code",
   "execution_count": 70,
   "id": "87bc247a",
   "metadata": {},
   "outputs": [],
   "source": [
    "data1['Leidinio_numeris_1'] = Leidinio_numeris_1[0]"
   ]
  },
  {
   "cell_type": "code",
   "execution_count": 71,
   "id": "28bf268b",
   "metadata": {},
   "outputs": [],
   "source": [
    "data1['Puslapiai_1'] = puslapiai_2_2[0]"
   ]
  },
  {
   "cell_type": "code",
   "execution_count": 72,
   "id": "98f10d8d",
   "metadata": {},
   "outputs": [],
   "source": [
    "data1 = data1.drop(['Leidinio_numeriai_1', 'Leidinio_numeriai_2'], axis=1)"
   ]
  },
  {
   "cell_type": "markdown",
   "id": "cfef25d4",
   "metadata": {},
   "source": [
    "## Leidinio pavadinimo išvalymas"
   ]
  },
  {
   "cell_type": "markdown",
   "id": "28a3e2a4",
   "metadata": {},
   "source": [
    "####  [elektroninis išteklius] prierašo pašalinimas"
   ]
  },
  {
   "cell_type": "code",
   "execution_count": 73,
   "id": "47bd5a71",
   "metadata": {},
   "outputs": [],
   "source": [
    "elektroninis_isteklius = data1['new_17'].str.split(' \\[Elektroninis išteklius\\]', expand=True)"
   ]
  },
  {
   "cell_type": "code",
   "execution_count": 74,
   "id": "778d8879",
   "metadata": {},
   "outputs": [],
   "source": [
    "data1['new_17'] = elektroninis_isteklius[0]"
   ]
  },
  {
   "cell_type": "code",
   "execution_count": 75,
   "id": "0afadc1f",
   "metadata": {},
   "outputs": [],
   "source": [
    "elektroninis_isteklius_1 = data1['new_17'].str.split(' \\[elektroninis išteklius\\]', expand=True)"
   ]
  },
  {
   "cell_type": "code",
   "execution_count": 76,
   "id": "932faca7",
   "metadata": {},
   "outputs": [],
   "source": [
    "data1['new_17'] = elektroninis_isteklius_1[0]"
   ]
  },
  {
   "cell_type": "markdown",
   "id": "5b46855c",
   "metadata": {},
   "source": [
    "####  \\</i>\\</i> prierašo pašalinimas"
   ]
  },
  {
   "cell_type": "code",
   "execution_count": 77,
   "id": "53819fdb",
   "metadata": {},
   "outputs": [],
   "source": [
    "prierasas = data1['new_17'].str.split('</i></i>', expand=True)"
   ]
  },
  {
   "cell_type": "code",
   "execution_count": 78,
   "id": "e20de79f",
   "metadata": {},
   "outputs": [],
   "source": [
    "data1['new_17'] = prierasas[0]"
   ]
  },
  {
   "cell_type": "markdown",
   "id": "eeba41d0",
   "metadata": {},
   "source": [
    "## Atskiriami leidinių pavadinimai kitomis kalbomis"
   ]
  },
  {
   "cell_type": "code",
   "execution_count": 79,
   "id": "91c8b805",
   "metadata": {},
   "outputs": [],
   "source": [
    "Leidinio_pavadinimas_uzsienio_kalba = data1['new_17'].str.split(' = ', expand=True)"
   ]
  },
  {
   "cell_type": "code",
   "execution_count": 80,
   "id": "309714ae",
   "metadata": {},
   "outputs": [],
   "source": [
    "data1['journal_name'] = Leidinio_pavadinimas_uzsienio_kalba[0]"
   ]
  },
  {
   "cell_type": "code",
   "execution_count": 81,
   "id": "7d822b24",
   "metadata": {},
   "outputs": [],
   "source": [
    "data1['journal_name_in_foreign_language_1'] = Leidinio_pavadinimas_uzsienio_kalba[1]"
   ]
  },
  {
   "cell_type": "code",
   "execution_count": 82,
   "id": "6918380e",
   "metadata": {},
   "outputs": [],
   "source": [
    "data1['journal_name_in_foreign_language_2'] = Leidinio_pavadinimas_uzsienio_kalba[2]"
   ]
  },
  {
   "cell_type": "code",
   "execution_count": 83,
   "id": "f3212c6f",
   "metadata": {},
   "outputs": [],
   "source": [
    "data1['journal_name_in_foreign_language_3'] = Leidinio_pavadinimas_uzsienio_kalba[3]"
   ]
  },
  {
   "cell_type": "code",
   "execution_count": 84,
   "id": "2a151cd8",
   "metadata": {},
   "outputs": [],
   "source": [
    "data1 = data1.drop(['new_17'], axis=1)"
   ]
  },
  {
   "cell_type": "markdown",
   "id": "65b6e0ae",
   "metadata": {},
   "source": [
    "## Puslapių sutvarkymas"
   ]
  },
  {
   "cell_type": "markdown",
   "id": "cfc2ced9",
   "metadata": {},
   "source": [
    "### Tušti sąrašai pakeičiami į NaN reikšmes"
   ]
  },
  {
   "cell_type": "code",
   "execution_count": 85,
   "id": "d3abe4c0",
   "metadata": {},
   "outputs": [],
   "source": [
    "sarasas = ['Puslapiai_5_zenklai', 'Puslapiai_4_zenklai', 'Puslapiai_3_zenklai', 'Puslapiai_2_zenklai']"
   ]
  },
  {
   "cell_type": "code",
   "execution_count": 86,
   "id": "ee8986f5",
   "metadata": {},
   "outputs": [],
   "source": [
    "for column in sarasas:\n",
    "    data1[column] = data1[column].apply(lambda x: np.nan if len(x)==0 else x)"
   ]
  },
  {
   "cell_type": "markdown",
   "id": "a48a2de7",
   "metadata": {},
   "source": [
    "### Sukuriamas vienas puslapių stulpelis"
   ]
  },
  {
   "cell_type": "code",
   "execution_count": 87,
   "id": "697a5b55",
   "metadata": {},
   "outputs": [],
   "source": [
    "data1[\"Puslapiai_5_zenklai\"] = data1[\"Puslapiai_5_zenklai\"].fillna(data1[\"Puslapiai_4_zenklai\"])"
   ]
  },
  {
   "cell_type": "code",
   "execution_count": 88,
   "id": "5bd16722",
   "metadata": {},
   "outputs": [],
   "source": [
    "data1[\"Puslapiai_5_zenklai\"] = data1[\"Puslapiai_5_zenklai\"].fillna(data1[\"Puslapiai_3_zenklai\"])"
   ]
  },
  {
   "cell_type": "code",
   "execution_count": 89,
   "id": "f6f01743",
   "metadata": {},
   "outputs": [],
   "source": [
    "data1[\"Puslapiai_5_zenklai\"] = data1[\"Puslapiai_5_zenklai\"].fillna(data1[\"Puslapiai_2_zenklai\"])"
   ]
  },
  {
   "cell_type": "code",
   "execution_count": 90,
   "id": "9bd34394",
   "metadata": {},
   "outputs": [],
   "source": [
    "data1[\"Puslapiai_5_zenklai\"] = data1[\"Puslapiai_5_zenklai\"].fillna(data1[\"Puslapiai\"])"
   ]
  },
  {
   "cell_type": "code",
   "execution_count": 91,
   "id": "076e0c79",
   "metadata": {},
   "outputs": [],
   "source": [
    "data1[\"Puslapiai_5_zenklai\"] = data1[\"Puslapiai_5_zenklai\"].fillna(data1[\"Puslapiai_1\"])"
   ]
  },
  {
   "cell_type": "code",
   "execution_count": 92,
   "id": "6bfce79c",
   "metadata": {},
   "outputs": [],
   "source": [
    "data1 = data1.drop(['Puslapiai_4_zenklai', 'Puslapiai_3_zenklai', \"Puslapiai_2_zenklai\", \"Puslapiai\", \"Puslapiai_1\"], axis=1)"
   ]
  },
  {
   "cell_type": "code",
   "execution_count": 93,
   "id": "43422b94",
   "metadata": {},
   "outputs": [],
   "source": [
    "data1.rename(columns = {'Puslapiai_5_zenklai' : 'pages'}, inplace = True)"
   ]
  },
  {
   "cell_type": "markdown",
   "id": "3beaa1be",
   "metadata": {},
   "source": [
    "### Puslapiai iš listo keičiami į stringą. Sudaromi 2 stulpeliai: puslapiai ir publikacijos apimtis"
   ]
  },
  {
   "cell_type": "markdown",
   "id": "a707189e",
   "metadata": {},
   "source": [
    "#### Puslapių stulpelyje yra NaN, str ir list tipo reikšmių. Pirma užpildomos Nan reikšmės su 0, tuomet parašoma funkcija, kuri tikrina, ar puslapio formatas yra tinkamas (turi brūkšnį, kas reiškia, kad yra pradžios ir pabaigos puslapiai). Jei reikšmė tinkama, tikrinama, ar ji yra list, ar str. Atitinkamai vertė paverčiama į int. Apskaičiuojamas puslapių pradžios ir pabaigos skirtumas ir gaunama publikacijos apimtis puslapiais"
   ]
  },
  {
   "cell_type": "code",
   "execution_count": 94,
   "id": "f62b523b",
   "metadata": {},
   "outputs": [],
   "source": [
    "data1['pages'] = data1['pages'].fillna('0')"
   ]
  },
  {
   "cell_type": "code",
   "execution_count": 95,
   "id": "1e0a552d",
   "metadata": {},
   "outputs": [],
   "source": [
    "def parse_string(x):\n",
    "    if '-' in x:\n",
    "        pradzia, pabaiga = x.split('-')\n",
    "        try: \n",
    "            return int(pabaiga) - int(pradzia)\n",
    "        except ValueError:\n",
    "            return np.nan\n",
    "    else:\n",
    "        return np.nan\n",
    "def puslapiai(x):\n",
    "    # listas\n",
    "    if isinstance(x, list):\n",
    "        stringas = x[0]\n",
    "        return parse_string(stringas)\n",
    "    if isinstance(x, str):\n",
    "        return parse_string(x)    \n",
    "    else: \n",
    "        return np.nan"
   ]
  },
  {
   "cell_type": "code",
   "execution_count": 96,
   "id": "a52db2a5",
   "metadata": {},
   "outputs": [],
   "source": [
    "data1['pages'] = data1['pages'].apply(lambda x: ''.join(map(str, x)))"
   ]
  },
  {
   "cell_type": "code",
   "execution_count": 97,
   "id": "937a827b",
   "metadata": {},
   "outputs": [],
   "source": [
    "data1['pages'] = data1['pages'].replace(['p'], '0')"
   ]
  },
  {
   "cell_type": "code",
   "execution_count": 98,
   "id": "22f4e822",
   "metadata": {},
   "outputs": [],
   "source": [
    "apimtis = data1['pages'].str.split('-', expand=True)"
   ]
  },
  {
   "cell_type": "code",
   "execution_count": 99,
   "id": "58db1a6e",
   "metadata": {},
   "outputs": [],
   "source": [
    "apimtis[0] = apimtis[0].fillna('0')"
   ]
  },
  {
   "cell_type": "code",
   "execution_count": 100,
   "id": "cee0751c",
   "metadata": {},
   "outputs": [],
   "source": [
    "apimtis[0] = apimtis[0].replace([''], '0')"
   ]
  },
  {
   "cell_type": "code",
   "execution_count": 101,
   "id": "013bde1b",
   "metadata": {},
   "outputs": [],
   "source": [
    "apimtis[1] = apimtis[1].fillna('0')"
   ]
  },
  {
   "cell_type": "code",
   "execution_count": 102,
   "id": "5bc3bd57",
   "metadata": {},
   "outputs": [],
   "source": [
    "publikacijos_apimtis = apimtis[1].astype(int) - apimtis[0].astype(int)"
   ]
  },
  {
   "cell_type": "code",
   "execution_count": 103,
   "id": "5f4b9fb5",
   "metadata": {},
   "outputs": [],
   "source": [
    "data1['volume_in_pages'] = publikacijos_apimtis"
   ]
  },
  {
   "cell_type": "markdown",
   "id": "2d09dc42",
   "metadata": {},
   "source": [
    "### Sukuriamas vienas leidinio numerio stulpelis"
   ]
  },
  {
   "cell_type": "markdown",
   "id": "8e4106ba",
   "metadata": {},
   "source": [
    "#### Leidinio numeri sudaro labai skirtingi irasai, nezinau, kaip juos paversti i int"
   ]
  },
  {
   "cell_type": "code",
   "execution_count": 104,
   "id": "4537b8ff",
   "metadata": {},
   "outputs": [],
   "source": [
    "data1['journal_number'] = data1['journal_number'].fillna('0')"
   ]
  },
  {
   "cell_type": "code",
   "execution_count": 105,
   "id": "c0d95ef6",
   "metadata": {},
   "outputs": [],
   "source": [
    "data1['journal_number'] = data1['journal_number'].replace([''], '0')"
   ]
  },
  {
   "cell_type": "code",
   "execution_count": 106,
   "id": "0ec1da69",
   "metadata": {},
   "outputs": [],
   "source": [
    "data1['journal_number'] = data1['journal_number'].astype('str').str.extractall('(\\d+)').unstack().fillna('').sum(axis=1).astype(str).apply(lambda x: x.replace('.0',''))"
   ]
  },
  {
   "cell_type": "code",
   "execution_count": 107,
   "id": "f42757b2",
   "metadata": {},
   "outputs": [],
   "source": [
    "data1['Leidinio_numeris_1'] = data1['Leidinio_numeris_1'].fillna('0')"
   ]
  },
  {
   "cell_type": "code",
   "execution_count": 108,
   "id": "743367f9",
   "metadata": {},
   "outputs": [],
   "source": [
    "data1['Leidinio_numeris_1'] = data1['Leidinio_numeris_1'].replace([''], '0')"
   ]
  },
  {
   "cell_type": "code",
   "execution_count": 109,
   "id": "3fc22470",
   "metadata": {},
   "outputs": [],
   "source": [
    "data1['Leidinio_numeris_1'] = data1['Leidinio_numeris_1'].astype('str').str.extractall('(\\d+)').unstack().fillna('').sum(axis=1).astype(str).apply(lambda x: x.replace('.0',''))"
   ]
  },
  {
   "cell_type": "code",
   "execution_count": 110,
   "id": "013695f7",
   "metadata": {},
   "outputs": [],
   "source": [
    "data1[\"journal_number\"] = data1[\"journal_number\"].fillna(data1[\"Leidinio_numeris_1\"])"
   ]
  },
  {
   "cell_type": "code",
   "execution_count": 111,
   "id": "7724aee9",
   "metadata": {},
   "outputs": [],
   "source": [
    "data1['journal_number'] = data1['journal_number'].replace(['0'], np.nan)"
   ]
  },
  {
   "cell_type": "code",
   "execution_count": 112,
   "id": "c48ed926",
   "metadata": {},
   "outputs": [],
   "source": [
    "data1 = data1.drop(['Leidinio_numeris_1'], axis=1)"
   ]
  },
  {
   "cell_type": "markdown",
   "id": "70388396",
   "metadata": {},
   "source": [
    "## scopus_info"
   ]
  },
  {
   "cell_type": "markdown",
   "id": "d84f22a7",
   "metadata": {},
   "source": [
    "### Stulpelis išskaidomas į dalis"
   ]
  },
  {
   "cell_type": "markdown",
   "id": "5782dd61",
   "metadata": {},
   "source": [
    "#### sukuriamas scopus_sources stulpelis su metais"
   ]
  },
  {
   "cell_type": "code",
   "execution_count": 113,
   "id": "4b41546d",
   "metadata": {},
   "outputs": [],
   "source": [
    "scopus_info = data1['scopus_info'].str.split('(', expand=True)"
   ]
  },
  {
   "cell_type": "code",
   "execution_count": 114,
   "id": "6b8a6f9b",
   "metadata": {},
   "outputs": [],
   "source": [
    "scopus_sources = scopus_info[1].str.split(')', expand=True)"
   ]
  },
  {
   "cell_type": "code",
   "execution_count": 115,
   "id": "aa06f156",
   "metadata": {},
   "outputs": [],
   "source": [
    "scopus_sources = scopus_sources[0].str.split(',', expand=True)"
   ]
  },
  {
   "cell_type": "code",
   "execution_count": 116,
   "id": "fdb40f5c",
   "metadata": {},
   "outputs": [],
   "source": [
    "data1['scopus_sources'] = scopus_sources[0].fillna(0).astype(int)"
   ]
  },
  {
   "cell_type": "markdown",
   "id": "b3744338",
   "metadata": {},
   "source": [
    "#### scopus_info skaitinės vertės paverčiamos į float objektus"
   ]
  },
  {
   "cell_type": "code",
   "execution_count": 117,
   "id": "2b37aca4",
   "metadata": {},
   "outputs": [],
   "source": [
    "temp = scopus_info[0].str.split(' ', expand=True)"
   ]
  },
  {
   "cell_type": "code",
   "execution_count": 118,
   "id": "600e2abb",
   "metadata": {},
   "outputs": [],
   "source": [
    "sarasas = [1, 3, 5]"
   ]
  },
  {
   "cell_type": "code",
   "execution_count": 119,
   "id": "a61be9c8",
   "metadata": {},
   "outputs": [],
   "source": [
    "for column in sarasas:\n",
    "    temp[column] = temp[column].str[:-1].fillna(0)\n",
    "    temp[column] = pd.to_numeric([str(x).replace(',','.') for x in temp[column]])"
   ]
  },
  {
   "cell_type": "markdown",
   "id": "a0e199d2",
   "metadata": {},
   "source": [
    "#### Sukuriami atskiri rodilių, ketvirčių ir metų stulpeliai ir perkeliami į pagrindinę DataFrame"
   ]
  },
  {
   "cell_type": "code",
   "execution_count": 120,
   "id": "4267000f",
   "metadata": {},
   "outputs": [],
   "source": [
    "temp['SNIP'] = np.nan\n",
    "temp['SNIP_2'] = np.nan\n",
    "temp['CiteScore'] = np.nan\n",
    "temp['SJR'] = np.nan\n",
    "temp['SJR_2'] = np.nan"
   ]
  },
  {
   "cell_type": "code",
   "execution_count": 121,
   "id": "b80e85e7",
   "metadata": {},
   "outputs": [],
   "source": [
    "temp.loc[temp[0] == 'SNIP:', 'SNIP'] = temp[1]\n",
    "temp.loc[temp[2] == 'SNIP:', 'SNIP_2'] = temp[3]\n",
    "temp.loc[temp[0] == 'CiteScore:', 'CiteScore'] = temp[1]\n",
    "temp.loc[temp[2] == 'SJR:', 'SJR'] = temp[3]\n",
    "temp.loc[temp[4] == 'SJR:', 'SJR'] = temp[5]"
   ]
  },
  {
   "cell_type": "code",
   "execution_count": 122,
   "id": "2e547dda",
   "metadata": {},
   "outputs": [],
   "source": [
    "temp['quartile_in_caterory'] = temp[6]\n",
    "temp['scopus_sources'] = scopus_sources[0]"
   ]
  },
  {
   "cell_type": "code",
   "execution_count": 123,
   "id": "e837e3ec",
   "metadata": {},
   "outputs": [],
   "source": [
    "temp[\"SNIP\"] = temp[\"SNIP\"].fillna(temp[\"SNIP_2\"])\n",
    "temp[\"SJR\"] = temp[\"SJR\"].fillna(temp[\"SJR_2\"])\n",
    "temp[\"quartile_in_caterory\"] = temp[\"quartile_in_caterory\"].fillna(np.nan)"
   ]
  },
  {
   "cell_type": "code",
   "execution_count": 124,
   "id": "f8d5ad9b",
   "metadata": {},
   "outputs": [],
   "source": [
    "data1['SNIP'] = temp['SNIP']\n",
    "data1['CiteScore'] = temp['CiteScore']\n",
    "data1['SJR'] = temp['SJR']\n",
    "data1['quartile_in_caterory'] = temp['quartile_in_caterory']\n",
    "data1['scopus_sources'] = temp['scopus_sources']"
   ]
  },
  {
   "cell_type": "code",
   "execution_count": 125,
   "id": "39a08348",
   "metadata": {},
   "outputs": [],
   "source": [
    "data1 = data1.drop(['scopus_info'], axis=1)"
   ]
  },
  {
   "cell_type": "markdown",
   "id": "42375a01",
   "metadata": {},
   "source": [
    "## if_info"
   ]
  },
  {
   "cell_type": "markdown",
   "id": "e518b097",
   "metadata": {},
   "source": [
    "### Stulpelis išskaidomas į dalis"
   ]
  },
  {
   "cell_type": "markdown",
   "id": "0367429e",
   "metadata": {},
   "source": [
    "#### sukuriamas if_info stulpelis su metais"
   ]
  },
  {
   "cell_type": "code",
   "execution_count": 126,
   "id": "5989f617",
   "metadata": {},
   "outputs": [],
   "source": [
    "if_info = data1['if_info'].str.split('(', expand=True)"
   ]
  },
  {
   "cell_type": "markdown",
   "id": "b3d11be6",
   "metadata": {},
   "source": [
    "#### Dalis eiluciu turi dvigubus irasus. Patikrinama, koks eiluciu skaicius yra tokio tipo:"
   ]
  },
  {
   "cell_type": "code",
   "execution_count": 127,
   "id": "e42fc8e6",
   "metadata": {},
   "outputs": [
    {
     "name": "stdout",
     "output_type": "stream",
     "text": [
      "4.0 %\n"
     ]
    }
   ],
   "source": [
    "print(((if_info[1].str.contains('; IF: ').value_counts().get(key = True)) / (if_info[1].count())).round(2)*100, '%')"
   ]
  },
  {
   "cell_type": "markdown",
   "id": "84706324",
   "metadata": {},
   "source": [
    "#### Kadangi tokių eilučių yra 4%, papildomi įrašai nenagarinėjami"
   ]
  },
  {
   "cell_type": "code",
   "execution_count": 128,
   "id": "9940cbd4",
   "metadata": {},
   "outputs": [],
   "source": [
    "if_info_years = if_info[1].str.split(', ', expand=True)"
   ]
  },
  {
   "cell_type": "code",
   "execution_count": 129,
   "id": "4b6208c3",
   "metadata": {},
   "outputs": [],
   "source": [
    "InCites = if_info_years[1].str.split(')', expand=True)"
   ]
  },
  {
   "cell_type": "code",
   "execution_count": 130,
   "id": "23897711",
   "metadata": {},
   "outputs": [],
   "source": [
    "InCites = InCites[0].str.split(' ', expand=True)"
   ]
  },
  {
   "cell_type": "markdown",
   "id": "e8c2189c",
   "metadata": {},
   "source": [
    "#### if_info skaitinės vertės paverčiamos į float objektus"
   ]
  },
  {
   "cell_type": "code",
   "execution_count": 131,
   "id": "d6cc2402",
   "metadata": {},
   "outputs": [],
   "source": [
    "temp_1 = if_info[0].str.split(' ', expand=True)"
   ]
  },
  {
   "cell_type": "code",
   "execution_count": 132,
   "id": "d0095358",
   "metadata": {},
   "outputs": [],
   "source": [
    "sarasas = [1, 3]"
   ]
  },
  {
   "cell_type": "code",
   "execution_count": 133,
   "id": "f8755071",
   "metadata": {},
   "outputs": [],
   "source": [
    "for column in sarasas:\n",
    "    temp_1[column] = temp_1[column].str[:-1].fillna(0)\n",
    "    temp_1[column] = pd.to_numeric([str(x).replace(',','.') for x in temp_1[column]])"
   ]
  },
  {
   "cell_type": "markdown",
   "id": "6572fd91",
   "metadata": {},
   "source": [
    "#### Sukuriami atskiri rodilių, ketvirčių ir metų stulpeliai ir perkeliami į pagrindinę DataFrame"
   ]
  },
  {
   "cell_type": "code",
   "execution_count": 134,
   "id": "4b1780cb",
   "metadata": {},
   "outputs": [],
   "source": [
    "temp_1['IF'] = np.nan\n",
    "temp_1['AIF'] = np.nan"
   ]
  },
  {
   "cell_type": "code",
   "execution_count": 135,
   "id": "382b1af0",
   "metadata": {},
   "outputs": [],
   "source": [
    "temp_1.loc[temp_1[0] == 'IF:', 'IF'] = temp_1[1]\n",
    "temp_1.loc[temp_1[2] == 'AIF:', 'AIF'] = temp_1[3]"
   ]
  },
  {
   "cell_type": "code",
   "execution_count": 136,
   "id": "ab3cf125",
   "metadata": {},
   "outputs": [],
   "source": [
    "temp_1['quartile_in_caterory_2'] = temp_1[4]\n",
    "temp_1['if_info_years'] = if_info_years[0]\n",
    "temp_1['InCites_JCR'] = InCites[2]"
   ]
  },
  {
   "cell_type": "code",
   "execution_count": 137,
   "id": "c419c8a1",
   "metadata": {},
   "outputs": [],
   "source": [
    "data1['IF'] = temp_1['IF']\n",
    "data1['AIF'] = temp_1['AIF']\n",
    "data1['quartile_in_caterory_2'] = temp_1['quartile_in_caterory_2']\n",
    "data1['if_info_years'] = temp_1['if_info_years']\n",
    "data1['InCites_JCR'] = temp_1['InCites_JCR']"
   ]
  },
  {
   "cell_type": "code",
   "execution_count": 138,
   "id": "0729aba1",
   "metadata": {},
   "outputs": [],
   "source": [
    "data1 = data1.drop(['if_info'], axis=1)"
   ]
  },
  {
   "cell_type": "markdown",
   "id": "f448472c",
   "metadata": {},
   "source": [
    "## dbases"
   ]
  },
  {
   "cell_type": "markdown",
   "id": "02a13e71",
   "metadata": {},
   "source": [
    "### Stulpelis išskaidomas į dalis"
   ]
  },
  {
   "cell_type": "code",
   "execution_count": 139,
   "id": "a1c6bdd2",
   "metadata": {},
   "outputs": [],
   "source": [
    "dbases = data1['dbases'].str.split('; ', expand=True)"
   ]
  },
  {
   "cell_type": "code",
   "execution_count": 140,
   "id": "4ba69e4b",
   "metadata": {},
   "outputs": [],
   "source": [
    "data1['dbases_count'] = dbases.count(1)"
   ]
  },
  {
   "cell_type": "code",
   "execution_count": 141,
   "id": "d5fbda78",
   "metadata": {},
   "outputs": [],
   "source": [
    "dbases = pd.concat([dbases[col] for col in dbases.columns]).value_counts().to_frame()"
   ]
  },
  {
   "cell_type": "code",
   "execution_count": 142,
   "id": "47887f46",
   "metadata": {
    "scrolled": true
   },
   "outputs": [
    {
     "data": {
      "text/html": [
       "<div>\n",
       "<style scoped>\n",
       "    .dataframe tbody tr th:only-of-type {\n",
       "        vertical-align: middle;\n",
       "    }\n",
       "\n",
       "    .dataframe tbody tr th {\n",
       "        vertical-align: top;\n",
       "    }\n",
       "\n",
       "    .dataframe thead th {\n",
       "        text-align: right;\n",
       "    }\n",
       "</style>\n",
       "<table border=\"1\" class=\"dataframe\">\n",
       "  <thead>\n",
       "    <tr style=\"text-align: right;\">\n",
       "      <th></th>\n",
       "      <th>0</th>\n",
       "    </tr>\n",
       "  </thead>\n",
       "  <tbody>\n",
       "    <tr>\n",
       "      <th>Scopus</th>\n",
       "      <td>2736</td>\n",
       "    </tr>\n",
       "    <tr>\n",
       "      <th>Science Citation Index Expanded (Web of Science)</th>\n",
       "      <td>2427</td>\n",
       "    </tr>\n",
       "    <tr>\n",
       "      <th>ICONDA</th>\n",
       "      <td>1346</td>\n",
       "    </tr>\n",
       "    <tr>\n",
       "      <th>IndexCopernicus</th>\n",
       "      <td>1291</td>\n",
       "    </tr>\n",
       "    <tr>\n",
       "      <th>INSPEC</th>\n",
       "      <td>1221</td>\n",
       "    </tr>\n",
       "    <tr>\n",
       "      <th>Academic Search Complete</th>\n",
       "      <td>851</td>\n",
       "    </tr>\n",
       "    <tr>\n",
       "      <th>DOAJ</th>\n",
       "      <td>657</td>\n",
       "    </tr>\n",
       "    <tr>\n",
       "      <th>Social Sciences Citation Index (Web of Science)</th>\n",
       "      <td>630</td>\n",
       "    </tr>\n",
       "    <tr>\n",
       "      <th>VINITI</th>\n",
       "      <td>556</td>\n",
       "    </tr>\n",
       "    <tr>\n",
       "      <th>Business Source Complete</th>\n",
       "      <td>529</td>\n",
       "    </tr>\n",
       "  </tbody>\n",
       "</table>\n",
       "</div>"
      ],
      "text/plain": [
       "                                                     0\n",
       "Scopus                                            2736\n",
       "Science Citation Index Expanded (Web of Science)  2427\n",
       "ICONDA                                            1346\n",
       "IndexCopernicus                                   1291\n",
       "INSPEC                                            1221\n",
       "Academic Search Complete                           851\n",
       "DOAJ                                               657\n",
       "Social Sciences Citation Index (Web of Science)    630\n",
       "VINITI                                             556\n",
       "Business Source Complete                           529"
      ]
     },
     "execution_count": 142,
     "metadata": {},
     "output_type": "execute_result"
    }
   ],
   "source": [
    "dbases.head(10)"
   ]
  },
  {
   "cell_type": "markdown",
   "id": "7fb37b5b",
   "metadata": {},
   "source": [
    "#### Išskaidžius data bases stulpelį buvo gautos 340 skirtingų duomenų bazių, kuriose saugomos publikacijos. Dalis iš jų pasikartoja tik kelis kartus. Dėl to buvo priimtas sprendimas atskirai identifikuoti pirmąsias 10, o likusias priskirti kategorijai \"other_dbases\""
   ]
  },
  {
   "cell_type": "code",
   "execution_count": 143,
   "id": "d37dee87",
   "metadata": {},
   "outputs": [],
   "source": [
    "data1['Scopus'] = data1['dbases'].str.contains('Scopus').fillna(0).astype(int)\n",
    "data1['SCIE'] = data1['dbases'].str.contains('Science Citation Index Expanded').fillna(0).astype(int)\n",
    "data1['ICONDA'] = data1['dbases'].str.contains('ICONDA').fillna(0).astype(int)\n",
    "data1['IndexCopernicus'] = data1['dbases'].str.contains('IndexCopernicus').fillna(0).astype(int)\n",
    "data1['INSPEC'] = data1['dbases'].str.contains('INSPEC').fillna(0).astype(int)\n",
    "data1['Academic_Search_Complete'] = data1['dbases'].str.contains('Academic Search Complete').fillna(0).astype(int)\n",
    "data1['DOAJ'] = data1['dbases'].str.contains('DOAJ').fillna(0).astype(int)\n",
    "data1['SSCI'] = data1['dbases'].str.contains('Social Sciences Citation Index').fillna(0).astype(int)\n",
    "data1['VINITI'] = data1['dbases'].str.contains('VINITI').fillna(0).astype(int)\n",
    "data1['Business_Source_Complete'] = data1['dbases'].str.contains('Business Source Complete').fillna(0).astype(int)"
   ]
  },
  {
   "cell_type": "code",
   "execution_count": 144,
   "id": "2866af9d",
   "metadata": {},
   "outputs": [],
   "source": [
    "data1['other_dbases'] = 0"
   ]
  },
  {
   "cell_type": "code",
   "execution_count": 145,
   "id": "eae92b1e",
   "metadata": {},
   "outputs": [],
   "source": [
    "data1['other_dbases'] = data1['dbases_count']-data1['Scopus']-data1['SCIE']-data1['ICONDA']-data1['IndexCopernicus']-data1['INSPEC']-data1['Academic_Search_Complete']-data1['DOAJ']-data1['SSCI']-data1['VINITI']-data1['Business_Source_Complete']"
   ]
  },
  {
   "cell_type": "code",
   "execution_count": 146,
   "id": "9dae524a",
   "metadata": {},
   "outputs": [],
   "source": [
    "data1 = data1.drop(['dbases'], axis=1)"
   ]
  },
  {
   "cell_type": "markdown",
   "id": "c24de658",
   "metadata": {},
   "source": [
    "## res_fields / mokslo ir meno sritys"
   ]
  },
  {
   "cell_type": "markdown",
   "id": "bebe3e2d",
   "metadata": {},
   "source": [
    "### Stulpelis išskaidomas į dalis"
   ]
  },
  {
   "cell_type": "code",
   "execution_count": 147,
   "id": "100320e9",
   "metadata": {},
   "outputs": [],
   "source": [
    "res_fields = data1['res_fields'].str.split('; ', expand=True)"
   ]
  },
  {
   "cell_type": "code",
   "execution_count": 148,
   "id": "765a42fa",
   "metadata": {
    "scrolled": true
   },
   "outputs": [
    {
     "data": {
      "text/html": [
       "<div>\n",
       "<style scoped>\n",
       "    .dataframe tbody tr th:only-of-type {\n",
       "        vertical-align: middle;\n",
       "    }\n",
       "\n",
       "    .dataframe tbody tr th {\n",
       "        vertical-align: top;\n",
       "    }\n",
       "\n",
       "    .dataframe thead th {\n",
       "        text-align: right;\n",
       "    }\n",
       "</style>\n",
       "<table border=\"1\" class=\"dataframe\">\n",
       "  <thead>\n",
       "    <tr style=\"text-align: right;\">\n",
       "      <th></th>\n",
       "      <th>0</th>\n",
       "      <th>1</th>\n",
       "      <th>2</th>\n",
       "      <th>3</th>\n",
       "      <th>4</th>\n",
       "    </tr>\n",
       "  </thead>\n",
       "  <tbody>\n",
       "    <tr>\n",
       "      <th>0</th>\n",
       "      <td>S 003</td>\n",
       "      <td>NaN</td>\n",
       "      <td>NaN</td>\n",
       "      <td>NaN</td>\n",
       "      <td>NaN</td>\n",
       "    </tr>\n",
       "    <tr>\n",
       "      <th>1</th>\n",
       "      <td>T 004</td>\n",
       "      <td>NaN</td>\n",
       "      <td>NaN</td>\n",
       "      <td>NaN</td>\n",
       "      <td>NaN</td>\n",
       "    </tr>\n",
       "    <tr>\n",
       "      <th>2</th>\n",
       "      <td>T 004</td>\n",
       "      <td>NaN</td>\n",
       "      <td>NaN</td>\n",
       "      <td>NaN</td>\n",
       "      <td>NaN</td>\n",
       "    </tr>\n",
       "    <tr>\n",
       "      <th>3</th>\n",
       "      <td>S 003</td>\n",
       "      <td>S 004</td>\n",
       "      <td>NaN</td>\n",
       "      <td>NaN</td>\n",
       "      <td>NaN</td>\n",
       "    </tr>\n",
       "    <tr>\n",
       "      <th>4</th>\n",
       "      <td>S 004</td>\n",
       "      <td>NaN</td>\n",
       "      <td>NaN</td>\n",
       "      <td>NaN</td>\n",
       "      <td>NaN</td>\n",
       "    </tr>\n",
       "    <tr>\n",
       "      <th>...</th>\n",
       "      <td>...</td>\n",
       "      <td>...</td>\n",
       "      <td>...</td>\n",
       "      <td>...</td>\n",
       "      <td>...</td>\n",
       "    </tr>\n",
       "    <tr>\n",
       "      <th>7508</th>\n",
       "      <td>A 004</td>\n",
       "      <td>NaN</td>\n",
       "      <td>NaN</td>\n",
       "      <td>NaN</td>\n",
       "      <td>NaN</td>\n",
       "    </tr>\n",
       "    <tr>\n",
       "      <th>7509</th>\n",
       "      <td>H 003</td>\n",
       "      <td>NaN</td>\n",
       "      <td>NaN</td>\n",
       "      <td>NaN</td>\n",
       "      <td>NaN</td>\n",
       "    </tr>\n",
       "    <tr>\n",
       "      <th>7510</th>\n",
       "      <td>H 003</td>\n",
       "      <td>NaN</td>\n",
       "      <td>NaN</td>\n",
       "      <td>NaN</td>\n",
       "      <td>NaN</td>\n",
       "    </tr>\n",
       "    <tr>\n",
       "      <th>7511</th>\n",
       "      <td>N 002</td>\n",
       "      <td>NaN</td>\n",
       "      <td>NaN</td>\n",
       "      <td>NaN</td>\n",
       "      <td>NaN</td>\n",
       "    </tr>\n",
       "    <tr>\n",
       "      <th>7512</th>\n",
       "      <td>S 004</td>\n",
       "      <td>NaN</td>\n",
       "      <td>NaN</td>\n",
       "      <td>NaN</td>\n",
       "      <td>NaN</td>\n",
       "    </tr>\n",
       "  </tbody>\n",
       "</table>\n",
       "<p>7513 rows × 5 columns</p>\n",
       "</div>"
      ],
      "text/plain": [
       "          0      1    2    3    4\n",
       "0     S 003    NaN  NaN  NaN  NaN\n",
       "1     T 004    NaN  NaN  NaN  NaN\n",
       "2     T 004    NaN  NaN  NaN  NaN\n",
       "3     S 003  S 004  NaN  NaN  NaN\n",
       "4     S 004    NaN  NaN  NaN  NaN\n",
       "...     ...    ...  ...  ...  ...\n",
       "7508  A 004    NaN  NaN  NaN  NaN\n",
       "7509  H 003    NaN  NaN  NaN  NaN\n",
       "7510  H 003    NaN  NaN  NaN  NaN\n",
       "7511  N 002    NaN  NaN  NaN  NaN\n",
       "7512  S 004    NaN  NaN  NaN  NaN\n",
       "\n",
       "[7513 rows x 5 columns]"
      ]
     },
     "execution_count": 148,
     "metadata": {},
     "output_type": "execute_result"
    }
   ],
   "source": [
    "res_fields.fillna(np.nan)"
   ]
  },
  {
   "cell_type": "code",
   "execution_count": 149,
   "id": "c9ffd995",
   "metadata": {},
   "outputs": [],
   "source": [
    "res_fields[0] = res_fields[0].replace('0', np.nan)\n",
    "res_fields[0] = res_fields[0].replace('00', np.nan)"
   ]
  },
  {
   "cell_type": "markdown",
   "id": "8bdc0989",
   "metadata": {},
   "source": [
    "#### res_fields išskaidomas į dalis ir matoma, kad publikacijų, kurios būtų priskirtos 4 arba 5 mokslo sritims yra labai mažai: 0.3 % ir 0.01 % atitinkamai. Dėl to priimamas sprendimas nagrinėti tik pirmasias 3 mokslo sritis"
   ]
  },
  {
   "cell_type": "code",
   "execution_count": 150,
   "id": "82a89a06",
   "metadata": {},
   "outputs": [
    {
     "name": "stdout",
     "output_type": "stream",
     "text": [
      "0.01 %\n"
     ]
    }
   ],
   "source": [
    "print(((res_fields[4].count()) / (res_fields[0].count())).round(4)*100, '%')"
   ]
  },
  {
   "cell_type": "code",
   "execution_count": 151,
   "id": "4b331207",
   "metadata": {},
   "outputs": [
    {
     "name": "stdout",
     "output_type": "stream",
     "text": [
      "0.3 %\n"
     ]
    }
   ],
   "source": [
    "print(((res_fields[3].count()) / (res_fields[0].count())).round(3)*100, '%')"
   ]
  },
  {
   "cell_type": "code",
   "execution_count": 152,
   "id": "24c42d45",
   "metadata": {},
   "outputs": [
    {
     "name": "stdout",
     "output_type": "stream",
     "text": [
      "9.6 %\n"
     ]
    }
   ],
   "source": [
    "print(((res_fields[2].count()) / (res_fields[0].count())).round(3)*100, '%')"
   ]
  },
  {
   "cell_type": "code",
   "execution_count": 153,
   "id": "5fa56299",
   "metadata": {},
   "outputs": [],
   "source": [
    "data1['res_fields_1'] = res_fields[0]\n",
    "data1['res_fields_2'] = res_fields[1]\n",
    "data1['res_fields_3'] = res_fields[2]"
   ]
  },
  {
   "cell_type": "code",
   "execution_count": 154,
   "id": "5da6f179",
   "metadata": {},
   "outputs": [],
   "source": [
    "data1 = data1.drop(['res_fields'], axis=1)"
   ]
  },
  {
   "cell_type": "code",
   "execution_count": 155,
   "id": "c7d59d4f",
   "metadata": {},
   "outputs": [],
   "source": [
    "data1 = data1.drop(['projection_apa'], axis=1)"
   ]
  },
  {
   "cell_type": "markdown",
   "id": "c8d7cdea",
   "metadata": {},
   "source": [
    "## Leidiniu pavadinimu sutvarkymas"
   ]
  },
  {
   "cell_type": "code",
   "execution_count": 156,
   "id": "95ade43b",
   "metadata": {},
   "outputs": [],
   "source": [
    "journals = data1['journal_name']"
   ]
  },
  {
   "cell_type": "markdown",
   "id": "416ec10b",
   "metadata": {},
   "source": [
    "#### Patikrinama, kiek yra unikalių žurnalų pavadinimų"
   ]
  },
  {
   "cell_type": "code",
   "execution_count": 157,
   "id": "3fcf2661",
   "metadata": {},
   "outputs": [],
   "source": [
    "unikalus_pavadinimai_skaicius = journals.str.strip().nunique()"
   ]
  },
  {
   "cell_type": "code",
   "execution_count": 158,
   "id": "caaf4b34",
   "metadata": {},
   "outputs": [
    {
     "data": {
      "text/plain": [
       "1712"
      ]
     },
     "execution_count": 158,
     "metadata": {},
     "output_type": "execute_result"
    }
   ],
   "source": [
    "unikalus_pavadinimai_skaicius"
   ]
  },
  {
   "cell_type": "code",
   "execution_count": 159,
   "id": "147d10db",
   "metadata": {},
   "outputs": [],
   "source": [
    "unikalus_pavadinimai = sorted(journals.astype(str).unique().tolist())"
   ]
  },
  {
   "cell_type": "markdown",
   "id": "78710026",
   "metadata": {},
   "source": [
    "#### https://towardsdatascience.com/fuzzywuzzy-find-similar-strings-within-one-column-in-a-pandas-data-frame-99f6c2a0c212"
   ]
  },
  {
   "cell_type": "markdown",
   "id": "fec6be48",
   "metadata": {},
   "source": [
    "#### Patikrinami 2 pavadinimų panašumo radimo būdai: Token Sort Ratio ir Token Set Ratio"
   ]
  },
  {
   "cell_type": "code",
   "execution_count": 160,
   "id": "cd19b481",
   "metadata": {},
   "outputs": [
    {
     "data": {
      "text/plain": [
       "[('Chemical and Process Engineering', 100),\n",
       " ('Chemical and process engineering', 100),\n",
       " ('Chemical engineering research and design', 78),\n",
       " ('Chemical engineering science', 77),\n",
       " ('Ecological Chemistry and Engineering S', 74)]"
      ]
     },
     "execution_count": 160,
     "metadata": {},
     "output_type": "execute_result"
    }
   ],
   "source": [
    "process.extract('Chemical and Process Engineering', unikalus_pavadinimai, scorer=fuzz.token_sort_ratio)"
   ]
  },
  {
   "cell_type": "code",
   "execution_count": 161,
   "id": "e805a587",
   "metadata": {},
   "outputs": [
    {
     "data": {
      "text/plain": [
       "[('Chemical and Process Engineering', 100),\n",
       " ('Chemical and Process Engineering= Inzynieria Chemiczna i Procesowa', 100),\n",
       " ('Chemical and process engineering', 100),\n",
       " ('Chemical engineering research and design', 86),\n",
       " ('Chemical engineering science', 83)]"
      ]
     },
     "execution_count": 161,
     "metadata": {},
     "output_type": "execute_result"
    }
   ],
   "source": [
    "process.extract('Chemical and Process Engineering', unikalus_pavadinimai, scorer=fuzz.token_set_ratio)"
   ]
  },
  {
   "cell_type": "markdown",
   "id": "b3d9c487",
   "metadata": {},
   "source": [
    "##### Palyginus keletą atsitiktinių pavadinimų pastebėta, kad Token Set Ratio pateikia tikslesnius rezultatus. Tačiau nepaisant to, tolimesnis modelis bus kuriamas pritaikant abu būdus, kad būtų galima palyginti galutinius rezultatus"
   ]
  },
  {
   "cell_type": "markdown",
   "id": "267a152d",
   "metadata": {},
   "source": [
    "#### Pirma sukuriamas Token Sort Ratio modelis"
   ]
  },
  {
   "cell_type": "code",
   "execution_count": 162,
   "id": "e2d3ceb8",
   "metadata": {
    "scrolled": true
   },
   "outputs": [],
   "source": [
    "#Create tuples of journals names, matched journals names, and the score\n",
    "score_sort = [(x,) + i\n",
    "             for x in unikalus_pavadinimai \n",
    "             for i in process.extract(x, unikalus_pavadinimai,\n",
    "                                      scorer=fuzz.token_sort_ratio)]\n",
    "#Create a dataframe from the tuples\n",
    "similarity_sort = pd.DataFrame(score_sort, \n",
    "                               columns=['journals_sort','match_sort','score_sort'])\n"
   ]
  },
  {
   "cell_type": "code",
   "execution_count": 163,
   "id": "ee0f7559",
   "metadata": {},
   "outputs": [
    {
     "data": {
      "text/plain": [
       "8565"
      ]
     },
     "execution_count": 163,
     "metadata": {},
     "output_type": "execute_result"
    }
   ],
   "source": [
    "len(similarity_sort['journals_sort'])"
   ]
  },
  {
   "cell_type": "markdown",
   "id": "0d14b030",
   "metadata": {},
   "source": [
    "#### Kadangi pavadinimų panašumai ieškomi viename stulpelyje, gaunami dublikuoti rezultatai: Indian Journal of Physics\t– Indian journal of physics ir Indian journal of physics – Indian Journal of Physics. Kad juos būtų galima pašalinti vėliau, sukuriamas papildomas stulpelis"
   ]
  },
  {
   "cell_type": "code",
   "execution_count": 164,
   "id": "d12cb441",
   "metadata": {},
   "outputs": [
    {
     "data": {
      "text/html": [
       "<div>\n",
       "<style scoped>\n",
       "    .dataframe tbody tr th:only-of-type {\n",
       "        vertical-align: middle;\n",
       "    }\n",
       "\n",
       "    .dataframe tbody tr th {\n",
       "        vertical-align: top;\n",
       "    }\n",
       "\n",
       "    .dataframe thead th {\n",
       "        text-align: right;\n",
       "    }\n",
       "</style>\n",
       "<table border=\"1\" class=\"dataframe\">\n",
       "  <thead>\n",
       "    <tr style=\"text-align: right;\">\n",
       "      <th></th>\n",
       "      <th>journals_sort</th>\n",
       "      <th>match_sort</th>\n",
       "      <th>score_sort</th>\n",
       "      <th>sorted_journals_sort</th>\n",
       "    </tr>\n",
       "  </thead>\n",
       "  <tbody>\n",
       "    <tr>\n",
       "      <th>0</th>\n",
       "      <td>14-th German-Lithuanian-Polish Colloquium on „...</td>\n",
       "      <td>14-th German-Lithuanian-Polish Colloquium on „...</td>\n",
       "      <td>100</td>\n",
       "      <td>14-th German-Lithuanian-Polish Colloquium on „...</td>\n",
       "    </tr>\n",
       "    <tr>\n",
       "      <th>1</th>\n",
       "      <td>14-th German-Lithuanian-Polish Colloquium on „...</td>\n",
       "      <td>Management and Engineering'10: VIII ne , 2010 ...</td>\n",
       "      <td>45</td>\n",
       "      <td>14-th German-Lithuanian-Polish Colloquium on „...</td>\n",
       "    </tr>\n",
       "    <tr>\n",
       "      <th>2</th>\n",
       "      <td>14-th German-Lithuanian-Polish Colloquium on „...</td>\n",
       "      <td>Management and Engineering'11: IX ne , 2011 lg...</td>\n",
       "      <td>45</td>\n",
       "      <td>14-th German-Lithuanian-Polish Colloquium on „...</td>\n",
       "    </tr>\n",
       "    <tr>\n",
       "      <th>3</th>\n",
       "      <td>14-th German-Lithuanian-Polish Colloquium on „...</td>\n",
       "      <td>Applied mechanics and materials: innovative te...</td>\n",
       "      <td>43</td>\n",
       "      <td>14-th German-Lithuanian-Polish Colloquium on „...</td>\n",
       "    </tr>\n",
       "    <tr>\n",
       "      <th>4</th>\n",
       "      <td>14-th German-Lithuanian-Polish Colloquium on „...</td>\n",
       "      <td>IEEE Transactions on Plasma Science. 15th Inte...</td>\n",
       "      <td>43</td>\n",
       "      <td>14-th German-Lithuanian-Polish Colloquium on „...</td>\n",
       "    </tr>\n",
       "  </tbody>\n",
       "</table>\n",
       "</div>"
      ],
      "text/plain": [
       "                                       journals_sort  \\\n",
       "0  14-th German-Lithuanian-Polish Colloquium on „...   \n",
       "1  14-th German-Lithuanian-Polish Colloquium on „...   \n",
       "2  14-th German-Lithuanian-Polish Colloquium on „...   \n",
       "3  14-th German-Lithuanian-Polish Colloquium on „...   \n",
       "4  14-th German-Lithuanian-Polish Colloquium on „...   \n",
       "\n",
       "                                          match_sort  score_sort  \\\n",
       "0  14-th German-Lithuanian-Polish Colloquium on „...         100   \n",
       "1  Management and Engineering'10: VIII ne , 2010 ...          45   \n",
       "2  Management and Engineering'11: IX ne , 2011 lg...          45   \n",
       "3  Applied mechanics and materials: innovative te...          43   \n",
       "4  IEEE Transactions on Plasma Science. 15th Inte...          43   \n",
       "\n",
       "                                sorted_journals_sort  \n",
       "0  14-th German-Lithuanian-Polish Colloquium on „...  \n",
       "1  14-th German-Lithuanian-Polish Colloquium on „...  \n",
       "2  14-th German-Lithuanian-Polish Colloquium on „...  \n",
       "3  14-th German-Lithuanian-Polish Colloquium on „...  \n",
       "4  14-th German-Lithuanian-Polish Colloquium on „...  "
      ]
     },
     "execution_count": 164,
     "metadata": {},
     "output_type": "execute_result"
    }
   ],
   "source": [
    "similarity_sort['sorted_journals_sort'] = np.minimum(similarity_sort['journals_sort'], similarity_sort['match_sort'])\n",
    "similarity_sort.head()"
   ]
  },
  {
   "cell_type": "code",
   "execution_count": 165,
   "id": "510bb2a1",
   "metadata": {},
   "outputs": [
    {
     "data": {
      "text/plain": [
       "8565"
      ]
     },
     "execution_count": 165,
     "metadata": {},
     "output_type": "execute_result"
    }
   ],
   "source": [
    "len(similarity_sort['journals_sort'])"
   ]
  },
  {
   "cell_type": "markdown",
   "id": "64875d27",
   "metadata": {},
   "source": [
    "#### Išvaloma DataFrame: pasirenkamas score_sort >= 95, panaikinamos eilutės, kuriose atitikmuo yra tas pats pavadinimas ir panaikinami dublikatai"
   ]
  },
  {
   "cell_type": "code",
   "execution_count": 166,
   "id": "cd3a40bb",
   "metadata": {},
   "outputs": [],
   "source": [
    "high_score_sort = similarity_sort[(similarity_sort['score_sort'] >= 95) &\n",
    "                (similarity_sort['journals_sort'] !=  similarity_sort['match_sort']) &\n",
    "                (similarity_sort['sorted_journals_sort'] != similarity_sort['match_sort'])]\n",
    "high_score_sort = high_score_sort.drop('sorted_journals_sort',axis=1).copy()"
   ]
  },
  {
   "cell_type": "markdown",
   "id": "b37b94b2",
   "metadata": {},
   "source": [
    "#### Rezultatai pateikiami DataFrame formatu"
   ]
  },
  {
   "cell_type": "code",
   "execution_count": 167,
   "id": "08699a01",
   "metadata": {
    "scrolled": true
   },
   "outputs": [],
   "source": [
    "sugrupuoti_pavadinimai_sort = high_score_sort.groupby(['journals_sort','score_sort']).agg(\n",
    "                        {'match_sort': ', '.join}).sort_values(\n",
    "                        ['score_sort'], ascending=False)"
   ]
  },
  {
   "cell_type": "code",
   "execution_count": 168,
   "id": "69b96271",
   "metadata": {},
   "outputs": [
    {
     "data": {
      "text/html": [
       "<div>\n",
       "<style scoped>\n",
       "    .dataframe tbody tr th:only-of-type {\n",
       "        vertical-align: middle;\n",
       "    }\n",
       "\n",
       "    .dataframe tbody tr th {\n",
       "        vertical-align: top;\n",
       "    }\n",
       "\n",
       "    .dataframe thead th {\n",
       "        text-align: right;\n",
       "    }\n",
       "</style>\n",
       "<table border=\"1\" class=\"dataframe\">\n",
       "  <thead>\n",
       "    <tr style=\"text-align: right;\">\n",
       "      <th></th>\n",
       "      <th></th>\n",
       "      <th>match_sort</th>\n",
       "    </tr>\n",
       "    <tr>\n",
       "      <th>journals_sort</th>\n",
       "      <th>score_sort</th>\n",
       "      <th></th>\n",
       "    </tr>\n",
       "  </thead>\n",
       "  <tbody>\n",
       "    <tr>\n",
       "      <th>ACI Structural Journal</th>\n",
       "      <th>100</th>\n",
       "      <td>ACI structural journal</td>\n",
       "    </tr>\n",
       "    <tr>\n",
       "      <th>Journal of Radioanalytical and Nuclear Chemistry</th>\n",
       "      <th>100</th>\n",
       "      <td>Journal of radioanalytical and nuclear chemistry</td>\n",
       "    </tr>\n",
       "    <tr>\n",
       "      <th>Journal of molecular catalysis B: Enzymatic</th>\n",
       "      <th>100</th>\n",
       "      <td>Journal of molecular catalysis. B: Enzymatic</td>\n",
       "    </tr>\n",
       "    <tr>\n",
       "      <th>KSI Transactions on Knowledge Society: a publication of the Knowledge Society Institute</th>\n",
       "      <th>100</th>\n",
       "      <td>KSI transactions on knowledge society: a publi...</td>\n",
       "    </tr>\n",
       "    <tr>\n",
       "      <th>Kraštovaizdžio architektūra - profesijos horizontai ir sinergija: Kraštovaizdžio architektūros forumo 2015, vykusio Vilniuje 2015 m. spalio 29 d., mokslo darbai</th>\n",
       "      <th>100</th>\n",
       "      <td>Kraštovaizdžio architektūra - profesijos horiz...</td>\n",
       "    </tr>\n",
       "    <tr>\n",
       "      <th>...</th>\n",
       "      <th>...</th>\n",
       "      <td>...</td>\n",
       "    </tr>\n",
       "    <tr>\n",
       "      <th>Economic computation and economic cybernetics studies and research</th>\n",
       "      <th>95</th>\n",
       "      <td>Economic computation and economic cybernetics ...</td>\n",
       "    </tr>\n",
       "    <tr>\n",
       "      <th>Technical Physics Letters: an English translation of the journal ''Zhurnal Tekhnicheskoi Fiziki''</th>\n",
       "      <th>95</th>\n",
       "      <td>Technical physics letters: an English translat...</td>\n",
       "    </tr>\n",
       "    <tr>\n",
       "      <th>Mathematic</th>\n",
       "      <th>95</th>\n",
       "      <td>Mathematics</td>\n",
       "    </tr>\n",
       "    <tr>\n",
       "      <th>Economic Computation and Economic Cybernetics Studies and Research (ECECSR)</th>\n",
       "      <th>95</th>\n",
       "      <td>Economic computation and economic cybernetics ...</td>\n",
       "    </tr>\n",
       "    <tr>\n",
       "      <th>Management and Engineering'10: VIII ne , 2010 lgaria: conference proceedings of the Scientific-Technical Union of Mechanical Engineering</th>\n",
       "      <th>95</th>\n",
       "      <td>Management and Engineering'11: IX ne , 2011 lg...</td>\n",
       "    </tr>\n",
       "  </tbody>\n",
       "</table>\n",
       "<p>220 rows × 1 columns</p>\n",
       "</div>"
      ],
      "text/plain": [
       "                                                                                                      match_sort\n",
       "journals_sort                                      score_sort                                                   \n",
       "ACI Structural Journal                             100                                    ACI structural journal\n",
       "Journal of Radioanalytical and Nuclear Chemistry   100          Journal of radioanalytical and nuclear chemistry\n",
       "Journal of molecular catalysis B: Enzymatic        100              Journal of molecular catalysis. B: Enzymatic\n",
       "KSI Transactions on Knowledge Society: a public... 100         KSI transactions on knowledge society: a publi...\n",
       "Kraštovaizdžio architektūra - profesijos horizo... 100         Kraštovaizdžio architektūra - profesijos horiz...\n",
       "...                                                                                                          ...\n",
       "Economic computation and economic cybernetics s... 95          Economic computation and economic cybernetics ...\n",
       "Technical Physics Letters: an English translati... 95          Technical physics letters: an English translat...\n",
       "Mathematic                                         95                                                Mathematics\n",
       "Economic Computation and Economic Cybernetics S... 95          Economic computation and economic cybernetics ...\n",
       "Management and Engineering'10: VIII ne , 2010 l... 95          Management and Engineering'11: IX ne , 2011 lg...\n",
       "\n",
       "[220 rows x 1 columns]"
      ]
     },
     "execution_count": 168,
     "metadata": {},
     "output_type": "execute_result"
    }
   ],
   "source": [
    "sugrupuoti_pavadinimai_sort"
   ]
  },
  {
   "cell_type": "code",
   "execution_count": 169,
   "id": "81d6326c",
   "metadata": {},
   "outputs": [
    {
     "data": {
      "text/plain": [
       "220"
      ]
     },
     "execution_count": 169,
     "metadata": {},
     "output_type": "execute_result"
    }
   ],
   "source": [
    "len(sugrupuoti_pavadinimai_sort)"
   ]
  },
  {
   "cell_type": "markdown",
   "id": "1ba07d66",
   "metadata": {},
   "source": [
    "#### Gauta 220 pavadinimų porų, kurių atitikmuo yra >= 95"
   ]
  },
  {
   "cell_type": "markdown",
   "id": "aaa4de62",
   "metadata": {},
   "source": [
    "#### Visa žingsnių eiga pakartojama Token Set Ratio modeliui sukurti"
   ]
  },
  {
   "cell_type": "code",
   "execution_count": 170,
   "id": "ed77e892",
   "metadata": {
    "scrolled": true
   },
   "outputs": [],
   "source": [
    "#Create tuples of brand names, matched brand names, and the score\n",
    "score_set = [(x,) + i\n",
    "             for x in unikalus_pavadinimai \n",
    "             for i in process.extract(x, unikalus_pavadinimai,     scorer=fuzz.token_set_ratio)]\n",
    "#Create a dataframe from the tuples\n",
    "similarity_set = pd.DataFrame(score_set, columns=['journals_set','match_set','score_set'])"
   ]
  },
  {
   "cell_type": "code",
   "execution_count": 171,
   "id": "72af8bff",
   "metadata": {},
   "outputs": [
    {
     "data": {
      "text/plain": [
       "8565"
      ]
     },
     "execution_count": 171,
     "metadata": {},
     "output_type": "execute_result"
    }
   ],
   "source": [
    "len(similarity_set['journals_set'])"
   ]
  },
  {
   "cell_type": "code",
   "execution_count": 172,
   "id": "58f0300d",
   "metadata": {},
   "outputs": [
    {
     "data": {
      "text/html": [
       "<div>\n",
       "<style scoped>\n",
       "    .dataframe tbody tr th:only-of-type {\n",
       "        vertical-align: middle;\n",
       "    }\n",
       "\n",
       "    .dataframe tbody tr th {\n",
       "        vertical-align: top;\n",
       "    }\n",
       "\n",
       "    .dataframe thead th {\n",
       "        text-align: right;\n",
       "    }\n",
       "</style>\n",
       "<table border=\"1\" class=\"dataframe\">\n",
       "  <thead>\n",
       "    <tr style=\"text-align: right;\">\n",
       "      <th></th>\n",
       "      <th>journals_set</th>\n",
       "      <th>match_set</th>\n",
       "      <th>score_set</th>\n",
       "      <th>sorted_journals_set</th>\n",
       "    </tr>\n",
       "  </thead>\n",
       "  <tbody>\n",
       "    <tr>\n",
       "      <th>0</th>\n",
       "      <td>14-th German-Lithuanian-Polish Colloquium on „...</td>\n",
       "      <td>14-th German-Lithuanian-Polish Colloquium on „...</td>\n",
       "      <td>100</td>\n",
       "      <td>14-th German-Lithuanian-Polish Colloquium on „...</td>\n",
       "    </tr>\n",
       "    <tr>\n",
       "      <th>1</th>\n",
       "      <td>14-th German-Lithuanian-Polish Colloquium on „...</td>\n",
       "      <td>chnology and Management in Construction</td>\n",
       "      <td>87</td>\n",
       "      <td>14-th German-Lithuanian-Polish Colloquium on „...</td>\n",
       "    </tr>\n",
       "    <tr>\n",
       "      <th>2</th>\n",
       "      <td>14-th German-Lithuanian-Polish Colloquium on „...</td>\n",
       "      <td>GPS Solutions</td>\n",
       "      <td>82</td>\n",
       "      <td>14-th German-Lithuanian-Polish Colloquium on „...</td>\n",
       "    </tr>\n",
       "    <tr>\n",
       "      <th>3</th>\n",
       "      <td>14-th German-Lithuanian-Polish Colloquium on „...</td>\n",
       "      <td>GPS solutions</td>\n",
       "      <td>82</td>\n",
       "      <td>14-th German-Lithuanian-Polish Colloquium on „...</td>\n",
       "    </tr>\n",
       "    <tr>\n",
       "      <th>4</th>\n",
       "      <td>14-th German-Lithuanian-Polish Colloquium on „...</td>\n",
       "      <td>Construction Science</td>\n",
       "      <td>75</td>\n",
       "      <td>14-th German-Lithuanian-Polish Colloquium on „...</td>\n",
       "    </tr>\n",
       "  </tbody>\n",
       "</table>\n",
       "</div>"
      ],
      "text/plain": [
       "                                        journals_set  \\\n",
       "0  14-th German-Lithuanian-Polish Colloquium on „...   \n",
       "1  14-th German-Lithuanian-Polish Colloquium on „...   \n",
       "2  14-th German-Lithuanian-Polish Colloquium on „...   \n",
       "3  14-th German-Lithuanian-Polish Colloquium on „...   \n",
       "4  14-th German-Lithuanian-Polish Colloquium on „...   \n",
       "\n",
       "                                           match_set  score_set  \\\n",
       "0  14-th German-Lithuanian-Polish Colloquium on „...        100   \n",
       "1            chnology and Management in Construction         87   \n",
       "2                                      GPS Solutions         82   \n",
       "3                                      GPS solutions         82   \n",
       "4                               Construction Science         75   \n",
       "\n",
       "                                 sorted_journals_set  \n",
       "0  14-th German-Lithuanian-Polish Colloquium on „...  \n",
       "1  14-th German-Lithuanian-Polish Colloquium on „...  \n",
       "2  14-th German-Lithuanian-Polish Colloquium on „...  \n",
       "3  14-th German-Lithuanian-Polish Colloquium on „...  \n",
       "4  14-th German-Lithuanian-Polish Colloquium on „...  "
      ]
     },
     "execution_count": 172,
     "metadata": {},
     "output_type": "execute_result"
    }
   ],
   "source": [
    "similarity_set['sorted_journals_set'] = np.minimum(similarity_set['journals_set'], similarity_set['match_set'])\n",
    "similarity_set.head()"
   ]
  },
  {
   "cell_type": "code",
   "execution_count": 173,
   "id": "96119df9",
   "metadata": {},
   "outputs": [
    {
     "data": {
      "text/plain": [
       "8565"
      ]
     },
     "execution_count": 173,
     "metadata": {},
     "output_type": "execute_result"
    }
   ],
   "source": [
    "len(similarity_set['journals_set'])"
   ]
  },
  {
   "cell_type": "code",
   "execution_count": 174,
   "id": "2df74355",
   "metadata": {},
   "outputs": [],
   "source": [
    "high_score_set = similarity_set[(similarity_set['score_set'] >= 95) &\n",
    "                (similarity_set['journals_set'] !=  similarity_set['match_set']) &\n",
    "                (similarity_set['sorted_journals_set'] != similarity_set['match_set'])]\n",
    "high_score_set = high_score_set.drop('sorted_journals_set',axis=1).copy()"
   ]
  },
  {
   "cell_type": "code",
   "execution_count": 175,
   "id": "dbb8136f",
   "metadata": {},
   "outputs": [],
   "source": [
    "sugrupuoti_pavadinimai_set = high_score_set.groupby(['journals_set','score_set']).agg(\n",
    "                        {'match_set': ', '.join}).sort_values(\n",
    "                        ['score_set'], ascending=False)"
   ]
  },
  {
   "cell_type": "code",
   "execution_count": 176,
   "id": "75609595",
   "metadata": {},
   "outputs": [
    {
     "data": {
      "text/plain": [
       "505"
      ]
     },
     "execution_count": 176,
     "metadata": {},
     "output_type": "execute_result"
    }
   ],
   "source": [
    "len(sugrupuoti_pavadinimai_set)"
   ]
  },
  {
   "cell_type": "markdown",
   "id": "5cc5dc49",
   "metadata": {},
   "source": [
    "#### Gauta 505 pavadinimų porų, kurių atitikmuo yra >= 95"
   ]
  },
  {
   "cell_type": "markdown",
   "id": "e56f3bc2",
   "metadata": {},
   "source": [
    "#### Kadangi Token Set Ratio atveju gauta ženkliai daugiau atitikmenų, šis modelis pasirenkamas kaip toliau naudotinas darbe"
   ]
  },
  {
   "cell_type": "markdown",
   "id": "6a6ce6e0",
   "metadata": {},
   "source": [
    "#### Sukuriama nauja DataFrame, kurioje kiekvienam leidiniui suteikiamas indeksas"
   ]
  },
  {
   "cell_type": "code",
   "execution_count": 177,
   "id": "0ae6e886",
   "metadata": {},
   "outputs": [],
   "source": [
    "journals_set = pd.DataFrame(high_score_set['journals_set'].unique())"
   ]
  },
  {
   "cell_type": "code",
   "execution_count": 178,
   "id": "90ba596b",
   "metadata": {},
   "outputs": [],
   "source": [
    "journals_set['index'] = np.arange(journals_set.shape[0])\n",
    "journals_set = journals_set.rename(columns = {0:'journal'})"
   ]
  },
  {
   "cell_type": "markdown",
   "id": "b83e9022",
   "metadata": {},
   "source": [
    "#### Šis indeksas pridedamas prie sugrupuotų leidinių duomenų lentelės"
   ]
  },
  {
   "cell_type": "code",
   "execution_count": 179,
   "id": "9084aed5",
   "metadata": {},
   "outputs": [],
   "source": [
    "high_score_set_index = pd.merge(high_score_set, journals_set, how='left' ,left_on='journals_set', right_on='journal')"
   ]
  },
  {
   "cell_type": "code",
   "execution_count": 180,
   "id": "a9455c43",
   "metadata": {},
   "outputs": [],
   "source": [
    "high_score_set_index = high_score_set_index.drop(['journal'], axis=1)"
   ]
  },
  {
   "cell_type": "markdown",
   "id": "6deebab5",
   "metadata": {},
   "source": [
    "#### Buvo pastebėta, kad leidiniai lentelėje kartojasi: vienu atveju jie yra kaip pirmas leidinys, kuriam priskirti kiti, kitu atveju - jis yra priskirtas kitiems leidiniams. Deja, bet šis priskyrimas nesutampta 100%, todėl rezultate vienas leidinys gali turėti kelis indeksus. Tam panaikinti, atskiriama antroji lentelės dalis su indeksais."
   ]
  },
  {
   "cell_type": "code",
   "execution_count": 181,
   "id": "8c1f9847",
   "metadata": {},
   "outputs": [],
   "source": [
    "index_check = high_score_set_index.drop(['journals_set', 'score_set'], axis=1)"
   ]
  },
  {
   "cell_type": "code",
   "execution_count": 182,
   "id": "ce5ebd99",
   "metadata": {},
   "outputs": [],
   "source": [
    "index_check = index_check.rename(columns = {'match_set':'match_journal', 'index':'second_index'})"
   ]
  },
  {
   "cell_type": "code",
   "execution_count": 183,
   "id": "b28d50a0",
   "metadata": {},
   "outputs": [],
   "source": [
    "index_check = index_check.drop_duplicates(subset =\"match_journal\")"
   ]
  },
  {
   "cell_type": "markdown",
   "id": "67cfe123",
   "metadata": {},
   "source": [
    "#### Toliau abi lentelės sujungiamos ir gaunamos 2 indeksų vertės: viena pirmoji, kita priskirta vėliau. Tikslas jas palyginti ir suvienodinti"
   ]
  },
  {
   "cell_type": "code",
   "execution_count": 184,
   "id": "aee847f5",
   "metadata": {},
   "outputs": [],
   "source": [
    "high_score_set_index_2 = pd.merge(high_score_set_index, index_check, how='left',\n",
    "                                  left_on='journals_set', right_on='match_journal')"
   ]
  },
  {
   "cell_type": "markdown",
   "id": "5502a4db",
   "metadata": {},
   "source": [
    "#### Sukuriamas papildomas stulpelis su mažesne indekso verte"
   ]
  },
  {
   "cell_type": "code",
   "execution_count": 185,
   "id": "2c2bdf9d",
   "metadata": {},
   "outputs": [],
   "source": [
    "high_score_set_index_2['final_index'] = high_score_set_index_2[['index','second_index']].min(axis=1)"
   ]
  },
  {
   "cell_type": "markdown",
   "id": "bee7e088",
   "metadata": {},
   "source": [
    "#### Sukuriama atrskira DataFrame, kurioje būtų tik leidiniai ir jų galutiniai indeksai"
   ]
  },
  {
   "cell_type": "code",
   "execution_count": 186,
   "id": "ba96bc61",
   "metadata": {},
   "outputs": [],
   "source": [
    "leidiniu_indeksai = high_score_set_index_2.drop(['score_set', 'index', 'match_journal', 'second_index'], axis=1)"
   ]
  },
  {
   "cell_type": "code",
   "execution_count": 187,
   "id": "ce9311d8",
   "metadata": {},
   "outputs": [],
   "source": [
    "leidiniu_indeksai_1 = leidiniu_indeksai.drop(['match_set'], axis=1)"
   ]
  },
  {
   "cell_type": "code",
   "execution_count": 188,
   "id": "93822d6f",
   "metadata": {},
   "outputs": [],
   "source": [
    "leidiniu_indeksai_2 = leidiniu_indeksai.drop(['journals_set'], axis=1)"
   ]
  },
  {
   "cell_type": "code",
   "execution_count": 189,
   "id": "872a131b",
   "metadata": {},
   "outputs": [],
   "source": [
    "leidiniu_indeksai_1.columns = leidiniu_indeksai_2.columns\n",
    "leidiniu_indeksai_visi = pd.concat([leidiniu_indeksai_1, leidiniu_indeksai_2], axis=0, ignore_index=True)"
   ]
  },
  {
   "cell_type": "code",
   "execution_count": 190,
   "id": "ab04d9e2",
   "metadata": {},
   "outputs": [],
   "source": [
    "leidiniu_indeksai_visi = leidiniu_indeksai_visi.drop_duplicates()"
   ]
  },
  {
   "cell_type": "code",
   "execution_count": 191,
   "id": "d9efb11d",
   "metadata": {},
   "outputs": [],
   "source": [
    "leidiniu_indeksai_visi = leidiniu_indeksai_visi.sort_values(by=['match_set', 'final_index'])"
   ]
  },
  {
   "cell_type": "code",
   "execution_count": 192,
   "id": "251a4b87",
   "metadata": {},
   "outputs": [],
   "source": [
    "leidiniu_indeksai_visi = leidiniu_indeksai_visi.drop_duplicates(subset =\"match_set\")"
   ]
  },
  {
   "cell_type": "markdown",
   "id": "cf753054",
   "metadata": {},
   "source": [
    "#### Leidinių indeksai perkeliami į pagrindinę duomenų lentelę"
   ]
  },
  {
   "cell_type": "code",
   "execution_count": 193,
   "id": "cc183263",
   "metadata": {},
   "outputs": [],
   "source": [
    "data1 = pd.merge(data1, leidiniu_indeksai_visi, how='left' ,left_on='journal_name', right_on='match_set')"
   ]
  },
  {
   "cell_type": "markdown",
   "id": "2a1a864b",
   "metadata": {},
   "source": [
    "#### Iš pagrindinės duomenų lentelės išfiltruojami leidiniai, kurie nebuvo priskirti prie tų, kurie yra su panašiomis vertėmis. Jiems suteikiami atskiri indeksai"
   ]
  },
  {
   "cell_type": "code",
   "execution_count": 194,
   "id": "40eb9696",
   "metadata": {},
   "outputs": [],
   "source": [
    "missing_index = data1[data1['final_index'].isnull()]"
   ]
  },
  {
   "cell_type": "code",
   "execution_count": 195,
   "id": "50655d95",
   "metadata": {},
   "outputs": [],
   "source": [
    "missing_index = missing_index[['journal_name', 'final_index']].drop_duplicates(subset =\"journal_name\").sort_values(by=['journal_name'])"
   ]
  },
  {
   "cell_type": "code",
   "execution_count": 196,
   "id": "970aecab",
   "metadata": {},
   "outputs": [],
   "source": [
    "missing_index = missing_index.drop_duplicates(subset =\"journal_name\")"
   ]
  },
  {
   "cell_type": "code",
   "execution_count": 197,
   "id": "545b42a2",
   "metadata": {},
   "outputs": [],
   "source": [
    "missing_index['index'] = np.arange(missing_index.shape[0])"
   ]
  },
  {
   "cell_type": "code",
   "execution_count": 198,
   "id": "9f1d9118",
   "metadata": {},
   "outputs": [],
   "source": [
    "missing_index = missing_index.drop(['final_index'], axis=1)"
   ]
  },
  {
   "cell_type": "code",
   "execution_count": 199,
   "id": "38e52290",
   "metadata": {},
   "outputs": [],
   "source": [
    "missing_index['final_index_2'] = missing_index['index']+max(leidiniu_indeksai_visi['final_index'])+1"
   ]
  },
  {
   "cell_type": "code",
   "execution_count": 200,
   "id": "2a13ed5c",
   "metadata": {},
   "outputs": [],
   "source": [
    "missing_index = missing_index.drop(['index'], axis=1)"
   ]
  },
  {
   "cell_type": "markdown",
   "id": "adeb94d6",
   "metadata": {},
   "source": [
    "#### Pavienių leidinių indeksai perkeliami į pagrindinę duomenų lentelę"
   ]
  },
  {
   "cell_type": "code",
   "execution_count": 201,
   "id": "309be7d0",
   "metadata": {},
   "outputs": [],
   "source": [
    "data1 = pd.merge(data1, missing_index, how='left' ,left_on='journal_name', right_on='journal_name')"
   ]
  },
  {
   "cell_type": "code",
   "execution_count": 202,
   "id": "3d57074d",
   "metadata": {},
   "outputs": [],
   "source": [
    "data1[\"final_index\"] = data1[\"final_index\"].fillna(data1[\"final_index_2\"])"
   ]
  },
  {
   "cell_type": "code",
   "execution_count": 203,
   "id": "3cf2b1cc",
   "metadata": {},
   "outputs": [],
   "source": [
    "data1 = data1.drop(['final_index_2', 'match_set'], axis=1)"
   ]
  },
  {
   "cell_type": "markdown",
   "id": "ab1f7c60",
   "metadata": {},
   "source": [
    "#### Originaliai buvusių skirtingų leidinių pavadinimų ir sugrūpuotų santykis"
   ]
  },
  {
   "cell_type": "code",
   "execution_count": 204,
   "id": "51399280",
   "metadata": {},
   "outputs": [
    {
     "data": {
      "text/plain": [
       "1713"
      ]
     },
     "execution_count": 204,
     "metadata": {},
     "output_type": "execute_result"
    }
   ],
   "source": [
    "data1['journal_name'].unique().size"
   ]
  },
  {
   "cell_type": "code",
   "execution_count": 205,
   "id": "4a7f3fc9",
   "metadata": {},
   "outputs": [
    {
     "data": {
      "text/plain": [
       "1254"
      ]
     },
     "execution_count": 205,
     "metadata": {},
     "output_type": "execute_result"
    }
   ],
   "source": [
    "data1['final_index'].unique().size"
   ]
  },
  {
   "cell_type": "code",
   "execution_count": 210,
   "id": "a0d08e05",
   "metadata": {},
   "outputs": [
    {
     "data": {
      "text/plain": [
       "0.7320490367775832"
      ]
     },
     "execution_count": 210,
     "metadata": {},
     "output_type": "execute_result"
    }
   ],
   "source": [
    "(data1['final_index'].unique().size / data1['journal_name'].unique().size)"
   ]
  },
  {
   "cell_type": "markdown",
   "id": "ac654ee6",
   "metadata": {},
   "source": [
    "## Leidinių ir publikacijų duomenų rinkinių sukūrimas"
   ]
  },
  {
   "cell_type": "markdown",
   "id": "61abe087",
   "metadata": {},
   "source": [
    "### Sukurtos DataFrame perkeliamos į csv. failus ir išsaugomos prie duomenų, kad būtų naudojamos tolimesniuose procesuose"
   ]
  },
  {
   "cell_type": "code",
   "execution_count": 211,
   "id": "44b9f269",
   "metadata": {},
   "outputs": [],
   "source": [
    "publikacijos = data1.drop(['journal_number', \n",
    "                           'journal_name_in_foreign_language_1', \n",
    "                           'journal_name_in_foreign_language_2', \n",
    "                           'journal_name_in_foreign_language_3',\n",
    "                           'scopus_sources',\n",
    "                           'SNIP',\n",
    "                           'CiteScore',\n",
    "                           'SJR',\n",
    "                           'quartile_in_caterory',\n",
    "                           'IF',\n",
    "                           'AIF',\n",
    "                           'quartile_in_caterory_2',\n",
    "                           'if_info_years',\n",
    "                           'InCites_JCR'], axis=1)"
   ]
  },
  {
   "cell_type": "code",
   "execution_count": 212,
   "id": "05c4171c",
   "metadata": {},
   "outputs": [],
   "source": [
    "leidiniai = data1.drop(['docs_id',\n",
    "                        'doc_code',\n",
    "                        'pub_year',\n",
    "                        'doi',\n",
    "                        'pages',\n",
    "                        'publication',\n",
    "                        'volume_in_pages',\n",
    "                        'dbases_count',\n",
    "                        'Scopus',\n",
    "                        'SCIE',\n",
    "                        'ICONDA',\n",
    "                        'IndexCopernicus',\n",
    "                        'INSPEC',\n",
    "                        'Academic_Search_Complete',\n",
    "                        'DOAJ',\n",
    "                        'SSCI',\n",
    "                        'VINITI',\n",
    "                        'Business_Source_Complete',\n",
    "                        'other_dbases',\n",
    "                        'res_fields_1',\n",
    "                        'res_fields_2',\n",
    "                        'res_fields_3'], axis=1)"
   ]
  },
  {
   "cell_type": "code",
   "execution_count": 213,
   "id": "18846d4b",
   "metadata": {},
   "outputs": [],
   "source": [
    "#publikacijos.to_csv('publikacijos.csv')"
   ]
  },
  {
   "cell_type": "code",
   "execution_count": 214,
   "id": "037f6622",
   "metadata": {},
   "outputs": [],
   "source": [
    "#leidiniai.to_csv('leidiniai.csv')"
   ]
  },
  {
   "cell_type": "markdown",
   "id": "4530a61b",
   "metadata": {},
   "source": [
    "## Autoriai "
   ]
  },
  {
   "cell_type": "markdown",
   "id": "b2077ce0",
   "metadata": {},
   "source": [
    "#### Įkeliamas autorių failas, kuriame autorių vardai pakeisti į indeksus. Šis procesas buvo atliktas Excel programoje:\n"
   ]
  },
  {
   "cell_type": "markdown",
   "id": "01f14636",
   "metadata": {},
   "source": [
    "– Autorių pavardės peržiūrėtos ir suvienodintos \\\n",
    "– Pašalinti dublikatai \\\n",
    "– Sukurti indeksai "
   ]
  },
  {
   "cell_type": "code",
   "execution_count": 215,
   "id": "6fe5eb3c",
   "metadata": {},
   "outputs": [],
   "source": [
    "authors = pd.read_csv('authors.csv')"
   ]
  },
  {
   "cell_type": "markdown",
   "id": "0c7870d7",
   "metadata": {},
   "source": [
    "#### Apskaičiuojama, kiek kartų kiekvienas autorius pasikartojo duomenų rinkinyje"
   ]
  },
  {
   "cell_type": "code",
   "execution_count": 216,
   "id": "e0e43fbf",
   "metadata": {},
   "outputs": [],
   "source": [
    "authors_count = pd.concat([authors[col] for col in authors.columns]).value_counts().to_frame()"
   ]
  },
  {
   "cell_type": "markdown",
   "id": "ca2f754d",
   "metadata": {},
   "source": [
    "### Autorių bendraautorystės sąrašo sudarymas"
   ]
  },
  {
   "cell_type": "markdown",
   "id": "db8ffff1",
   "metadata": {},
   "source": [
    "#### Nan reikšmės pakeičiamos į 0"
   ]
  },
  {
   "cell_type": "code",
   "execution_count": 217,
   "id": "7a5a16e9",
   "metadata": {},
   "outputs": [],
   "source": [
    "autoriu_sarasas = authors.fillna(0).values.astype(int).tolist()"
   ]
  },
  {
   "cell_type": "markdown",
   "id": "bb7f6394",
   "metadata": {},
   "source": [
    "#### Pašalinami visi 0 iš autorių sąrašų"
   ]
  },
  {
   "cell_type": "code",
   "execution_count": 218,
   "id": "e3c13ad3",
   "metadata": {},
   "outputs": [],
   "source": [
    "bendraautoriai_visi = [[ele for ele in sub if ele != 0] for sub in autoriu_sarasas]"
   ]
  },
  {
   "cell_type": "markdown",
   "id": "2139a5d6",
   "metadata": {},
   "source": [
    "#### Pašalinami visi tušti sąrašai, kurie reiškia, kad publikaciją parašė vienas autorius (nėra bendraautorystės)"
   ]
  },
  {
   "cell_type": "code",
   "execution_count": 219,
   "id": "e2a25ca7",
   "metadata": {},
   "outputs": [],
   "source": [
    "bendraautoriai_poros = [[ele for ele in sub if len(sub) != 1] for sub in bendraautoriai_visi]"
   ]
  },
  {
   "cell_type": "code",
   "execution_count": 220,
   "id": "4effe156",
   "metadata": {},
   "outputs": [],
   "source": [
    "bendraautoriai = list(filter(lambda x: len(x) != 0, bendraautoriai_poros))"
   ]
  },
  {
   "cell_type": "markdown",
   "id": "696aff5a",
   "metadata": {},
   "source": [
    "#### Sąrašai išrikiuojami didėjimo tvarka"
   ]
  },
  {
   "cell_type": "code",
   "execution_count": 221,
   "id": "624f7c29",
   "metadata": {},
   "outputs": [],
   "source": [
    "bendraautoriai_1 = [sorted(i) for i in bendraautoriai]"
   ]
  },
  {
   "cell_type": "markdown",
   "id": "8fc78229",
   "metadata": {},
   "source": [
    "#### Gaunamos visos unikalios autoriu poros"
   ]
  },
  {
   "cell_type": "code",
   "execution_count": 222,
   "id": "6b614dcb",
   "metadata": {},
   "outputs": [],
   "source": [
    "poros = [list(itertools.combinations(i,2)) for i in bendraautoriai_1]"
   ]
  },
  {
   "cell_type": "markdown",
   "id": "ce666135",
   "metadata": {},
   "source": [
    "#### Poros + svoriai"
   ]
  },
  {
   "cell_type": "code",
   "execution_count": 223,
   "id": "a29fe2f6",
   "metadata": {},
   "outputs": [],
   "source": [
    "autoriai_dataframe = pd.DataFrame([i for j in poros for i in j])"
   ]
  },
  {
   "cell_type": "code",
   "execution_count": 224,
   "id": "1cc571bc",
   "metadata": {},
   "outputs": [],
   "source": [
    "edges = autoriai_dataframe.groupby(autoriai_dataframe.columns.tolist(),as_index=False).size()"
   ]
  },
  {
   "cell_type": "code",
   "execution_count": 225,
   "id": "899db176",
   "metadata": {},
   "outputs": [],
   "source": [
    "edges = edges.drop(edges[edges[0] == edges[1]].index)"
   ]
  },
  {
   "cell_type": "code",
   "execution_count": 226,
   "id": "edb109e9",
   "metadata": {},
   "outputs": [
    {
     "data": {
      "text/html": [
       "<div>\n",
       "<style scoped>\n",
       "    .dataframe tbody tr th:only-of-type {\n",
       "        vertical-align: middle;\n",
       "    }\n",
       "\n",
       "    .dataframe tbody tr th {\n",
       "        vertical-align: top;\n",
       "    }\n",
       "\n",
       "    .dataframe thead th {\n",
       "        text-align: right;\n",
       "    }\n",
       "</style>\n",
       "<table border=\"1\" class=\"dataframe\">\n",
       "  <thead>\n",
       "    <tr style=\"text-align: right;\">\n",
       "      <th></th>\n",
       "      <th>0</th>\n",
       "      <th>1</th>\n",
       "      <th>size</th>\n",
       "    </tr>\n",
       "  </thead>\n",
       "  <tbody>\n",
       "    <tr>\n",
       "      <th>0</th>\n",
       "      <td>1</td>\n",
       "      <td>858</td>\n",
       "      <td>1</td>\n",
       "    </tr>\n",
       "    <tr>\n",
       "      <th>1</th>\n",
       "      <td>1</td>\n",
       "      <td>1334</td>\n",
       "      <td>1</td>\n",
       "    </tr>\n",
       "    <tr>\n",
       "      <th>2</th>\n",
       "      <td>1</td>\n",
       "      <td>1728</td>\n",
       "      <td>1</td>\n",
       "    </tr>\n",
       "    <tr>\n",
       "      <th>3</th>\n",
       "      <td>2</td>\n",
       "      <td>8</td>\n",
       "      <td>3</td>\n",
       "    </tr>\n",
       "    <tr>\n",
       "      <th>4</th>\n",
       "      <td>2</td>\n",
       "      <td>17</td>\n",
       "      <td>3</td>\n",
       "    </tr>\n",
       "    <tr>\n",
       "      <th>...</th>\n",
       "      <td>...</td>\n",
       "      <td>...</td>\n",
       "      <td>...</td>\n",
       "    </tr>\n",
       "    <tr>\n",
       "      <th>27651</th>\n",
       "      <td>5511</td>\n",
       "      <td>5519</td>\n",
       "      <td>2</td>\n",
       "    </tr>\n",
       "    <tr>\n",
       "      <th>27652</th>\n",
       "      <td>5525</td>\n",
       "      <td>5540</td>\n",
       "      <td>1</td>\n",
       "    </tr>\n",
       "    <tr>\n",
       "      <th>27653</th>\n",
       "      <td>5541</td>\n",
       "      <td>5545</td>\n",
       "      <td>3</td>\n",
       "    </tr>\n",
       "    <tr>\n",
       "      <th>27654</th>\n",
       "      <td>5542</td>\n",
       "      <td>5546</td>\n",
       "      <td>1</td>\n",
       "    </tr>\n",
       "    <tr>\n",
       "      <th>27655</th>\n",
       "      <td>5544</td>\n",
       "      <td>5546</td>\n",
       "      <td>8</td>\n",
       "    </tr>\n",
       "  </tbody>\n",
       "</table>\n",
       "<p>27633 rows × 3 columns</p>\n",
       "</div>"
      ],
      "text/plain": [
       "          0     1  size\n",
       "0         1   858     1\n",
       "1         1  1334     1\n",
       "2         1  1728     1\n",
       "3         2     8     3\n",
       "4         2    17     3\n",
       "...     ...   ...   ...\n",
       "27651  5511  5519     2\n",
       "27652  5525  5540     1\n",
       "27653  5541  5545     3\n",
       "27654  5542  5546     1\n",
       "27655  5544  5546     8\n",
       "\n",
       "[27633 rows x 3 columns]"
      ]
     },
     "execution_count": 226,
     "metadata": {},
     "output_type": "execute_result"
    }
   ],
   "source": [
    "edges"
   ]
  },
  {
   "cell_type": "markdown",
   "id": "102cf29c",
   "metadata": {},
   "source": [
    "#### Apskaičiuojama, kiek yra unikalių bendraautorystės porų"
   ]
  },
  {
   "cell_type": "code",
   "execution_count": 227,
   "id": "53b3f64f",
   "metadata": {},
   "outputs": [
    {
     "data": {
      "text/plain": [
       "27633"
      ]
     },
     "execution_count": 227,
     "metadata": {},
     "output_type": "execute_result"
    }
   ],
   "source": [
    "edges.groupby([0, 1]).ngroups"
   ]
  },
  {
   "cell_type": "markdown",
   "id": "db5ef74f",
   "metadata": {},
   "source": [
    "#### Gauta DataFrame išsaugoma kaip atskiras failas, kuris, naudojamas grafo kūrimui. Pridedamas papildomas stulpelis, kuriame nurodoma, kad grafas nėra orientuotas (Undirected), nes bendraautorystė yra lygi abiejomis kryptimis"
   ]
  },
  {
   "cell_type": "markdown",
   "id": "d8ee1613",
   "metadata": {},
   "source": [
    "## Autoriai IKI 20 BENDRADARBIAVIMO"
   ]
  },
  {
   "cell_type": "markdown",
   "id": "4b2e8c75",
   "metadata": {},
   "source": [
    "#### Kuriamas analogiškas autorių bendradarbiavimo sąrašas, tačiau jame pašalintos išskirtys: 6 publikacijos, kurių autorių skaičius >= 20"
   ]
  },
  {
   "cell_type": "markdown",
   "id": "32d4c80f",
   "metadata": {},
   "source": [
    "#### Įkeliamas autorių failas, kuriame autorių vardai pakeisti į indeksus"
   ]
  },
  {
   "cell_type": "code",
   "execution_count": 228,
   "id": "b8de9ab5",
   "metadata": {},
   "outputs": [],
   "source": [
    "authors_adj = pd.read_csv('authors_adjusted.csv')"
   ]
  },
  {
   "cell_type": "markdown",
   "id": "a28ba5e9",
   "metadata": {},
   "source": [
    "#### Apskaičiuojama, kiek kartų kiekvienas autorius pasikartojo duomenų rinkinyje"
   ]
  },
  {
   "cell_type": "code",
   "execution_count": 229,
   "id": "0c2a1fe3",
   "metadata": {},
   "outputs": [],
   "source": [
    "authors_count_adj = pd.concat([authors_adj[col] for col in authors_adj.columns]).value_counts().to_frame()"
   ]
  },
  {
   "cell_type": "markdown",
   "id": "e3c6e061",
   "metadata": {},
   "source": [
    "#### Nan reikšmės pakeičiamos į 0"
   ]
  },
  {
   "cell_type": "code",
   "execution_count": 230,
   "id": "00962995",
   "metadata": {},
   "outputs": [],
   "source": [
    "autoriu_sarasas_adj = authors_adj.fillna(0).values.astype(int).tolist()"
   ]
  },
  {
   "cell_type": "markdown",
   "id": "a6714ea5",
   "metadata": {},
   "source": [
    "#### Pašalinami visi 0 iš autorių sąrašų"
   ]
  },
  {
   "cell_type": "code",
   "execution_count": 231,
   "id": "5e71db9f",
   "metadata": {},
   "outputs": [],
   "source": [
    "bendraautoriai_visi_adj = [[ele for ele in sub if ele != 0] for sub in autoriu_sarasas_adj]"
   ]
  },
  {
   "cell_type": "markdown",
   "id": "20387993",
   "metadata": {},
   "source": [
    "#### Pašalinami visi tušti sąrašai, kurie reiškia, kad publikaciją parašė vienas autorius (nėra bendraautorystės)"
   ]
  },
  {
   "cell_type": "code",
   "execution_count": 232,
   "id": "7fc7cffb",
   "metadata": {},
   "outputs": [],
   "source": [
    "bendraautoriai_poros_adj = [[ele for ele in sub if len(sub) != 1] for sub in bendraautoriai_visi_adj]"
   ]
  },
  {
   "cell_type": "code",
   "execution_count": 233,
   "id": "401fd2e7",
   "metadata": {},
   "outputs": [],
   "source": [
    "bendraautoriai_adj = list(filter(lambda x: len(x) != 0, bendraautoriai_poros_adj))"
   ]
  },
  {
   "cell_type": "markdown",
   "id": "93fa784a",
   "metadata": {},
   "source": [
    "#### Sąrašai išrikiuojami didėjimo tvarka"
   ]
  },
  {
   "cell_type": "code",
   "execution_count": 234,
   "id": "65dedc8e",
   "metadata": {},
   "outputs": [],
   "source": [
    "bendraautoriai_1_adj = [sorted(i) for i in bendraautoriai_adj]"
   ]
  },
  {
   "cell_type": "markdown",
   "id": "a2bb5d29",
   "metadata": {},
   "source": [
    "#### Gaunamos visos unikalios autoriu poros"
   ]
  },
  {
   "cell_type": "code",
   "execution_count": 235,
   "id": "3797d26f",
   "metadata": {},
   "outputs": [],
   "source": [
    "poros_adj = [list(itertools.combinations(i,2)) for i in bendraautoriai_1_adj]"
   ]
  },
  {
   "cell_type": "markdown",
   "id": "f67ef452",
   "metadata": {},
   "source": [
    "#### Poros + svoriai"
   ]
  },
  {
   "cell_type": "code",
   "execution_count": 236,
   "id": "af8fa395",
   "metadata": {},
   "outputs": [],
   "source": [
    "autoriai_dataframe_adj = pd.DataFrame([i for j in poros_adj for i in j])"
   ]
  },
  {
   "cell_type": "code",
   "execution_count": 237,
   "id": "36078728",
   "metadata": {},
   "outputs": [],
   "source": [
    "edges_adj = autoriai_dataframe_adj.groupby(autoriai_dataframe_adj.columns.tolist(),as_index=False).size()"
   ]
  },
  {
   "cell_type": "code",
   "execution_count": 238,
   "id": "b35b09af",
   "metadata": {},
   "outputs": [],
   "source": [
    "edges_adj = edges_adj.drop(edges_adj[edges_adj[0] == edges_adj[1]].index)"
   ]
  },
  {
   "cell_type": "markdown",
   "id": "7530f104",
   "metadata": {},
   "source": [
    "#### Apskaičiuojama, kiek yra unikalių bendraautorystės porų"
   ]
  },
  {
   "cell_type": "code",
   "execution_count": 239,
   "id": "7a13efee",
   "metadata": {},
   "outputs": [
    {
     "data": {
      "text/plain": [
       "19275"
      ]
     },
     "execution_count": 239,
     "metadata": {},
     "output_type": "execute_result"
    }
   ],
   "source": [
    "edges_adj.groupby([0, 1]).ngroups"
   ]
  },
  {
   "cell_type": "code",
   "execution_count": null,
   "id": "af4cc27e",
   "metadata": {},
   "outputs": [],
   "source": []
  }
 ],
 "metadata": {
  "kernelspec": {
   "display_name": "Python 3 (ipykernel)",
   "language": "python",
   "name": "python3"
  },
  "language_info": {
   "codemirror_mode": {
    "name": "ipython",
    "version": 3
   },
   "file_extension": ".py",
   "mimetype": "text/x-python",
   "name": "python",
   "nbconvert_exporter": "python",
   "pygments_lexer": "ipython3",
   "version": "3.9.5"
  }
 },
 "nbformat": 4,
 "nbformat_minor": 5
}
